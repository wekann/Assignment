{
  "nbformat": 4,
  "nbformat_minor": 0,
  "metadata": {
    "colab": {
      "provenance": [],
      "include_colab_link": true
    },
    "kernelspec": {
      "name": "python3",
      "display_name": "Python 3"
    },
    "language_info": {
      "name": "python"
    }
  },
  "cells": [
    {
      "cell_type": "markdown",
      "metadata": {
        "id": "view-in-github",
        "colab_type": "text"
      },
      "source": [
        "<a href=\"https://colab.research.google.com/github/wekann/Assignment/blob/main/asignment2.ipynb\" target=\"_parent\"><img src=\"https://colab.research.google.com/assets/colab-badge.svg\" alt=\"Open In Colab\"/></a>"
      ]
    },
    {
      "cell_type": "code",
      "execution_count": null,
      "metadata": {
        "id": "MsfiFxFHUHK5"
      },
      "outputs": [],
      "source": [
        "# Q1) EXPLAIN THE IMPORTANCE OF FUNCTION\n",
        "# -> A function is nothing more than a block of code.\n",
        "#    One of the best reasons to write Python functions is to separate reusable code from the core app so you don't repeat yourself.\n",
        "#    A classic example of a chunk of reusable code turned into a function is one that calculates the square of a number."
      ]
    },
    {
      "cell_type": "code",
      "source": [
        "# Q2) WRITE A BASIC FUNCTION TO GREET STUDENTS.\n",
        "def greet(yo):\n",
        "    print(\"GOOD MORNING STUDENTS....!\")\n",
        "    raw_input(name)\n",
        "    return yo + name"
      ],
      "metadata": {
        "id": "0oWNBP5cWmLL"
      },
      "execution_count": null,
      "outputs": []
    },
    {
      "cell_type": "code",
      "source": [
        "# Q4) WHAT ARE *args AND **kwargs?\n",
        "#-> The special syntax *args in function definitions in Python is used to pass a variable number of arguments to a function.\n",
        "#   It is used to pass a non-keyworded, variable-length argument list.\n",
        "#   The syntax is to use the symbol * to take in a variable number of arguments; by convention, it is often used with the word args.\n",
        "#   For example, we want to make a multiply function that takes any number of arguments and is able to multiply them all together. It can be done using *args.\n",
        "#   Using the *, the variable that we associate with the * becomes iterable meaning you can do things like iterate over it, run some higher-order functions such as map and filter, etc."
      ],
      "metadata": {
        "id": "ICKCuRbNYfem"
      },
      "execution_count": null,
      "outputs": []
    },
    {
      "cell_type": "code",
      "source": [
        "# Q3) WHAT IS THE DIFFERENCE BETWEEN PRINT AND RETURN STATEMEMTS?\n",
        "#-> In Python, we may use the print statements to display the final output of a code on the console,\n",
        "#   whereas the return statement returns a final value of a function execution which may be used further in the code.\n",
        "#   In this article, we will learn about Python return and print statements.\n",
        "#   Python return statement is used to exit the function and return a value.\n",
        "#   The return keyword is used to specify a value that a function should return when a function is called.\n",
        "#   It performs some calculations or operations and then returns the value or a set of values to the calling code."
      ],
      "metadata": {
        "id": "3L-9iD8BbDvq"
      },
      "execution_count": null,
      "outputs": []
    },
    {
      "cell_type": "code",
      "source": [
        "# Q5) EXPLAIN THE ITERATION FUNCTION .\n",
        "#-> In Python, an iterator is an object that allows you to iterate over collections of data,\n",
        "#   such as lists, tuples, dictionaries, and sets.\n",
        "#   Python iterators implement the iterator design pattern, which allows you to traverse a container and access its elements."
      ],
      "metadata": {
        "id": "1ZM2u4j-d0gV"
      },
      "execution_count": null,
      "outputs": []
    },
    {
      "cell_type": "code",
      "source": [
        "# Q6) WRITE A CODE THAT GENERATES THE SUQARE OF NUMBERS FROM 1 TO N USING A GENERATOR.\n",
        "square = list(x**2 for x in range(0,11))\n",
        "print(square)"
      ],
      "metadata": {
        "colab": {
          "base_uri": "https://localhost:8080/"
        },
        "id": "uEdfiNyye9mU",
        "outputId": "e606a6bc-760b-4120-eb0f-ff110c068a15"
      },
      "execution_count": null,
      "outputs": [
        {
          "output_type": "stream",
          "name": "stdout",
          "text": [
            "[0, 1, 4, 9, 16, 25, 36, 49, 64, 81, 100]\n"
          ]
        }
      ]
    },
    {
      "cell_type": "code",
      "source": [
        "# Q7) WRITE A CODE THAT GENERATES PALINDROME NUMBERS UP TO N USING A GENERATOR.\n",
        "def is_palindrome(n):\n",
        "    return str(n) == str(n)[::-1]\n",
        "def next_palindrome(start):\n",
        "    num = start + 1\n",
        "    while True:\n",
        "        if is_palindrome(num):\n",
        "            yield num\n",
        "        num += 1\n",
        "n = int(input(\"Input a number: \"))\n",
        "palindrome_gen = next_palindrome(n)\n",
        "next_palindrome_num = next(palindrome_gen)\n",
        "print(\"Next palindrome number after\", n, \"is:\", next_palindrome_num)"
      ],
      "metadata": {
        "id": "x2da4SlNnSVv"
      },
      "execution_count": null,
      "outputs": []
    },
    {
      "cell_type": "code",
      "source": [
        "# Q8) WRITE A CODE THAT GENERATES ENEN NUMBERS FROM 2 TO N USING A GENERATOR.\n",
        "even_numbers = list(range(0, 50, 2))\n",
        "print(even_numbers)"
      ],
      "metadata": {
        "colab": {
          "base_uri": "https://localhost:8080/"
        },
        "id": "LZ5GS6zlsJ7x",
        "outputId": "d27e01ec-7f5f-4112-c7db-657ab954ede4"
      },
      "execution_count": null,
      "outputs": [
        {
          "output_type": "stream",
          "name": "stdout",
          "text": [
            "[0, 2, 4, 6, 8, 10, 12, 14, 16, 18, 20, 22, 24, 26, 28, 30, 32, 34, 36, 38, 40, 42, 44, 46, 48]\n"
          ]
        }
      ]
    },
    {
      "cell_type": "code",
      "source": [
        "# Q9) WRITE A CODE THAT GENERATES POWER OF TWO UP TO N USING A GENERATOR.\n",
        "def power_of_two(n):\n",
        "  power = 0\n",
        "  while power<=n:\n",
        "    yield 2**power\n",
        "    power+=1\n",
        "\n",
        "    n= 5\n",
        "    power_generator = power_of_two(n)\n",
        "    for power in power_generator:\n",
        "       print(power)"
      ],
      "metadata": {
        "id": "0fXXGA4LvVyA"
      },
      "execution_count": null,
      "outputs": []
    },
    {
      "cell_type": "code",
      "source": [
        "# Q10) WRITE A CODE THAT GENERATES PRIME NUMBERS UP TO N USING A GENERATOR.\n",
        "def is_prime(num):\n",
        "    if num < 2:\n",
        "        return False\n",
        "    for i in range(2, int(num ** 0.5) + 1):\n",
        "        if num % i == 0:\n",
        "            return False\n",
        "    return True\n",
        "\n",
        "def generate_primes(n):\n",
        "    for num in range(2, n + 1):\n",
        "        if is_prime(num):\n",
        "            yield num\n",
        "\n",
        "# Example usage:\n",
        "n = int(input(\"Enter the limit (n): \"))\n",
        "print(\"Prime numbers up to\", n, \":\")\n",
        "for prime in generate_primes(n):\n",
        "    print(prime, end=\" \")"
      ],
      "metadata": {
        "id": "SQsKF6othZw7"
      },
      "execution_count": null,
      "outputs": []
    },
    {
      "cell_type": "code",
      "source": [
        "# Q11) WRITE A CODE THAT USES A LAMBDA FUNCTION TO CALCULATE THE SUM OF TWO NUMBERS.\n",
        "sum_function = lambda a, b: a + b\n",
        "num1 = 5\n",
        "num2 = 7\n",
        "result = sum_function(num1, num2)\n",
        "print(\"The sum of\", num1, \"and\", num2, \"is:\", result)"
      ],
      "metadata": {
        "id": "XGUkhTm0iPdk"
      },
      "execution_count": null,
      "outputs": []
    },
    {
      "cell_type": "code",
      "source": [
        "# Q12) WRITE A CODE THAT USES A LAMBDA FUNCTION TO CALCULATE THE SQUARE OF A GIVEN NUMBERS.\n",
        "square_function = lambda x: x ** 2\n",
        "number = 5\n",
        "result = square_function(number)\n",
        "print(\"The square of\", number, \"is:\", result)"
      ],
      "metadata": {
        "id": "2CJLNKWDi7yJ"
      },
      "execution_count": null,
      "outputs": []
    },
    {
      "cell_type": "code",
      "source": [
        "# Q13) WRITE A CODE THAT USES A LAMBDA FUNCTION TO CHECK WHETHER THE GIVEN NUMBER IS EVEN OR ODD.\n",
        "is_even = lambda x: x % 2 == 0\n",
        "number = 7\n",
        "if is_even(number):\n",
        "    print(number, \"is even.\")\n",
        "else:\n",
        "    print(number, \"is odd.\")"
      ],
      "metadata": {
        "id": "t3n2P6AgjWy8"
      },
      "execution_count": null,
      "outputs": []
    },
    {
      "cell_type": "code",
      "source": [
        "# Q15) WRITE A CODE THAT USES A LAMBFA FUNCTION TO CONCATENATE TWO STRINGS.\n",
        "concatenate_strings = lambda str1, str2: str1 + str2\n",
        "string1 = \"Hello, \"\n",
        "string2 = \"world!\"\n",
        "result = concatenate_strings(string1, string2)\n",
        "print(\"Concatenated string:\", result)"
      ],
      "metadata": {
        "id": "plJuz9cjj5Dd"
      },
      "execution_count": null,
      "outputs": []
    },
    {
      "cell_type": "code",
      "source": [
        "# Q16) WRITE A CODE THAT USES A LAMBDA FUNCTION TO FIND THE MAXIMUM OF THREE GIVEN NUMBERS.\n",
        "find_max = lambda x, y, z: max(x, y, z)\n",
        "number1 = 10\n",
        "number2 = 25\n",
        "number3 = 17\n",
        "max_number = find_max(number1, number2, number3)\n",
        "print(\"The maximum of\", number1, \",\", number2, \"and\", number3, \"is:\", max_number)"
      ],
      "metadata": {
        "id": "uhrRTKGXkzX2"
      },
      "execution_count": null,
      "outputs": []
    },
    {
      "cell_type": "code",
      "source": [
        "# Q17) WRITE A CODE THAT GENERATES THE SQUARE OF EVEN NUMBERS FROM A GIVEN LIST.\n",
        "numbers = [1, 2, 3, 4, 5, 6, 7, 8, 9, 10]\n",
        "even_squares = list(map(lambda x: x ** 2, filter(lambda x: x % 2 == 0, numbers)))\n",
        "print(\"The square of even numbers in the list:\", even_squares)"
      ],
      "metadata": {
        "id": "DI-Op4lBlbOf"
      },
      "execution_count": null,
      "outputs": []
    },
    {
      "cell_type": "code",
      "source": [
        "# Q18) WRITE A CODE THAT CALCULATES THE PRODUCT OF POSITIVE NUMBERS FROM A GIVEN LIST.\n",
        "numbers = [1, -2, 3, -4, 5, -6, 7, -8, 9, -10]\n",
        "product_of_positives = 1\n",
        "for num in filter(lambda x: x > 0, numbers):\n",
        "    product_of_positives *= num\n",
        "print(\"The product of positive numbers in the list:\", product_of_positives)"
      ],
      "metadata": {
        "id": "VLpijJ03l55E"
      },
      "execution_count": null,
      "outputs": []
    },
    {
      "cell_type": "code",
      "source": [
        "# Q19) WRITE A CODE THAT DOUBLES THE VALUES OF ODD NUMBERS FROM A GIVEN LIST.\n",
        "numbers = [1, 2, 3, 4, 5, 6, 7, 8, 9, 10]\n",
        "doubled_odd_numbers = list(map(lambda x: x * 2 if x % 2 != 0 else x, numbers))\n",
        "print(\"List with values of odd numbers doubled:\", doubled_odd_numbers)"
      ],
      "metadata": {
        "id": "QW6vAd63mW_q"
      },
      "execution_count": null,
      "outputs": []
    },
    {
      "cell_type": "code",
      "source": [
        "# Q20) WRITE A CODE THAT CALCULATES THE SUM OF CUBES OF NUMBERS FROM A GIVEN LIST.\n",
        "numbers = [1, 2, 3, 4, 5]\n",
        "sum_of_cubes = sum(map(lambda x: x ** 3, numbers))\n",
        "print(\"The sum of cubes of numbers in the list:\", sum_of_cubes)"
      ],
      "metadata": {
        "id": "Iqisb1Trm03t"
      },
      "execution_count": null,
      "outputs": []
    },
    {
      "cell_type": "code",
      "source": [
        "# Q21) WRITE A CODE THAT FILTERS OUT PRIME NUMBERS FROM A GIVEN LIST.\n",
        "def is_prime(n):\n",
        "    if n < 2:\n",
        "        return False\n",
        "    for i in range(2, int(n ** 0.5) + 1):\n",
        "        if n % i == 0:\n",
        "            return False\n",
        "    return True\n",
        "numbers = [1, 2, 3, 4, 5, 6, 7, 8, 9, 10]\n",
        "prime_numbers = list(filter(is_prime, numbers))\n",
        "print(\"Prime numbers from the given list:\", prime_numbers)"
      ],
      "metadata": {
        "id": "FzYGOfwxnUkm"
      },
      "execution_count": null,
      "outputs": []
    },
    {
      "cell_type": "code",
      "source": [
        "# Q22) WRITE A CODE THAT USES A LAMBDA FUNCTION TO CALCULATE THE SUM OF TWO NUMBERS.\n",
        "sum_function = lambda a, b: a + b\n",
        "num1 = 5\n",
        "num2 = 7\n",
        "result = sum_function(num1, num2)\n",
        "print(\"The sum of\", num1, \"and\", num2, \"is:\", result)"
      ],
      "metadata": {
        "id": "CKrbxVLCoMUk"
      },
      "execution_count": null,
      "outputs": []
    },
    {
      "cell_type": "code",
      "source": [
        "# Q23) WRITE A CODE THAT USES A LAMBDA FUNCTION TO CALCULATE THE SQUARE OF A GIVEN NUMBERS.\n",
        "square_function = lambda x: x ** 2\n",
        "number = 5\n",
        "result = square_function(number)\n",
        "print(\"The square of\", number, \"is:\", result)"
      ],
      "metadata": {
        "id": "GpeALnEKpJ7F"
      },
      "execution_count": null,
      "outputs": []
    },
    {
      "cell_type": "code",
      "source": [
        "# Q24)WRITE A CODE THAT USES A LAMBDA FUNCTION TO CHECK WHETHER THE GIVEN NUMBER IS EVEN OR ODD.\n",
        "is_even = lambda x: x % 2 == 0\n",
        "number = 7\n",
        "if is_even(number):\n",
        "    print(number, \"is even.\")\n",
        "else:\n",
        "    print(number, \"is odd.\")"
      ],
      "metadata": {
        "id": "eeZ9zUL8pRMe"
      },
      "execution_count": null,
      "outputs": []
    },
    {
      "cell_type": "code",
      "source": [
        "# Q25) WRITE A CODE THAT USES A LAMBFA FUNCTION TO CONCATENATE TWO STRINGS.\n",
        "concatenate_strings = lambda str1, str2: str1 + str2\n",
        "string1 = \"Hello, \"\n",
        "string2 = \"world!\"\n",
        "result = concatenate_strings(string1, string2)\n",
        "print(\"Concatenated string:\", result)"
      ],
      "metadata": {
        "id": "pRDE3rG5pZ-O"
      },
      "execution_count": null,
      "outputs": []
    },
    {
      "cell_type": "code",
      "source": [
        "# Q26) WRITE A CODE THAT USES A LAMBDA FUNCTION TO FIND THE MAXIMUM OF THREE GIVEN NUMBERS.\n",
        "find_max = lambda x, y, z: max(x, y, z)\n",
        "number1 = 10\n",
        "number2 = 25\n",
        "number3 = 17\n",
        "max_number = find_max(number1, number2, number3)\n",
        "print(\"The maximum of\", number1, \",\", number2, \"and\", number3, \"is:\", max_number)"
      ],
      "metadata": {
        "id": "ymU2TjQ_phZo"
      },
      "execution_count": null,
      "outputs": []
    },
    {
      "cell_type": "code",
      "source": [
        "# Q27) WHAT IS ENCAPSULATION IN OOP?\n",
        "# Encapsulation is one of the fundamental principles of Object-Oriented Programming (OOP). It refers to the bundling of data (attributes or properties) and methods (functions or procedures) that operate on the data into a single unit called a class. In encapsulation, the internal state of an object is hidden from the outside world, and access to it is restricted to methods of the class.\n",
        "# Encapsulation provides several benefits:\n",
        "# Data Hiding: The internal state of an object is hidden from the outside world, preventing direct access to it. This helps in preventing accidental modification or misuse of data.\n",
        "# Abstraction: Encapsulation allows the internal details of how an object works to be hidden, and only the necessary information is exposed to the outside world. This simplifies the usage of objects and makes the code more understandable and maintainable.\n",
        "# Modularity: Encapsulation promotes modularity by encapsulating related data and methods into a single unit (class). This makes the code easier to manage and understand, and it facilitates code reuse.\n",
        "# Security: By restricting direct access to data, encapsulation provides a level of security. Access to the data is controlled through methods, allowing for validation and access control mechanisms to be implemented.\n",
        "# In summary, encapsulation is a key concept in OOP that promotes data hiding, abstraction, modularity, and security, leading to more robust and maintainable software systems."
      ],
      "metadata": {
        "id": "TOWB3KXaprrB"
      },
      "execution_count": null,
      "outputs": []
    },
    {
      "cell_type": "code",
      "source": [
        "# Q28) EXPLAIN THE USE OF ACCESS MODIFIERS IN PYTHON CLASSES.\n",
        "# In Python, access modifiers are not implemented in the same way as in some other programming languages like Java or C++. However, Python does have mechanisms for controlling access to attributes and methods of a class, though they are more based on conventions rather than strict enforcement by the language itself.\n",
        "# Here are some common practices used in Python for controlling access to attributes and methods:\n",
        "# Public Access: By default, all attributes and methods in a Python class are considered public and can be accessed from outside the class.\n",
        "# Protected Access: Conventionally, attributes and methods prefixed with a single underscore _ are considered protected. This indicates that they are intended for internal use within the class or its subclasses. Although they can still be accessed from outside the class, it's considered a best practice not to do so, as it signals to other developers that the attribute or method is intended for internal use.\n",
        "# Private Access: Conventionally, attributes and methods prefixed with a double underscore __ are considered private. This indicates that they are intended to be accessed only within the class itself and not from outside. Python performs name mangling on such attributes, making them harder to access from outside the class"
      ],
      "metadata": {
        "id": "aOfDMJBmrCi2"
      },
      "execution_count": null,
      "outputs": []
    },
    {
      "cell_type": "code",
      "source": [
        "# Q29) WHAT IS INHERITANCE IN OOPS?\n",
        "Inheritance is a fundamental concept in Object-Oriented Programming (OOP) that allows a new class (called the derived class or subclass) to inherit attributes and methods from an existing class (called the base class, parent class, or superclass). Inheritance enables code reusability and promotes the creation of hierarchical relationships between classes.\n",
        "Here are some key points about inheritance:\n",
        "Base Class (Superclass): The class whose attributes and methods are inherited is called the base class or superclass. It serves as a blueprint for creating derived classes.\n",
        "Derived Class (Subclass): The class that inherits attributes and methods from the base class is called the derived class or subclass. It can add new attributes and methods, modify existing ones, or inherit them as is.\n",
        "Syntax: In Python, inheritance is implemented using the following syntax:\n",
        "class BaseClass:\n",
        "\n",
        "class DerivedClass(BaseClass):\n",
        "\n",
        "Access to Base Class Members: The derived class has access to all public and protected attributes and methods of the base class. However, private members of the base class are not accessible directly from the derived class.\n",
        "Types of Inheritance:\n",
        "Single Inheritance: A derived class inherits from only one base class.\n",
        "Multiple Inheritance: A derived class inherits from multiple base classes.\n",
        "Multilevel Inheritance: A derived class is created from another derived class.\n",
        "Hierarchical Inheritance: Multiple derived classes inherit from the same base class.\n",
        "Hybrid Inheritance: Combination of multiple types of inheritance.\n",
        "Method Overriding: Inheritance allows a derived class to override (redefine) methods of the base class with its own implementation. This allows for customization and specialization of behavior in derived classes.\n",
        "Inheritance facilitates code reuse, promotes modularity, and helps in building more maintainable and scalable software systems by organizing classes into a hierarchy based on their relationships and functionalities."
      ],
      "metadata": {
        "id": "Q75d26Iy5QTd"
      },
      "execution_count": null,
      "outputs": []
    },
    {
      "cell_type": "code",
      "source": [
        "# Q30) DEFINE POLYMORPHISM IN OOPS?\n",
        "Polymorphism is a fundamental concept in Object-Oriented Programming (OOP) that allows objects of different classes to be treated as objects of a common superclass. It enables a single interface to be used for different data types or objects, providing flexibility and extensibility in software design"
      ],
      "metadata": {
        "id": "1A0JMHVl54Om"
      },
      "execution_count": null,
      "outputs": []
    },
    {
      "cell_type": "code",
      "source": [
        "# Q31) EXPLAIN METHOD OVERRIDING IN PYTHON.\n",
        "Method overriding in Python refers to the ability of a subclass to provide a specific implementation of a method that is already defined in its superclass.\n",
        "This allows the subclass to customize or extend the behavior of the inherited method without modifying the superclass itself.\n",
        "Method overriding is a form of run-time polymorphism, where the decision of which method to execute is determined at runtime based on the type of the object\n",
        "Here's how method overriding works in Python:\n",
        "\n",
        "Inheritance: Method overriding requires inheritance, where a subclass inherits a method from its superclass.\n",
        "Method Signature: The method in the subclass that is intended to override the method in the superclass must have the same name and signature (i.e., the same number and type of parameters).\n",
        "Override: The subclass provides its own implementation of the method with the same name as the method in the superclass. This implementation can be completely different from the one in the superclass or can enhance/modify the behavior of the superclass method.\n",
        "Super(): Inside the overridden method in the subclass, the super() function can be used to call the overridden method of the superclass and access its functionality if needed.\n",
        "Here's a simple example demonstrating method overriding in Python:\n",
        "class Animal:\n",
        "    def make_sound(self):\n",
        "        print(\"Generic sound\")\n",
        "class Dog(Animal):\n",
        "    def make_sound(self):\n",
        "        print(\"Woof\")\n",
        "class Cat(Animal):\n",
        "    def make_sound(self):\n",
        "        print(\"Meow\")\n",
        "dog = Dog()\n",
        "cat = Cat()\n",
        "dog.make_sound()\n",
        "cat.make_sound()"
      ],
      "metadata": {
        "id": "iU1XUdB_6PZX"
      },
      "execution_count": null,
      "outputs": []
    },
    {
      "cell_type": "code",
      "source": [
        "# Q32) DEFINE A PARENT CLASS ANIMAL WITH A METHOD MAKE_SOUND THAT PRINTS:\"GENERIC ANIMAL SOUND\".\n",
        "#      CREATE A CHILD CLASS DOG INHERITING FROM ANIMAL WITH A METHOD MAKE_SOUND THAT PRINTS\"WOOF!\".\n",
        "class Animal:\n",
        "    def make_sound(self):\n",
        "        print(\"Generic sound\")\n",
        "class Dog(Animal):\n",
        "    def make_sound(self):\n",
        "        print(\"Woof\")\n",
        "dog = Dog()\n",
        "dog.make_sound()"
      ],
      "metadata": {
        "id": "8vlX1wg77n0l"
      },
      "execution_count": null,
      "outputs": []
    },
    {
      "cell_type": "code",
      "source": [
        "# Q33) DEFINE A METHOD MOVE IN THE ANIMAL CLASS THAT PRINTS \"ANIMAL MOVES\".OVERRIDE THE MOVE METHOD IN THE DOG CLASS TO PRINT \"DOG RUNS\"\n",
        "class Animal:\n",
        "    def move(self):\n",
        "        print(\"Animal moves\")\n",
        "class Dog(Animal):\n",
        "    def move(self):\n",
        "        print(\"Dog runs\")\n",
        "animal = Animal()\n",
        "dog = Dog()\n",
        "animal.move()\n",
        "dog.move()\n"
      ],
      "metadata": {
        "id": "z09qI0y698QL"
      },
      "execution_count": null,
      "outputs": []
    },
    {
      "cell_type": "code",
      "source": [
        "# Q34) CREATE A CLASS MAMMAL WITH A METHOD REPRODUCE THAT PRINTS \"GIVING BIRTH TO LIVE YOUNG\".\n",
        "# CREATE A CLASS  DOGMAMMAL INHERITING FROM BOTH DOG AND MAMMAL.\n",
        " class Mammal:\n",
        "    def reproduce(self):\n",
        "        print(\"Giving birth to live young\")\n",
        "class Dog:\n",
        "    def move(self):\n",
        "        print(\"Dog runs\")\n",
        "class DogMammal(Dog, Mammal):\n",
        "    pass\n",
        "dog_mammal = DogMammal()\n",
        "dog_mammal.reproduce()"
      ],
      "metadata": {
        "id": "CAxjRmxK-_0I"
      },
      "execution_count": null,
      "outputs": []
    },
    {
      "cell_type": "code",
      "source": [
        "# Q35) CREATE A CLASS GERMANSHEPHARD INHERITING FROM DOG AND OVERRIDE THE MAKE_SOUND METHOD TO PRINT \"BARK!\"\n",
        "class Dog:\n",
        "    def make_sound(self):\n",
        "        print(\"Generic dog sound\")\n",
        "class GermanShepherd(Dog):\n",
        "    def make_sound(self):\n",
        "        print(\"Bark!\")\n",
        "german_shepherd = GermanShepherd()\n",
        "german_shepherd.make_sound()"
      ],
      "metadata": {
        "id": "xlmFIhfIEtCQ"
      },
      "execution_count": null,
      "outputs": []
    },
    {
      "cell_type": "code",
      "source": [
        "# Q36) DEFINE CONSTRUCTORS IN BOTH THE ANIMAL AND DOG CLASSES WITH DIFFERENT INITIALIZATION PARAMETERS.\n",
        "class Animal:\n",
        "    def __init__(self, species):\n",
        "        self.species = species\n",
        "    def reproduce(self):\n",
        "        print(\"Giving birth to live young\")\n",
        "class Dog:\n",
        "    def __init__(self, breed):\n",
        "        self.breed = breed\n",
        "    def move(self):\n",
        "        print(\"Dog runs\")\n",
        "animal = Animal(\"Mammal\")\n",
        "dog = Dog(\"German Shepherd\")\n",
        "print(\"Animal species:\", animal.species)\n",
        "print(\"Dog breed:\", dog.breed)"
      ],
      "metadata": {
        "id": "U0CcGYrvFfLD"
      },
      "execution_count": null,
      "outputs": []
    },
    {
      "cell_type": "code",
      "source": [
        "# Q37) WHAT IS ABSTRACTION IN PYTHON? HOW IS IT IMPLEMENTED?\n",
        "\n",
        "Abstraction in Python is the concept of hiding complex implementation details and showing only the essential features of an object.\n",
        "It allows us to focus on what an object does rather than how it does it.\n",
        "Abstraction helps in reducing complexity and managing large codebases by providing a clear and simplified interface to interact with objects.\n",
        "Abstraction is implemented in Python using classes and objects.\n",
        "Here's how abstraction is achieved in Python:\n",
        "Classes: Classes serve as blueprints for creating objects. They encapsulate data (attributes) and behavior (methods) into a single unit. By defining classes, you can abstract away the implementation details and expose only the necessary features to the user.\n",
        "Encapsulation: Encapsulation is another important concept that contributes to abstraction. It involves bundling the data and methods together within a class and restricting access to the internal state of objects. This hides the complexity of the implementation and provides a clean interface for interacting with objects.\n",
        "Access Modifiers: Python does not have built-in access modifiers like some other programming languages (e.g., private, protected, public). However, naming conventions such as prefixing attributes or methods with a single underscore _ (protected) or double underscore __ (private) can be used to indicate the intended visibility of members. This helps in achieving abstraction by indicating which members are meant to be used internally within the class and which are meant to be exposed to the outside world.\n",
        "Abstract Base Classes (ABCs): Python provides the abc module, which allows you to define abstract base classes. Abstract base classes can have abstract methods that must be implemented by concrete subclasses. This helps in enforcing a common interface across multiple classes and promoting code consistency and reliability.\n",
        "Interfaces: Although Python does not have built-in support for interfaces like some other languages, abstract base classes can be used to define interfaces. By defining abstract methods in base classes and requiring concrete subclasses to implement them, you can create interfaces in Python.\n",
        "In summary, abstraction in Python is achieved through classes, encapsulation, access modifiers (naming conventions), abstract base classes, and interfaces. It allows you to hide implementation details and provide a simplified and clean interface for interacting with objects, thereby improving code maintainability and readability."
      ],
      "metadata": {
        "id": "trCZnfdFIbWy"
      },
      "execution_count": null,
      "outputs": []
    },
    {
      "cell_type": "code",
      "source": [
        "# Q38) EXPLAIN THE IMPORTANCE OF ABSTRACTION IN OBJECT-ORIENTED PROGRAMMING.\n",
        "Abstraction is a fundamental concept in Object-Oriented Programming (OOP), and its importance cannot be overstated.\n",
        "Here are some key reasons why abstraction is crucial in OOP:\n",
        "Simplification of Complexity: Abstraction allows complex systems to be represented in a simplified manner. By hiding unnecessary details and focusing only on the essential aspects of objects, abstraction makes it easier to understand and manage large and complex systems.\n",
        "Encapsulation of Implementation Details: Abstraction helps in encapsulating the implementation details within objects. This means that the internal workings of an object are hidden from the outside world, and only a clean and well-defined interface is exposed to interact with the object. Encapsulation enhances code modularity, reduces code coupling, and promotes code reusability.\n",
        "Code Reusability: Abstraction promotes code reusability by allowing classes to be defined as blueprints for creating objects with similar functionalities. By abstracting away common behaviors and characteristics into reusable classes, developers can avoid duplicating code and achieve more efficient software development.\n",
        "Maintenance and Flexibility: Abstraction makes software systems easier to maintain and extend. By providing a clear separation between interface and implementation, abstraction allows changes to be made to the internal implementation of objects without affecting the external interface. This improves code flexibility and adaptability to evolving requirements.\n",
        "Promotion of Modularity and Scalability: Abstraction facilitates the creation of modular and scalable software systems. By breaking down complex systems into smaller, manageable components (classes), abstraction allows for better organization, easier testing, and more straightforward debugging. Additionally, abstraction enables developers to extend the functionality of existing systems by creating new classes that build upon existing abstractions.\n",
        "Enhanced Collaboration: Abstraction promotes collaboration among developers by providing a common language and understanding of the system's components. By defining clear interfaces and contracts between different parts of the system, abstraction helps teams work together more effectively and coordinate their efforts towards achieving common goals.\n",
        "Overall, abstraction plays a crucial role in OOP by simplifying complexity, encapsulating implementation details, promoting code reusability, enhancing maintenance and flexibility, promoting modularity and scalability, and facilitating collaboration among developers. It is a powerful tool that enables the creation of robust, maintainable, and extensible software systems."
      ],
      "metadata": {
        "id": "zKUnh7vxJ7-i"
      },
      "execution_count": null,
      "outputs": []
    },
    {
      "cell_type": "code",
      "source": [
        "# Q39) HOW ARE ABSTRACT METHODS DIFFERENT FROM REGULAR METHODS IN PYTHON.\n",
        "In Python, abstract methods are different from regular methods primarily in their purpose and implementation. Here are the key distinctions:\n",
        "Regular methods: These are concrete methods that have a defined implementation. When you call a regular method, it performs a specific action or returns a value as specified by its code.\n",
        "Abstract methods: These are methods defined in abstract classes or interfaces that don't have an implementation in the class where they are declared. Instead, they are meant to be implemented by subclasses. Abstract methods define a contract that all subclasses must adhere to by providing their own implementation.\n",
        "Implementation:-\n",
        "Regular methods: These methods have a body with executable code. When the method is called, the code inside the method body is executed.\n",
        "Abstract methods: These methods are defined using the @abstractmethod decorator from the abc (Abstract Base Classes) module in Python. They are declared in the abstract class without providing any implementation. Subclasses must override these abstract methods and provide their own implementation."
      ],
      "metadata": {
        "id": "wrqPaM5GlvTh"
      },
      "execution_count": null,
      "outputs": []
    },
    {
      "cell_type": "code",
      "source": [
        "# Q40) HOW CAN YOU ACHIEVE ABSTRACTION USING INTERFACE IN PYTHON.\n",
        "\n",
        "In Python, abstraction can be achieved using interfaces through abstract base classes (ABCs) provided by the abc module. Interfaces define a contract specifying what methods a class must implement without providing an implementation for those methods. Here's how you can achieve abstraction using interfaces in Python:\n",
        "Define the Interface:\n",
        "Create an abstract base class using the ABC class from the abc module.\n",
        "Declare abstract methods within this abstract base class using the @abstractmethod decorator.\n",
        "Implement the Interface:\n",
        "Create concrete subclasses that inherit from the interface.\n",
        "Implement all the abstract methods declared in the interface."
      ],
      "metadata": {
        "id": "-Wr5bRFvmzlE"
      },
      "execution_count": null,
      "outputs": []
    },
    {
      "cell_type": "code",
      "source": [
        "# Q41) CAN YOU PROVIDE AN EXAMPLE OF HOW ABSTRACTION CAN BE UTILIZED TO CREATE A COMMON INTERFACE FOR A GROUP OF RELATED CLASSES IN PYTHON.\n",
        "we have different types of vehicles, such as cars, bicycles, and motorcycles. We want to create a common interface for these vehicles to provide functionalities like moving and honking. We can achieve this using abstraction in Python.\n",
        "class Vehicle(ABC):\n",
        "    def __init__(self, name):\n",
        "        self.name = name\n",
        "    @abstractmethod\n",
        "    def move(self):\n",
        "        pass\n",
        "    @abstractmethod\n",
        "    def honk(self):\n",
        "        pass\n",
        "class Car(Vehicle):\n",
        "    def move(self):\n",
        "        return f\"{self.name} is driving\"\n",
        "    def honk(self):\n",
        "        return f\"{self.name} is honking\"\n",
        "class Bicycle(Vehicle):\n",
        "    def move(self):\n",
        "        return f\"{self.name} is pedaling\"\n",
        "    def honk(self):\n",
        "        return f\"{self.name} doesn't have a horn\"\n",
        "class Motorcycle(Vehicle):\n",
        "    def move(self):\n",
        "        return f\"{self.name} is riding\"\n",
        "    def honk(self):\n",
        "        return f\"{self.name} is revving its engine\"\n",
        "vehicles = [Car(\"Toyota\"), Bicycle(\"BMX\"), Motorcycle(\"Harley\")]\n",
        "for vehicle in vehicles:\n",
        "    print(vehicle.move())\n",
        "    print(vehicle.honk())\n",
        "    print()\n",
        "In this example, Vehicle is the common interface with abstract methods move() and honk(). Each concrete class (Car, Bicycle, and Motorcycle) inherits from Vehicle and provides its own implementation for these methods.\n",
        "\n",
        "By defining the Vehicle interface, we ensure that all classes representing vehicles must implement move() and honk() methods. This allows us to treat different types of vehicles uniformly, enabling polymorphic behavior and providing a consistent interface for interacting with them."
      ],
      "metadata": {
        "id": "FLx50xiNnX5Y"
      },
      "execution_count": null,
      "outputs": []
    },
    {
      "cell_type": "code",
      "source": [
        "# Q42) HOW DOES PYTHON ACHIEVE POLYMORPHISM THROUGH METHOD OVERRIDING?\n",
        "Python achieves polymorphism through method overriding, which allows subclasses to provide a specific implementation of a method that is already defined in its superclass. When a method is called on an object, Python looks up the method in the object's class. If the method is not found in the class, Python looks for it in the class's superclass, and so on up the inheritance chain.\n",
        "Here's how method overriding enables polymorphism in Python:\n",
        "Inheritance:\n",
        "Subclasses inherit methods from their superclass. If a subclass defines a method with the same name as a method in its superclass, it overrides the superclass method.\n",
        "Dynamic Binding:\n",
        "Python uses dynamic binding, also known as late binding, which means that the method to be executed is determined at runtime based on the object's type. This allows different objects to behave differently based on their specific implementations of the same method.\n",
        "Subtype Polymorphism:\n",
        "Method overriding allows objects of different subclasses to be treated uniformly through their common interface, enabling subtype polymorphism. This means that objects of different types can be used interchangeably if they share a common superclass and have overridden methods with the same signature."
      ],
      "metadata": {
        "id": "JT9xLDFYpQZP"
      },
      "execution_count": null,
      "outputs": []
    },
    {
      "cell_type": "code",
      "source": [
        "# Q43) DEFINE A BASE CLASS WITH A METHOD AND A SUBCLASS WITH OVERRIDDES THE METHOD.\n",
        "The ability of a subclass to override a method allows a class to inherit from a superclass whose behavior is \"close enough\"\n",
        "and then to modify behavior as needed. The overriding method has the same name, number and type of parameters,\n",
        "and return type as the method that it overrides."
      ],
      "metadata": {
        "id": "90PMLgjEp_Ms"
      },
      "execution_count": null,
      "outputs": []
    },
    {
      "cell_type": "code",
      "source": [
        "# Q44)DEFINE A BASE CLASS AND MULTIPLE SUBCLASSES WITH OVERRIDDEN METHODS.\n",
        "class Parent():\n",
        "    def __init__(self):\n",
        "        self.value = \"Inside Parent\"\n",
        "    def show(self):\n",
        "        print(self.value)\n",
        "class Child(Parent):\n",
        "    def __init__(self):\n",
        "        self.value = \"Inside Child\"\n",
        "    def show(self):\n",
        "        print(self.value)\n",
        "obj1 = Parent()\n",
        "obj2 = Child()\n",
        "obj1.show()\n",
        "obj2.show()"
      ],
      "metadata": {
        "id": "kXvPJfTdi0O-"
      },
      "execution_count": null,
      "outputs": []
    },
    {
      "cell_type": "code",
      "source": [
        "# Q45) HOW DOES POLYMORPHISM IMPROVES CODE READIBILITY AND REUSABILITY.\n",
        "Polymorphism promotes code maintenance by reducing code duplication.\n",
        "With polymorphism, you can define a method once in a superclass and have all its subclasses inherit and override it as needed.\n",
        "This avoids the need to duplicate code across multiple classes, making the codebase easier to maintain.\n",
        "Additionally, when new subclasses are added, the existing code won't require modifications, ensuring backward compatibility.\n",
        "Polymorphism enhances code readability by promoting code reuse and eliminating redundancy.\n",
        "With polymorphism, you can write generic code that operates on objects of different types without needing to know their specific implementations.\n",
        "This leads to shorter, more concise code that is easier to understand and maintain.\n",
        "olymorphism also improves the readability of code by allowing for better organization and encapsulation of related behaviors."
      ],
      "metadata": {
        "id": "KnCgImVRkHMA"
      },
      "execution_count": null,
      "outputs": []
    },
    {
      "cell_type": "code",
      "source": [
        "# Q46) DESCRIBE HOW PYTHON SUPPORTS POLYMORPHISM WITH DUCK TYPING\n",
        "Duck typing is the principle that allows for the implicit implementation of polymorphism in Python.\n",
        "There’s no need to explicitly declare interfaces or return types.\n",
        "If an object has the necessary method or attribute, you can use it, regardless of the object’s class or inheritance hierarchy.\n",
        "class Dog:\n",
        "    def talk(self):\n",
        "        return \"Woof!\"\n",
        "class Cat:\n",
        "    def talk(self):\n",
        "        return \"Meow!\"\n",
        "def sound_animal(animal):\n",
        "    return animal.talk()\n",
        "dog = Dog()\n",
        "cat = Cat()\n",
        "print(sound_animal(dog))\n",
        "print(sound_animal(cat))"
      ],
      "metadata": {
        "id": "zQIMwHfGlCe4"
      },
      "execution_count": null,
      "outputs": []
    },
    {
      "cell_type": "code",
      "source": [
        "# Q47) HOW DO YOU ACHIEVE ENCAPSULATION IN PYTHON.\n",
        "Encapsulation is one of the fundamental concepts in object-oriented programming (OOP).\n",
        "It describes the idea of wrapping data and the methods that work on data within one unit.\n",
        "This puts restrictions on accessing variables and methods directly and can prevent the accidental modification of data.\n",
        "To prevent accidental change, an object’s variable can only be changed by an object’s method.\n",
        "Those types of variables are known as private variables.\n",
        "A class is an example of encapsulation as it encapsulates all the data that is member functions, variables, etc.\n",
        "The goal of information hiding is to ensure that an object’s state is always valid by controlling access to attributes that are hidden from the outside world.\n"
      ],
      "metadata": {
        "id": "wh_wEEj7l042"
      },
      "execution_count": null,
      "outputs": []
    },
    {
      "cell_type": "code",
      "source": [
        "# Q48) CAN ENCAPSULATION BE BYPASSED IN PYTHON? IF SO,HOW?"
      ],
      "metadata": {
        "id": "eERLdroNmZgu"
      },
      "execution_count": null,
      "outputs": []
    },
    {
      "cell_type": "code",
      "source": [
        "# Q49) IMPLEMENT A CLASS BANKACCOUNT WITH A PRIVATE BALANCE ATTRIBUTE . INCLUDE METHODS TO DEPOSIT ,WITHDRAW,AND CHECK THE BALANCE.\n",
        "class Bank_Account:\n",
        "    def __init__(self):\n",
        "        self.balance=0\n",
        "        print(\"Hello!!! Welcome to the Deposit & Withdrawal Machine\")\n",
        "    def deposit(self):\n",
        "        amount=float(input(\"Enter amount to be Deposited: \"))\n",
        "        self.balance += amount\n",
        "        print(\"\\n Amount Deposited:\",amount)\n",
        "    def withdraw(self):\n",
        "        amount = float(input(\"Enter amount to be Withdrawn: \"))\n",
        "        if self.balance>=amount:\n",
        "            self.balance-=amount\n",
        "            print(\"\\n You Withdrew:\", amount)\n",
        "        else:\n",
        "            print(\"\\n Insufficient balance  \")\n",
        "    def display(self):\n",
        "        print(\"\\n Net Available Balance=\",self.balance)\n",
        "s = Bank_Account()\n",
        "s.deposit()\n",
        "s.withdraw()\n",
        "s.display()"
      ],
      "metadata": {
        "id": "R-nL4rXBm5Ue"
      },
      "execution_count": null,
      "outputs": []
    },
    {
      "cell_type": "code",
      "source": [
        "# Q50) DEVELOP A PERSON CLASS WITH PRIVATE ATTRIBUTE NAME AND EMAIL, AND METHODS TO SET AND GET THE EMAIL IN PYTHON.\n",
        "class Student:\n",
        "    name = \"kanhaiyya Singh\"\n",
        "    __id = 1234\n",
        "    def Print_Id(self):\n",
        "        print(\"The Id of student is : {self.__id}\")\n",
        "kanhaiyya = Student()\n",
        "print(\"The name of student is : {lokesh.name}\")\n",
        "lokesh.Print_Id()\n",
        "class Student:\n",
        "    def __init__(self, name, id):\n",
        "        self.__id = id\n",
        "        self.name = name\n",
        "    def get_Id(self):\n",
        "        return self.__id\n",
        "sonali = Student(\"Sonali Kumari\", 58)\n",
        "print(\"The name is :\", sonali.name)\n",
        "print(\"The id is :\", sonali.get_Id())"
      ],
      "metadata": {
        "id": "JdhZLv5Jng8-"
      },
      "execution_count": null,
      "outputs": []
    },
    {
      "cell_type": "code",
      "source": [
        "# Q51) WHY IS ENCAPSULATION CONSIDERED A PILLAR OF OOPS IN PYTHON?\n",
        "# Encapsulation allows you to define controlled access to data stored inside objects of your class.\n",
        "#This allows you to write clean, readable, and efficient code and prevent accidental changes or deletion of your class data.\n",
        "class Cat:\n",
        "    def __init__(self):\n",
        "        self.sound = \"meow\"\n",
        "    def speak(self):\n",
        "        print(\"Cat says: {}\".format(self.sound))\n",
        "c = Cat()\n",
        "c.speak()\n",
        "c.sound = \"bow-wow\"\n",
        "c.speak()"
      ],
      "metadata": {
        "id": "xNqyX22Yos_v"
      },
      "execution_count": null,
      "outputs": []
    },
    {
      "cell_type": "code",
      "source": [
        "# Q52)CREATE A DECORATOR IN PYTHON THAT ADDS FUNCTIONALITY TO A SIMPLE FUNCTION BY PRINTING A MESSAGE BEFORE AND ADTER THE FUNCTION EXECUTION.\n",
        "def simple_decorator(func):\n",
        "    def wrapper(*args, **kwargs):\n",
        "        print(\"Before the function execution\")\n",
        "        result = func(*args, **kwargs)\n",
        "        print(\"After the function execution\")\n",
        "        return result\n",
        "    return wrapper\n",
        "\n",
        "@simple_decorator\n",
        "def simple_function():\n",
        "    print(\"This is a simple function\")\n",
        "\n",
        "simple_function()\n",
        "This code defines a decorator simple_decorator that takes a function func as input,\n",
        "defines a wrapper function wrapper that prints a message before and after calling func,\n",
        "and then returns the result of calling func.\n",
        "Finally, it applies this decorator to the simple_function using the @ syntax.\n",
        "When you call simple_function(), it will print the messages before and after executing the function."
      ],
      "metadata": {
        "id": "Zo4GX_m2pT5d"
      },
      "execution_count": null,
      "outputs": []
    },
    {
      "cell_type": "code",
      "source": [
        "# Q53) MODIFY THE DECORATOR TO ACCEPT ARGUMENTS AND PRINT THE FUNCTION NAME ALONG WITH THE MESSAGE.\n",
        "def simple_decorator_with_args(message):\n",
        "    def decorator(func):\n",
        "        def wrapper(*args, **kwargs):\n",
        "            print(f\"Before executing {func.__name__}: {message}\")\n",
        "            result = func(*args, **kwargs)\n",
        "            print(f\"After executing {func.__name__}: {message}\")\n",
        "            return result\n",
        "        return wrapper\n",
        "    return decorator\n",
        "\n",
        "@simple_decorator_with_args(\"function execution\")\n",
        "def simple_function():\n",
        "    print(\"This is a simple function\")\n",
        "\n",
        "simple_function()"
      ],
      "metadata": {
        "id": "ltKTapcdyCiP"
      },
      "execution_count": null,
      "outputs": []
    },
    {
      "cell_type": "code",
      "source": [
        "# Q54) CREATE TWO DECORATORS , AND APPLY THEM TO A SINGLE FUNCTION. ENSURE THAT THEY EXECUTE IN THE ORDER THEY ARE APPLIED.\n",
        " def first_decorator(func):\n",
        "    def wrapper(*args, **kwargs):\n",
        "        print(\"Executing first decorator\")\n",
        "        result = func(*args, **kwargs)\n",
        "        return result\n",
        "    return wrapper\n",
        "\n",
        "def second_decorator(func):\n",
        "    def wrapper(*args, **kwargs):\n",
        "        print(\"Executing second decorator\")\n",
        "        result = func(*args, **kwargs)\n",
        "        return result\n",
        "    return wrapper\n",
        "\n",
        "@first_decorator\n",
        "@second_decorator\n",
        "def my_function():\n",
        "    print(\"Inside the function\")\n",
        "\n",
        "my_function()"
      ],
      "metadata": {
        "id": "EWmGDwXyyekL"
      },
      "execution_count": null,
      "outputs": []
    },
    {
      "cell_type": "code",
      "source": [
        "# Q55)MODIFY THE DECORATORS TO ACCEPT AND PASS FUNCTION ARGUMENTS TO THE WRAPPED FUNCTION.\n",
        "def first_decorator(func):\n",
        "    def wrapper(*args, **kwargs):\n",
        "        print(\"Executing first decorator\")\n",
        "        result = func(*args, **kwargs)  # Pass arguments to the wrapped function\n",
        "        return result\n",
        "    return wrapper\n",
        "\n",
        "def second_decorator(func):\n",
        "    def wrapper(*args, **kwargs):\n",
        "        print(\"Executing second decorator\")\n",
        "        result = func(*args, **kwargs)  # Pass arguments to the wrapped function\n",
        "        return result\n",
        "    return wrapper\n",
        "\n",
        "@first_decorator\n",
        "@second_decorator\n",
        "def my_function(x, y):\n",
        "    print(\"Inside the function\")\n",
        "    return x + y\n",
        "\n",
        "my_function(3, 4)"
      ],
      "metadata": {
        "id": "tIFWYf4Ky9hT"
      },
      "execution_count": null,
      "outputs": []
    },
    {
      "cell_type": "code",
      "source": [
        "# Q56) CREATE A DECORATOR THAT PRESERVES THE METADATA OF THE ORIGINAL FUNCTION.\n",
        "from functools import wraps\n",
        "def preserve_metadata(func):\n",
        "    @wraps(func)\n",
        "    def wrapper(*args, **kwargs):\n",
        "        # Add functionality here if needed\n",
        "        return func(*args, **kwargs)\n",
        "    return wrapper\n",
        "@preserve_metadata\n",
        "def my_function(x, y):\n",
        "    \"\"\"\n",
        "    This is the docstring of my_function.\n",
        "    It adds two numbers together.\n",
        "    \"\"\"\n",
        "    return x + y\n",
        "print(my_function.__name__)\n",
        "print(my_function.__doc__)"
      ],
      "metadata": {
        "id": "y9rSH4M6ziLi"
      },
      "execution_count": null,
      "outputs": []
    },
    {
      "cell_type": "code",
      "source": [
        "# Q57) CREATE A PYTHON CLASS \"CALCULATOR\" WITH A STATIC METHOD \"ADD\" THAT TAKES IN TWO NUMBERS AND RETURNS THEIR SUM.\n",
        "class Calculator:\n",
        "    @staticmethod\n",
        "    def add(x, y):\n",
        "        return x + y\n",
        "result = Calculator.add(5, 3)\n",
        "print(result)\n",
        "Calculator is defined with a static method add.\n",
        "The @staticmethod decorator is used to define a method that doesn't require access to the instance (i.e., self), and it can be called using the class name directly.\n",
        "The add method simply takes two numbers x and y and returns their sum."
      ],
      "metadata": {
        "id": "RbHcodHZz3pT"
      },
      "execution_count": null,
      "outputs": []
    },
    {
      "cell_type": "code",
      "source": [
        "# Q58) CREATE A PYTHON CLASS \"EMPLOYEE\" WITH A CLASS \"METHOD GET_EMPLOYEE_COUNT\" THAT RETURNS THE TOTAL NUMBER OF EMPLOYEES CREATED.\n",
        "class Employee:\n",
        "    total_employees = 0\n",
        "\n",
        "    def __init__(self, name):\n",
        "        self.name = name\n",
        "        Employee.total_employees += 1\n",
        "    @classmethod\n",
        "    def get_employee_count(cls):\n",
        "        return cls.total_employees\n",
        "emp1 = Employee(\"John\")\n",
        "emp2 = Employee(\"Alice\")\n",
        "print(Employee.get_employee_count())\n",
        "\n",
        "Employee class has a class variable total_employees initialized to 0, which keeps track of the total number of employees.\n",
        "The __init__ method increments total_employees by 1 each time a new Employee instance is created.\n",
        "get_employee_count is a class method decorated with @classmethod, allowing it to access the class variable total_employees. It returns the total number of employees."
      ],
      "metadata": {
        "id": "Ni6y9EU60guj"
      },
      "execution_count": null,
      "outputs": []
    },
    {
      "cell_type": "code",
      "source": [
        "# Q59) CREATE A PYTHON CLASS \"STRINGFORMATTER\" WITH A STATIC METHOD \"REVERSE_STRING\"THAT TAKES A STRING AS INPUT AND RETURN ITS REVERSE.\n",
        "class StringFormatter:\n",
        "    @staticmethod\n",
        "    def reverse_string(input_string):\n",
        "        return input_string[::-1]\n",
        "reversed_string = StringFormatter.reverse_string(\"Hello, World!\")\n",
        "print(reversed_string)"
      ],
      "metadata": {
        "id": "G3CUqjCl1KZG"
      },
      "execution_count": null,
      "outputs": []
    },
    {
      "cell_type": "code",
      "source": [
        "# Q60) CREATE A PYTHON CLASS\" CIRCLE\" WITH  A CLASS METHOD \"CALCULATE_AREA\" THAT CALCULATES THE AREA OF THE CIRCLE GIVEN ITS RADIUS.\n",
        "import math\n",
        "class Circle:\n",
        "    @classmethod\n",
        "    def calculate_area(cls, radius):\n",
        "        return math.pi * radius ** 2\n",
        "radius = 5\n",
        "area = Circle.calculate_area(radius)\n",
        "print(\"Area of the circle with radius\", radius, \"is:\", area)"
      ],
      "metadata": {
        "id": "YfSm7GXf1oBE"
      },
      "execution_count": null,
      "outputs": []
    },
    {
      "cell_type": "code",
      "source": [
        "# Q61) CREATE A PYTHON CLASS \"TEMPERATURECONVERTER\" WITH A STATIC METHOD \"CELCIUS_TO_FAHRENHEIT\"THAT CONVERTS CELCIUS TO FAHRENHEIT.\n",
        "class TemperatureConverter:\n",
        "    @staticmethod\n",
        "    def celsius_to_fahrenheit(celsius):\n",
        "        \"\"\"\n",
        "        Converts temperature from Celsius to Fahrenheit.\n",
        "        Args:\n",
        "            celsius (float): Temperature in Celsius.\n",
        "        Returns:\n",
        "            float: Temperature converted to Fahrenheit.\n",
        "        \"\"\"\n",
        "        return (celsius * 9/5) + 32\n",
        "celsius_temperature = 30\n",
        "fahrenheit_temperature = TemperatureConverter.celsius_to_fahrenheit(celsius_temperature)\n",
        "print(f\"{celsius_temperature}°C is equal to {fahrenheit_temperature}°F\")"
      ],
      "metadata": {
        "id": "vGbTdszi2FDM"
      },
      "execution_count": null,
      "outputs": []
    },
    {
      "cell_type": "code",
      "source": [
        "# Q62)WHAT IS THE PURPOSE OF THE __STR__() METHOD IN PYTHON CLASSES? PROVIDE AN EXAMPLE.\n",
        "The __str__() method in Python classes is used to define a string representation of an object.\n",
        "This method is called when the str() function is invoked on an object or\n",
        "when the object is used in a context that requires a string, such as string formatting with print().\n",
        "The purpose of __str__() is to provide a human-readable description of the object, typically for debugging or logging purposes.\n",
        "Here's an example to illustrate the use of __str__():\n",
        "class Point:\n",
        "    def __init__(self, x, y):\n",
        "        self.x = x\n",
        "        self.y = y\n",
        "    def __str__(self):\n",
        "        return f\"Point({self.x}, {self.y})\"\n",
        "point = Point(3, 4)\n",
        "print(point)\n",
        "point_str = str(point)\n",
        "print(point_str)"
      ],
      "metadata": {
        "id": "Yao7YvtKHNrV"
      },
      "execution_count": null,
      "outputs": []
    },
    {
      "cell_type": "code",
      "source": [
        "# Q63) HOW DOES THE __LEN__()METHOD WORKS IN PYTHON?PROVIDE AN EXAMPLE.\n",
        "class CustomList:\n",
        "    def __init__(self, elements):\n",
        "        self.elements = elements\n",
        "    def __len__(self):\n",
        "        return len(self.elements)\n",
        "my_list = CustomList([1, 2, 3, 4, 5])\n",
        "list_length = len(my_list)\n",
        "print(\"Length of the list:\", list_length)\n",
        "In this example:\n",
        "We define a class CustomList to represent a custom list-like object.\n",
        "The __init__() method initializes the custom list with elements passed to it.\n",
        "The __len__() method is defined to return the length of the list stored in the elements attribute.\n",
        "When we call the len() function on an instance of the CustomList class (my_list), Python internally invokes the __len__() method of that object to determine its length."
      ],
      "metadata": {
        "id": "x2iYkkoZH4OP"
      },
      "execution_count": null,
      "outputs": []
    },
    {
      "cell_type": "code",
      "source": [
        "# Q64) EXPLAIN THE USAGE OF THE __ADD__() MERHOD IN PYTHON CLASSES.PROVIDE AN EXAMPLE.\n",
        "The __add__() method in Python classes is used to define the behavior of the addition operator + when applied to instances of a custom class.\n",
        "It allows objects of a class to support addition operations with other objects or types.\n",
        "When you use the + operator on objects of a custom class, Python internally calls the __add__() method of that class, passing the other operand as an argument.\n",
        "This method should return the result of the addition operation.\n",
        "Here's an example to illustrate the usage of the __add__() method:\n",
        "class Vector2D:\n",
        "    def __init__(self, x, y):\n",
        "        self.x = x\n",
        "        self.y = y\n",
        "    def __add__(self, other):\n",
        "        if isinstance(other, Vector2D):\n",
        "            return Vector2D(self.x + other.x, self.y + other.y)\n",
        "        elif isinstance(other, (int, float)):\n",
        "            return Vector2D(self.x + other, self.y + other)\n",
        "        else:\n",
        "            raise TypeError(\"Unsupported operand type for +\")\n",
        "v1 = Vector2D(1, 2)\n",
        "v2 = Vector2D(3, 4)\n",
        "result_vector = v1 + v2\n",
        "print(\"Result of vector addition:\", result_vector.x, result_vector.y)\n",
        "result_vector_with_scalar = v1 + 5\n",
        "print(\"Result of adding scalar:\", result_vector_with_scalar.x, result_vector_with_scalar.y)\n",
        "\n",
        "In this example:\n",
        "We define a class Vector2D to represent 2D vectors.\n",
        "The __add__() method is defined to handle addition operations (+) involving Vector2D objects.\n",
        "It checks the type of the other operand:\n",
        "If it's another Vector2D object, it performs vector addition (adding corresponding components).\n",
        "If it's a scalar (integer or float), it adds the scalar to both components of the vector.\n",
        "Otherwise, it raises a TypeError.\n",
        "We demonstrate addition operations with two Vector2D objects and with a scalar value."
      ],
      "metadata": {
        "id": "wscj0J_8IUcz"
      },
      "execution_count": null,
      "outputs": []
    },
    {
      "cell_type": "code",
      "source": [
        "# Q65) WHAT IS THE PURPOSE OF THE __GETITEM__() METHOD IN PYTHON? PROVIDE AN EXAMPLE.\n",
        "The __getitem__() method in Python is used to allow instances of a class to be accessed using the index notation ([]).\n",
        "It enables objects to support the behavior of sequences like lists, tuples, dictionaries, etc.\n",
        "Here's an example to illustrate the purpose of the __getitem__() method:\n",
        "class CustomList:\n",
        "    def __init__(self, elements):\n",
        "        self.elements = elements\n",
        "    def __getitem__(self, index):\n",
        "        return self.elements[index]\n",
        "my_list = CustomList([1, 2, 3, 4, 5])\n",
        "print(my_list[0])\n",
        "print(my_list[2])\n",
        "In this example:\n",
        "We define a class CustomList to represent a custom list-like object.\n",
        "The __init__() method initializes the custom list with elements passed to it.\n",
        "The __getitem__() method is defined to allow accessing elements of the list using square brackets.\n",
        "When we use square brackets to access an element of an instance of the CustomList class (my_list), Python internally calls the __getitem__() method of that object, passing the index.\n",
        "The method then returns the value associated with the specified index."
      ],
      "metadata": {
        "id": "0HEvvL0BJGnL"
      },
      "execution_count": null,
      "outputs": []
    },
    {
      "cell_type": "code",
      "source": [
        "# Q66) EXPLAIN THE USAGE OF THE __ITER__() AND __NEXT__() METHODS IN PYTHON.PROVIDE AN EXAMPLE USING ITERATORS.\n",
        "In Python, the __iter__() and __next__() methods are used to implement iterators.\n",
        "Iterators are objects that represent a stream of data and allow iteration over that data.\n",
        "They are typically used in for loops or with functions like next() to iterate over elements one at a time.\n",
        "__iter__() method: This method is called when an iterator is created. It should return the iterator object itself.\n",
        "__next__() method: This method is called to get the next item from the iterator. It should return the next item in the sequence or raise a StopIteration exception if there are no more items.\n",
        "Here's an example to illustrate the usage of iterators with __iter__() and __next__():\n",
        "class MyIterator:\n",
        "    def __init__(self, data):\n",
        "        self.data = data\n",
        "        self.index = 0\n",
        "    def __iter__(self):\n",
        "        return self\n",
        "    def __next__(self):\n",
        "        if self.index < len(self.data):\n",
        "            item = self.data[self.index]\n",
        "            self.index += 1\n",
        "            return item\n",
        "        else:\n",
        "            raise StopIteration\n",
        "my_iterator = MyIterator([1, 2, 3, 4, 5])\n",
        "for item in my_iterator:\n",
        "    print(item)\n",
        "my_iterator = MyIterator([1, 2, 3, 4, 5])\n",
        "print(next(my_iterator))\n",
        "print(next(my_iterator))\n",
        "In this example:\n",
        "\n",
        "We define a class MyIterator to implement a custom iterator.\n",
        "The __init__() method initializes the iterator with the data to be iterated over and sets the initial index to 0.\n",
        "The __iter__() method returns the iterator object itself, which is required for iterators.\n",
        "The __next__() method returns the next item in the sequence. If there are no more items, it raises a StopIteration exception.\n",
        "We demonstrate iterating over the elements using a for loop and also manually using the next() function."
      ],
      "metadata": {
        "id": "R6JrOSglK3wY"
      },
      "execution_count": null,
      "outputs": []
    },
    {
      "cell_type": "code",
      "source": [
        "# Q67) WHAT IS THE PURPOSE OF A GETTER METHOD IN PYTHON?PROVIDE AN EXAMPLE DEMONSTRATING THE USE OF GETTER MTEHOD USING PROPERTY DECORATORS.\n",
        "In Python, a getter method is used to retrieve the value of a private attribute of a class.\n",
        "It allows controlled access to class attributes by encapsulating them and providing a method to retrieve their values.\n",
        "Getter methods are particularly useful when you want to enforce certain behavior or validations when accessing the attribute,\n",
        "or when you want to keep the internal representation of the attribute hidden from external code.\n",
        "One common way to implement getter methods in Python is by using property decorators.\n",
        "Property decorators allow you to define getter, setter, and deleter methods for an attribute, making it look like a regular attribute access while providing custom behavior behind the scenes.\n",
        "Here's an example demonstrating the use of a getter method using property decorators:\n",
        "class Circle:\n",
        "    def __init__(self, radius):\n",
        "        self._radius = radius\n",
        "    @property\n",
        "    def radius(self):\n",
        "        return self._radius\n",
        "    @radius.setter\n",
        "    def radius(self, value):\n",
        "        if value <= 0:\n",
        "            raise ValueError(\"Radius must be a positive number\")\n",
        "        self._radius = value\n",
        "circle = Circle(5)\n",
        "print(circle.radius)\n",
        "circle.radius = 10\n",
        "print(circle.radius)\n",
        "In this example:\n",
        "\n",
        "We define a class Circle with a private attribute _radius.\n",
        "We define a getter method radius() using the @property decorator. This method returns the value of _radius.\n",
        "We also define a setter method radius() using the @radius.setter decorator. This method allows us to modify the value of _radius, but with validation checks.\n",
        "We create an instance of the Circle class with a radius of 5.\n",
        "We access the radius attribute using the getter method circle.radius.\n",
        "We try to modify the radius directly, which raises an error because the property is read-only. However, we can modify the radius indirectly using the setter method circle.radius = 10."
      ],
      "metadata": {
        "id": "bepInXKtLv7B"
      },
      "execution_count": null,
      "outputs": []
    },
    {
      "cell_type": "code",
      "source": [
        "# Q68) EXPLAIN THE ROLE OF SETTER METHODS IN PYTHON. DEMONSTRATE HOW TO USE SETTER METHOD TO MODIFY A CLASS ATTRIBUTE USING PROPERTY DECORATORS.\n",
        "In Python, setter methods are used to modify the value of attributes of a class.\n",
        "They allow controlled modification of attributes by encapsulating them and providing a method to set their values.\n",
        "Setter methods are particularly useful when you want to enforce certain behavior or validations when setting attribute values, or when you want to trigger certain actions upon attribute modification.\n",
        "One common way to implement setter methods in Python is by using property decorators.\n",
        "Property decorators allow you to define getter, setter, and deleter methods for an attribute, making it look like a regular attribute access while providing custom behavior behind the scenes.\n",
        "Here's an example demonstrating the use of a setter method to modify a class attribute using property decorators:\n",
        "class Circle:\n",
        "    def __init__(self, radius):\n",
        "        self._radius = radius\n",
        "    @property\n",
        "    def radius(self):\n",
        "        return self._radius\n",
        "    @radius.setter\n",
        "    def radius(self, value):\n",
        "        if value <= 0:\n",
        "            raise ValueError(\"Radius must be a positive number\")\n",
        "        self._radius = value\n",
        "circle = Circle(5)\n",
        "print(circle.radius)\n",
        "circle.radius = 10\n",
        "print(circle.radius)\n",
        "In this example:\n",
        "We define a class Circle with a private attribute _radius.\n",
        "We define a getter method radius() using the @property decorator. This method returns the value of _radius.\n",
        "We also define a setter method radius() using the @radius.setter decorator. This method allows us to modify the value of _radius, but with validation checks.\n",
        "We create an instance of the Circle class with a radius of 5.\n",
        "We access and modify the radius attribute using the setter method circle.radius.\n",
        "We try to set a negative radius, which raises a ValueError because the setter method performs a validation check to ensure that the radius is a positive number."
      ],
      "metadata": {
        "id": "ttfQU5shNNmW"
      },
      "execution_count": null,
      "outputs": []
    },
    {
      "cell_type": "code",
      "source": [
        "# Q69) WHAT IS THE PURPOSE OF @PROPERTY DECORATORS IN PYTHON?PROVIDE AN EXAMPLE ILLUSTRATING ITS USAGE.\n",
        "The @property decorator in Python is used to define properties for class attributes.\n",
        "It allows you to define getter methods for accessing the value of an attribute and optionally setter and deleter methods for modifying or deleting the attribute value.\n",
        "Properties provide a way to encapsulate the access to attributes and allow controlled access to them by providing custom behavior when getting, setting, or deleting the attribute value.\n",
        "Here's an example illustrating the usage of @property decorator:\n",
        "class Circle:\n",
        "    def __init__(self, radius):\n",
        "        self._radius = radius\n",
        "    @property\n",
        "    def radius(self):\n",
        "        return self._radius\n",
        "    @radius.setter\n",
        "    def radius(self, value):\n",
        "        if value <= 0:\n",
        "            raise ValueError(\"Radius must be a positive number\")\n",
        "        self._radius = value\n",
        "    @radius.deleter\n",
        "    def radius(self):\n",
        "        print(\"Deleting radius...\")\n",
        "        del self._radius\n",
        "circle = Circle(5)\n",
        "print(circle.radius)\n",
        "circle.radius = 10\n",
        "print(circle.radius)\n",
        "del circle.radius\n",
        "In this example:\n",
        "\n",
        "We define a class Circle with a private attribute _radius.\n",
        "We use the @property decorator to define a getter method radius(), which returns the value of _radius. This allows us to access the radius attribute as if it were a regular attribute, using dot notation (circle.radius).\n",
        "We use the @radius.setter decorator to define a setter method radius(), which allows us to modify the value of _radius. This ensures that the radius cannot be set to a negative value.\n",
        "We use the @radius.deleter decorator to define a deleter method radius(), which is called when the del statement is used to delete the radius attribute. In this example, it simply prints a message before deleting the attribute.\n",
        "We create an instance of the Circle class with a radius of 5 and demonstrate accessing, modifying, and deleting the radius attribute using property notation."
      ],
      "metadata": {
        "id": "BiXjB2qlPR0y"
      },
      "execution_count": null,
      "outputs": []
    },
    {
      "cell_type": "code",
      "source": [
        "# Q70) EXPLAIN THE USE OF THE @DELETOR DECORATOR IN PYTHON PROPERTY DECPORATORS. PROVIDE A CODE EXAMPLE DEMONSTRATING ITS APPLICATION.\n",
        "The @property decorator in Python is used to define properties for class attributes.\n",
        "It allows you to define getter methods for accessing the value of an attribute and optionally setter and deleter methods for modifying or deleting the attribute value.\n",
        "Properties provide a way to encapsulate the access to attributes and allow controlled access to them by providing custom behavior when getting, setting, or deleting the attribute value.\n",
        "Here's an example illustrating the usage of @property decorator:\n",
        "class Circle:\n",
        "    def __init__(self, radius):\n",
        "        self._radius = radius\n",
        "    @property\n",
        "    def radius(self):\n",
        "        return self._radius\n",
        "    @radius.setter\n",
        "    def radius(self, value):\n",
        "        if value <= 0:\n",
        "            raise ValueError(\"Radius must be a positive number\")\n",
        "        self._radius = value\n",
        "    @radius.deleter\n",
        "    def radius(self):\n",
        "        print(\"Deleting radius...\")\n",
        "        del self._radius\n",
        "circle = Circle(5)\n",
        "print(circle.radius)\n",
        "circle.radius = 10\n",
        "print(circle.radius)\n",
        "del circle.radius\n",
        "In this example:\n",
        "\n",
        "We define a class Circle with a private attribute _radius.\n",
        "We use the @property decorator to define a getter method radius(), which returns the value of _radius. This allows us to access the radius attribute as if it were a regular attribute, using dot notation (circle.radius).\n",
        "We use the @radius.setter decorator to define a setter method radius(), which allows us to modify the value of _radius. This ensures that the radius cannot be set to a negative value.\n",
        "We use the @radius.deleter decorator to define a deleter method radius(), which is called when the del statement is used to delete the radius attribute. In this example, it simply prints a message before deleting the attribute.\n",
        "We create an instance of the Circle class with a radius of 5 and demonstrate accessing, modifying, and deleting the radius attribute using property notation."
      ],
      "metadata": {
        "id": "6NV1sReBRrJq"
      },
      "execution_count": null,
      "outputs": []
    },
    {
      "cell_type": "code",
      "source": [
        "# Q71) HOW DOES ENCAPSULATION RELATE TO PROPERTY DECORATORS IN PYTHON ? PROVIDE AN EXAMPLE SHOWCASING ENCAPSULATION USING PROPERTY DECORATORS.\n",
        "Encapsulation in Python refers to the practice of restricting access to certain parts of an object, typically its attributes or methods.\n",
        "This is done to prevent accidental modification of internal state and to ensure that data is accessed and modified through controlled interfaces.\n",
        "Property decorators in Python, particularly @property, @<property_name>.setter, and @<property_name>.deleter, are used to implement encapsulation by providing controlled access to attributes of a class.\n",
        "They allow you to define getter, setter, and deleter methods for an attribute, which enables you to enforce certain behaviors or validations when accessing or modifying the attribute's value.\n",
        "Here's an example showcasing encapsulation using property decorators:\n",
        "class BankAccount:\n",
        "    def __init__(self, balance=0):\n",
        "        self._balance = balance\n",
        "    @property\n",
        "    def balance(self):\n",
        "        return self._balance\n",
        "    @balance.setter\n",
        "    def balance(self, value):\n",
        "        if value < 0:\n",
        "            raise ValueError(\"Balance cannot be negative\")\n",
        "        self._balance = value\n",
        "account = BankAccount()\n",
        "print(account.balance)\n",
        "account.balance = 100\n",
        "print(account.balance)\n",
        "In this example:\n",
        "We define a class BankAccount representing a simple bank account.\n",
        "The balance attribute is encapsulated using property decorators. We use @property to define a getter method and @balance.setter to define a setter method for the balance attribute.\n",
        "The getter method balance() allows us to access the balance attribute as if it were a regular attribute, using dot notation (account.balance).\n",
        "The setter method balance() allows us to modify the balance attribute, but with a validation check to ensure that the balance cannot be set to a negative value.\n",
        "We create an instance of the BankAccount class and demonstrate accessing and modifying the balance attribute using property notation.\n",
        "If we attempt to set a negative balance, it raises a ValueError due to the validation check implemented in the setter method, thereby enforcing encapsulation."
      ],
      "metadata": {
        "id": "incEV86gUsAq"
      },
      "execution_count": null,
      "outputs": []
    }
  ]
}