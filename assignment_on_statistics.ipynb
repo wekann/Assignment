{
  "nbformat": 4,
  "nbformat_minor": 0,
  "metadata": {
    "colab": {
      "provenance": [],
      "include_colab_link": true
    },
    "kernelspec": {
      "name": "python3",
      "display_name": "Python 3"
    },
    "language_info": {
      "name": "python"
    }
  },
  "cells": [
    {
      "cell_type": "markdown",
      "metadata": {
        "id": "view-in-github",
        "colab_type": "text"
      },
      "source": [
        "<a href=\"https://colab.research.google.com/github/wekann/Assignment/blob/main/assignment_on_statistics.ipynb\" target=\"_parent\"><img src=\"https://colab.research.google.com/assets/colab-badge.svg\" alt=\"Open In Colab\"/></a>"
      ]
    },
    {
      "cell_type": "code",
      "execution_count": null,
      "metadata": {
        "id": "ZDjBvdZ7hcd3",
        "colab": {
          "base_uri": "https://localhost:8080/"
        },
        "outputId": "58272568-8079-4e4b-f181-4e57f527b9ad"
      },
      "outputs": [
        {
          "output_type": "stream",
          "name": "stdout",
          "text": [
            "List of integers: [ 98 100 105 114 115  93 123  92 123 109 127 124  92 120 130 118 130 130\n",
            " 106 108  95 103 118 108 116 124 127  94  96 125 101 129 120 122 111 117\n",
            " 120 120 115 100 116 104 116 117 110 108 122 123 108  96 111 107  96  97\n",
            " 115  99 126 112  95  94 113  96  96 100 111 114  94  93 117  98 107 116\n",
            " 130 126  90 123 119  90 110  93 126  98 123 128  97  91 113 112 106 126\n",
            "  99 113 100 127  90 130 117 112  93 128]\n",
            "Mean: 110.55\n",
            "Median: 112.0\n",
            "Mode: [123, 130, 96]\n",
            "Weighted Mean: 110.55\n",
            "Geometric Mean: 0.0\n",
            "Harmonic Mean: 109.1719960268104\n",
            "Midrange: 110.0\n",
            "Trimmed Mean (5% outliers excluded): 110.57291666666667\n"
          ]
        },
        {
          "output_type": "stream",
          "name": "stderr",
          "text": [
            "<ipython-input-3-2d07fa02d2c5>:36: RuntimeWarning: overflow encountered in scalar multiply\n",
            "  product *= num\n"
          ]
        }
      ],
      "source": [
        "# Q1)Generate a list of 100 integers containing values between 90 to 130 and store it in the variable `int_list`.\n",
        "# After generating the list, find the following:\n",
        "# (i) Write a Python function to calculate the mean of a given list of numbers.\n",
        "# Create a function to find the median of a list of numbers.\n",
        "# (ii) Develop a program to compute the mode of a list of integers.\n",
        "# (iii) Implement a function to calculate the weighted mean of a list of values and their corresponding weights.#\n",
        "# (iv) Write a Python function to find the geometric mean of a list of positive numbers.\n",
        "# (v) Create a program to calculate the harmonic mean of a list of values.\n",
        "# (vi) Build a function to determine the midrange of a list of numbers (average of the minimum and maximum).\n",
        "# (vii) Implement a Python program to find the trimmed mean of a list, excluding a certain percentage of outliers.\n",
        "\n",
        "import numpy as np\n",
        "from collections import Counter\n",
        "int_list = np.random.randint(90, 131, size=100)\n",
        "def calculate_mean(numbers):\n",
        "    return sum(numbers) / len(numbers)\n",
        "def calculate_median(numbers):\n",
        "    sorted_numbers = sorted(numbers)\n",
        "    n = len(sorted_numbers)\n",
        "    if n % 2 == 0:\n",
        "        return (sorted_numbers[n//2 - 1] + sorted_numbers[n//2]) / 2\n",
        "    else:\n",
        "        return sorted_numbers[n//2]\n",
        "def calculate_mode(numbers):\n",
        "    counts = Counter(numbers)\n",
        "    max_count = max(counts.values())\n",
        "    mode = [k for k, v in counts.items() if v == max_count]\n",
        "    return mode\n",
        "def calculate_weighted_mean(values, weights):\n",
        "    weighted_sum = sum(value * weight for value, weight in zip(values, weights))\n",
        "    total_weight = sum(weights)\n",
        "    return weighted_sum / total_weight\n",
        "def calculate_geometric_mean(numbers):\n",
        "    product = 1\n",
        "    for num in numbers:\n",
        "        product *= num\n",
        "    return product**(1/len(numbers))\n",
        "def calculate_harmonic_mean(numbers):\n",
        "    reciprocal_sum = sum(1/num for num in numbers)\n",
        "    return len(numbers) / reciprocal_sum\n",
        "def calculate_midrange(numbers):\n",
        "    return (max(numbers) + min(numbers)) / 2\n",
        "def calculate_trimmed_mean(numbers, trim_percentage):\n",
        "    sorted_numbers = sorted(numbers)\n",
        "    trim_count = int(len(sorted_numbers) * (trim_percentage / 100) / 2)\n",
        "    trimmed_numbers = sorted_numbers[trim_count:-trim_count]\n",
        "    return sum(trimmed_numbers) / len(trimmed_numbers)\n",
        "print(\"List of integers:\", int_list)\n",
        "print(\"Mean:\", calculate_mean(int_list))\n",
        "print(\"Median:\", calculate_median(int_list))\n",
        "print(\"Mode:\", calculate_mode(int_list))\n",
        "print(\"Weighted Mean:\", calculate_weighted_mean(int_list, [1]*len(int_list)))  # Assuming equal weights\n",
        "print(\"Geometric Mean:\", calculate_geometric_mean(int_list))\n",
        "print(\"Harmonic Mean:\", calculate_harmonic_mean(int_list))\n",
        "print(\"Midrange:\", calculate_midrange(int_list))\n",
        "print(\"Trimmed Mean (5% outliers excluded):\", calculate_trimmed_mean(int_list, 5))"
      ]
    },
    {
      "cell_type": "code",
      "source": [
        "# Q2) Generate a list o> 500 integers containing values between 200 to 300 and store it in the variable `int_list2`.\n",
        "# After generating the list, find the following:\n",
        "# (i) Compare the given list of visualization for the given data:\n",
        "# 1. Frequency & Gaussian distribution\n",
        "# 2. Frequency smoothened KDE plot\n",
        "# 3. Gaussian distribution & smoothened KDE plot\n",
        "# (ii) Write a Python function to calculate the range of a given list of numbers.\n",
        "# (iii) Create a program to find the variance and standard deviation of a list of numbers.\n",
        "# (iv) Implement a function to compute the interquartile range (IQR) of a list of values.\n",
        "# (v) Build a program to calculate the coefficient of variation for a dataset.\n",
        "# (vi) Write a Python function to find the mean absolute deviation (MAD) of a list of numbers.\n",
        "# (vii) Create a program to calculate the quartile deviation of a list of values.\n",
        "#(viii) Implement a function to find the range-based coefficient of dispersion for a dataset.\n",
        "\n",
        "import numpy as np\n",
        "import matplotlib.pyplot as plt\n",
        "import seaborn as sns\n",
        "from scipy.stats import norm\n",
        "from scipy.stats import gaussian_kde\n",
        "from statistics import variance, stdev, median\n",
        "from scipy.stats import iqr\n",
        "int_list2 = np.random.randint(200, 301, size=500)\n",
        "def visualize_data(data):\n",
        "    plt.figure(figsize=(12, 6))\n",
        "    plt.subplot(2, 3, 1)\n",
        "    sns.histplot(data, bins=20, kde=False, color='skyblue', stat='density')\n",
        "    plt.title(\"Frequency Distribution\")\n",
        "    plt.xlabel(\"Values\")\n",
        "    plt.ylabel(\"Frequency\")\n",
        "    plt.subplot(2, 3, 2)\n",
        "    sns.kdeplot(data, color='orange', label='KDE')\n",
        "    plt.plot(np.linspace(min(data), max(data), 1000), norm.pdf(np.linspace(min(data), max(data), 1000), np.mean(data), np.std(data)),\n",
        "             'r-', label='Gaussian')\n",
        "    plt.title(\"Frequency & Gaussian Distribution\")\n",
        "    plt.xlabel(\"Values\")\n",
        "    plt.ylabel(\"Density\")\n",
        "    plt.legend()\n",
        "    plt.subplot(2, 3, 3)\n",
        "    sns.kdeplot(data, color='green', label='KDE')\n",
        "    plt.title(\"Frequency Smoothened KDE Plot\")\n",
        "    plt.xlabel(\"Values\")\n",
        "    plt.ylabel(\"Density\")\n",
        "    plt.subplot(2, 3, 4)\n",
        "    sns.histplot(data, bins=20, kde=False, color='skyblue', stat='density')\n",
        "    plt.title(\"Frequency Distribution\")\n",
        "    plt.xlabel(\"Values\")\n",
        "    plt.ylabel(\"Frequency\")\n",
        "    plt.subplot(2, 3, 5)\n",
        "    plt.plot(np.linspace(min(data), max(data), 1000), norm.pdf(np.linspace(min(data), max(data), 1000), np.mean(data), np.std(data)),\n",
        "             'r-', label='Gaussian')\n",
        "    sns.kdeplot(data, color='purple', label='KDE')\n",
        "    plt.title(\"Gaussian Distribution & Smoothened KDE Plot\")\n",
        "    plt.xlabel(\"Values\")\n",
        "    plt.ylabel(\"Density\")\n",
        "    plt.legend()\n",
        "    plt.tight_layout()\n",
        "    plt.show()\n",
        "visualize_data(int_list2)\n",
        "def calculate_range(numbers):\n",
        "    return max(numbers) - min(numbers)\n",
        "def calculate_variance_and_std_dev(numbers):\n",
        "    return variance(numbers), stdev(numbers)\n",
        "def calculate_iqr(numbers):\n",
        "    return iqr(numbers)\n",
        "def calculate_coefficient_of_variation(numbers):\n",
        "    return stdev(numbers) / mean(numbers)\n",
        "def calculate_mad(numbers):\n",
        "    mean_val = mean(numbers)\n",
        "    return sum(abs(x - mean_val) for x in numbers) / len(numbers)\n",
        "def calculate_quartile_deviation(numbers):\n",
        "    q1 = np.percentile(numbers, 25)\n",
        "    q3 = np.percentile(numbers, 75)\n",
        "    return (q3 - q1) / 2\n",
        "def calculate_range_based_cod(numbers):\n",
        "    return (max(numbers) - min(numbers)) / (max(numbers) + min(numbers))\n",
        "print(\"Range:\", calculate_range(int_list2))\n",
        "print(\"Variance and Standard Deviation:\", calculate_variance_and_std_dev(int_list2))\n",
        "print(\"Interquartile Range (IQR):\", calculate_iqr(int_list2))\n",
        "print(\"Coefficient of Variation:\", calculate_coefficient_of_variation(int_list2))\n",
        "print(\"Mean Absolute Deviation (MAD):\", calculate_mad(int_list2))\n",
        "print(\"Quartile Deviation:\", calculate_quartile_deviation(int_list2))\n",
        "print(\"Range-based Coefficient of Dispersion:\", calculate_range_based_cod(int_list2))"
      ],
      "metadata": {
        "colab": {
          "base_uri": "https://localhost:8080/",
          "height": 974
        },
        "id": "K45KAMF2l419",
        "outputId": "531d9f96-439a-47cb-df09-719609fda62b"
      },
      "execution_count": null,
      "outputs": [
        {
          "output_type": "display_data",
          "data": {
            "text/plain": [
              "<Figure size 1200x600 with 5 Axes>"
            ],
            "image/png": "[encoded data removed]"
          },
          "metadata": {}
        },
        {
          "output_type": "stream",
          "name": "stdout",
          "text": [
            "Range: 100\n",
            "Variance and Standard Deviation: (852, 29.189039038652847)\n",
            "Interquartile Range (IQR): 49.0\n"
          ]
        },
        {
          "output_type": "error",
          "ename": "NameError",
          "evalue": "name 'mean' is not defined",
          "traceback": [
            "\u001b[0;31m---------------------------------------------------------------------------\u001b[0m",
            "\u001b[0;31mNameError\u001b[0m                                 Traceback (most recent call last)",
            "\u001b[0;32m<ipython-input-4-e6506bf169e4>\u001b[0m in \u001b[0;36m<cell line: 79>\u001b[0;34m()\u001b[0m\n\u001b[1;32m     77\u001b[0m \u001b[0mprint\u001b[0m\u001b[0;34m(\u001b[0m\u001b[0;34m\"Variance and Standard Deviation:\"\u001b[0m\u001b[0;34m,\u001b[0m \u001b[0mcalculate_variance_and_std_dev\u001b[0m\u001b[0;34m(\u001b[0m\u001b[0mint_list2\u001b[0m\u001b[0;34m)\u001b[0m\u001b[0;34m)\u001b[0m\u001b[0;34m\u001b[0m\u001b[0;34m\u001b[0m\u001b[0m\n\u001b[1;32m     78\u001b[0m \u001b[0mprint\u001b[0m\u001b[0;34m(\u001b[0m\u001b[0;34m\"Interquartile Range (IQR):\"\u001b[0m\u001b[0;34m,\u001b[0m \u001b[0mcalculate_iqr\u001b[0m\u001b[0;34m(\u001b[0m\u001b[0mint_list2\u001b[0m\u001b[0;34m)\u001b[0m\u001b[0;34m)\u001b[0m\u001b[0;34m\u001b[0m\u001b[0;34m\u001b[0m\u001b[0m\n\u001b[0;32m---> 79\u001b[0;31m \u001b[0mprint\u001b[0m\u001b[0;34m(\u001b[0m\u001b[0;34m\"Coefficient of Variation:\"\u001b[0m\u001b[0;34m,\u001b[0m \u001b[0mcalculate_coefficient_of_variation\u001b[0m\u001b[0;34m(\u001b[0m\u001b[0mint_list2\u001b[0m\u001b[0;34m)\u001b[0m\u001b[0;34m)\u001b[0m\u001b[0;34m\u001b[0m\u001b[0;34m\u001b[0m\u001b[0m\n\u001b[0m\u001b[1;32m     80\u001b[0m \u001b[0mprint\u001b[0m\u001b[0;34m(\u001b[0m\u001b[0;34m\"Mean Absolute Deviation (MAD):\"\u001b[0m\u001b[0;34m,\u001b[0m \u001b[0mcalculate_mad\u001b[0m\u001b[0;34m(\u001b[0m\u001b[0mint_list2\u001b[0m\u001b[0;34m)\u001b[0m\u001b[0;34m)\u001b[0m\u001b[0;34m\u001b[0m\u001b[0;34m\u001b[0m\u001b[0m\n\u001b[1;32m     81\u001b[0m \u001b[0mprint\u001b[0m\u001b[0;34m(\u001b[0m\u001b[0;34m\"Quartile Deviation:\"\u001b[0m\u001b[0;34m,\u001b[0m \u001b[0mcalculate_quartile_deviation\u001b[0m\u001b[0;34m(\u001b[0m\u001b[0mint_list2\u001b[0m\u001b[0;34m)\u001b[0m\u001b[0;34m)\u001b[0m\u001b[0;34m\u001b[0m\u001b[0;34m\u001b[0m\u001b[0m\n",
            "\u001b[0;32m<ipython-input-4-e6506bf169e4>\u001b[0m in \u001b[0;36mcalculate_coefficient_of_variation\u001b[0;34m(numbers)\u001b[0m\n\u001b[1;32m     64\u001b[0m     \u001b[0;32mreturn\u001b[0m \u001b[0miqr\u001b[0m\u001b[0;34m(\u001b[0m\u001b[0mnumbers\u001b[0m\u001b[0;34m)\u001b[0m\u001b[0;34m\u001b[0m\u001b[0;34m\u001b[0m\u001b[0m\n\u001b[1;32m     65\u001b[0m \u001b[0;32mdef\u001b[0m \u001b[0mcalculate_coefficient_of_variation\u001b[0m\u001b[0;34m(\u001b[0m\u001b[0mnumbers\u001b[0m\u001b[0;34m)\u001b[0m\u001b[0;34m:\u001b[0m\u001b[0;34m\u001b[0m\u001b[0;34m\u001b[0m\u001b[0m\n\u001b[0;32m---> 66\u001b[0;31m     \u001b[0;32mreturn\u001b[0m \u001b[0mstdev\u001b[0m\u001b[0;34m(\u001b[0m\u001b[0mnumbers\u001b[0m\u001b[0;34m)\u001b[0m \u001b[0;34m/\u001b[0m \u001b[0mmean\u001b[0m\u001b[0;34m(\u001b[0m\u001b[0mnumbers\u001b[0m\u001b[0;34m)\u001b[0m\u001b[0;34m\u001b[0m\u001b[0;34m\u001b[0m\u001b[0m\n\u001b[0m\u001b[1;32m     67\u001b[0m \u001b[0;32mdef\u001b[0m \u001b[0mcalculate_mad\u001b[0m\u001b[0;34m(\u001b[0m\u001b[0mnumbers\u001b[0m\u001b[0;34m)\u001b[0m\u001b[0;34m:\u001b[0m\u001b[0;34m\u001b[0m\u001b[0;34m\u001b[0m\u001b[0m\n\u001b[1;32m     68\u001b[0m     \u001b[0mmean_val\u001b[0m \u001b[0;34m=\u001b[0m \u001b[0mmean\u001b[0m\u001b[0;34m(\u001b[0m\u001b[0mnumbers\u001b[0m\u001b[0;34m)\u001b[0m\u001b[0;34m\u001b[0m\u001b[0;34m\u001b[0m\u001b[0m\n",
            "\u001b[0;31mNameError\u001b[0m: name 'mean' is not defined"
          ]
        }
      ]
    },
    {
      "cell_type": "code",
      "source": [
        "# Q3) Write a Python class representing a discrete random variable with methods to calculate its expected\n",
        "class DiscreteRandomVariable:\n",
        "    def __init__(self, values, probabilities):\n",
        "        if len(values) != len(probabilities):\n",
        "            raise ValueError(\"Number of values and probabilities must be the same\")\n",
        "        self.values = values\n",
        "        self.probabilities = probabilities\n",
        "    def expected_value(self):\n",
        "        return sum(value * prob for value, prob in zip(self.values, self.probabilities))\n",
        "    def variance(self):\n",
        "        mean = self.expected_value()\n",
        "        return sum((value - mean)**2 * prob for value, prob in zip(self.values, self.probabilities))\n",
        "values = [1, 2, 3, 4, 5]\n",
        "probabilities = [0.1, 0.2, 0.3, 0.2, 0.2]\n",
        "random_variable = DiscreteRandomVariable(values, probabilities)\n",
        "print(\"Expected Value:\", random_variable.expected_value())\n",
        "print(\"Variance:\", random_variable.variance())"
      ],
      "metadata": {
        "colab": {
          "base_uri": "https://localhost:8080/"
        },
        "id": "cQoiUmjem8aO",
        "outputId": "2e08c43c-f454-4763-fc04-9a8649634fe6"
      },
      "execution_count": null,
      "outputs": [
        {
          "output_type": "stream",
          "name": "stdout",
          "text": [
            "Expected Value: 3.2\n",
            "Variance: 1.56\n"
          ]
        }
      ]
    },
    {
      "cell_type": "code",
      "source": [
        "# Q4)Implement a program to simulate the rolling of a fair six-sided die and calculate the expected value and variance of the outcomes.\n",
        "import numpy as np\n",
        "class FairSixSidedDie:\n",
        "    def __init__(self):\n",
        "        self.num_sides = 6\n",
        "        self.outcomes = np.arange(1, self.num_sides + 1)\n",
        "    def roll(self, num_rolls):\n",
        "        return np.random.choice(self.outcomes, size=num_rolls)\n",
        "def calculate_expected_value(outcomes):\n",
        "    return np.mean(outcomes)\n",
        "def calculate_variance(outcomes):\n",
        "    return np.var(outcomes)\n",
        "die = FairSixSidedDie()\n",
        "num_rolls = 10000\n",
        "roll_results = die.roll(num_rolls)\n",
        "expected_value = calculate_expected_value(roll_results)\n",
        "variance = calculate_variance(roll_results)\n",
        "print(\"Expected Value:\", expected_value)\n",
        "print(\"Variance:\", variance)"
      ],
      "metadata": {
        "colab": {
          "base_uri": "https://localhost:8080/"
        },
        "id": "sxWxkVfInZBM",
        "outputId": "5e027dca-4e1c-4fd4-88c1-199c3ac35174"
      },
      "execution_count": null,
      "outputs": [
        {
          "output_type": "stream",
          "name": "stdout",
          "text": [
            "Expected Value: 3.5099\n",
            "Variance: 2.9175019899999994\n"
          ]
        }
      ]
    },
    {
      "cell_type": "code",
      "source": [
        "# Q5) Create a Python function to generate random samples from a given probability distribution (e.g.,binomial, Poisson) and calculate their mean and variance.\n",
        "import numpy as np\n",
        "def generate_samples(distribution, parameters, sample_size):\n",
        "    if distribution == 'binomial':\n",
        "        n, p = parameters\n",
        "        samples = np.random.binomial(n, p, sample_size)\n",
        "    elif distribution == 'poisson':\n",
        "        lam = parameters[0]\n",
        "        samples = np.random.poisson(lam, sample_size)\n",
        "    else:\n",
        "        raise ValueError(\"Invalid distribution. Choose 'binomial' or 'poisson'.\")\n",
        "    return samples\n",
        "def calculate_mean_and_variance(samples):\n",
        "    mean = np.mean(samples)\n",
        "    variance = np.var(samples)\n",
        "    return mean, variance\n",
        "binomial_samples = generate_samples('binomial', (10, 0.5), 1000)\n",
        "binomial_mean, binomial_variance = calculate_mean_and_variance(binomial_samples)\n",
        "print(\"Binomial Mean:\", binomial_mean)\n",
        "print(\"Binomial Variance:\", binomial_variance)\n",
        "poisson_samples = generate_samples('poisson', (5,), 1000)\n",
        "poisson_mean, poisson_variance = calculate_mean_and_variance(poisson_samples)\n",
        "print(\"Poisson Mean:\", poisson_mean)\n",
        "print(\"Poisson Variance:\", poisson_variance)"
      ],
      "metadata": {
        "colab": {
          "base_uri": "https://localhost:8080/"
        },
        "id": "lSooIQGOoDrO",
        "outputId": "d882ed63-eae4-4b8d-b533-cb689ab6b49d"
      },
      "execution_count": null,
      "outputs": [
        {
          "output_type": "stream",
          "name": "stdout",
          "text": [
            "Binomial Mean: 5.008\n",
            "Binomial Variance: 2.645936\n",
            "Poisson Mean: 5.066\n",
            "Poisson Variance: 5.219644000000001\n"
          ]
        }
      ]
    },
    {
      "cell_type": "code",
      "source": [
        "# Q6) Write a Python script to generate random numbers from a Gaussian (normal) distribution and compute the mean, variance, and standard deviation of the samples.\n",
        "import numpy as np\n",
        "def generate_gaussian_samples(mean, std_dev, sample_size):\n",
        "    samples = np.random.normal(mean, std_dev, sample_size)\n",
        "    return samples\n",
        "def calculate_statistics(samples):\n",
        "    mean = np.mean(samples)\n",
        "    variance = np.var(samples)\n",
        "    std_dev = np.std(samples)\n",
        "    return mean, variance, std_dev\n",
        "mean = 0\n",
        "std_dev = 1\n",
        "sample_size = 1000\n",
        "gaussian_samples = generate_gaussian_samples(mean, std_dev, sample_size)\n",
        "gaussian_mean, gaussian_variance, gaussian_std_dev = calculate_statistics(gaussian_samples)\n",
        "print(\"Gaussian Mean:\", gaussian_mean)\n",
        "print(\"Gaussian Variance:\", gaussian_variance)\n",
        "print(\"Gaussian Standard Deviation:\", gaussian_std_dev)"
      ],
      "metadata": {
        "colab": {
          "base_uri": "https://localhost:8080/"
        },
        "id": "_3qevkXio10m",
        "outputId": "d54a1359-cfc6-43e0-cb29-e0ccf8fc3719"
      },
      "execution_count": null,
      "outputs": [
        {
          "output_type": "stream",
          "name": "stdout",
          "text": [
            "Gaussian Mean: -0.014327961605156819\n",
            "Gaussian Variance: 1.0107168389824606\n",
            "Gaussian Standard Deviation: 1.0053441395773193\n"
          ]
        }
      ]
    },
    {
      "cell_type": "code",
      "source": [
        "# Q7) Use seaborn librar to load tips dataset. Find the 6ollowing 6rom the dataset 6or the columns total_bill and tip`:\n",
        "# (i) Wrte a Python functon that calculates ther skewness.\n",
        "# (ii) Create a program that determnes whether the columns exhbt postve skewness, negatve skewness, or approxmately symmetrc.\n",
        "# (iii) Wrte a functon that calculates the covarance between two columns.\n",
        "# (iv) Implement a Python program that calculates the Pearson correlation coefficient between two columns.\n",
        "# (v) Write a script to visualize the correlation between two specific columns a Pandas DataFrame using scatter plots.\n",
        "import seaborn as sns\n",
        "import pandas as pd\n",
        "tips_df = sns.load_dataset('tips')\n",
        "def calculate_skewness(data):\n",
        "    return data.skew()\n",
        "def determine_skewness(skewness):\n",
        "    if skewness > 0:\n",
        "        return \"Positive skewness\"\n",
        "    elif skewness < 0:\n",
        "        return \"Negative skewness\"\n",
        "    else:\n",
        "        return \"Approximately symmetric\"\n",
        "def calculate_covariance(data1, data2):\n",
        "    return data1.cov(data2)\n",
        "def calculate_pearson_correlation(data1, data2):\n",
        "    return data1.corr(data2)\n",
        "def visualize_correlation(data, column1, column2):\n",
        "    sns.scatterplot(x=column1, y=column2, data=data)\n",
        "    plt.xlabel(column1)\n",
        "    plt.ylabel(column2)\n",
        "    plt.title(f\"Scatter Plot of {column1} vs {column2}\")\n",
        "    plt.show()\n",
        "total_bill_skewness = calculate_skewness(tips_df['total_bill'])\n",
        "print(\"Total Bill Skewness:\", determine_skewness(total_bill_skewness))\n",
        "tip_skewness = calculate_skewness(tips_df['tip'])\n",
        "print(\"Tip Skewness:\", determine_skewness(tip_skewness))\n",
        "covariance_total_bill_tip = calculate_covariance(tips_df['total_bill'], tips_df['tip'])\n",
        "print(\"Covariance between Total Bill and Tip:\", covariance_total_bill_tip)\n",
        "correlation_total_bill_tip = calculate_pearson_correlation(tips_df['total_bill'], tips_df['tip'])\n",
        "print(\"Pearson Correlation Coefficient between Total Bill and Tip:\", correlation_total_bill_tip)\n",
        "visualize_correlation(tips_df, 'total_bill', 'tip')"
      ],
      "metadata": {
        "colab": {
          "base_uri": "https://localhost:8080/",
          "height": 541
        },
        "id": "e6XS63ispmK4",
        "outputId": "273a3f09-1e11-4cb1-882b-8eaf291a5697"
      },
      "execution_count": null,
      "outputs": [
        {
          "output_type": "stream",
          "name": "stdout",
          "text": [
            "Total Bill Skewness: Positive skewness\n",
            "Tip Skewness: Positive skewness\n",
            "Covariance between Total Bill and Tip: 8.323501629224854\n",
            "Pearson Correlation Coefficient between Total Bill and Tip: 0.6757341092113641\n"
          ]
        },
        {
          "output_type": "display_data",
          "data": {
            "text/plain": [
              "<Figure size 640x480 with 1 Axes>"
            ],
            "image/png": "[encoded data removed]"
          },
          "metadata": {}
        }
      ]
    },
    {
      "cell_type": "code",
      "source": [
        "# Q8) Write a Python function to calculate the probability densiyt function (PDF) of a continuous random variable 6or a given normal distribution.\n",
        "import numpy as np\n",
        "def normal_pdf(x, mean, std_dev):\n",
        "    coefficient = 1 / (std_dev * np.sqrt(2 * np.pi))\n",
        "    exponent = -((x - mean) ** 2) / (2 * std_dev ** 2)\n",
        "    pdf = coefficient * np.exp(exponent)\n",
        "    return pdf\n",
        "mean = 0\n",
        "std_dev = 1\n",
        "x_values = np.linspace(-3, 3, 100)\n",
        "pdf_values = normal_pdf(x_values, mean, std_dev)\n",
        "print(\"Example PDF values:\")\n",
        "for x, pdf in zip(x_values[:5], pdf_values[:5]):\n",
        "    print(f\"PDF at x={x}: {pdf}\")"
      ],
      "metadata": {
        "colab": {
          "base_uri": "https://localhost:8080/"
        },
        "id": "8cXvIDHHrB42",
        "outputId": "9bed1b30-3b3d-4617-fa6d-10b3815c9ec8"
      },
      "execution_count": null,
      "outputs": [
        {
          "output_type": "stream",
          "name": "stdout",
          "text": [
            "Example PDF values:\n",
            "PDF at x=-3.0: 0.0044318484119380075\n",
            "PDF at x=-2.9393939393939394: 0.005305788425287607\n",
            "PDF at x=-2.878787878787879: 0.006328776428582762\n",
            "PDF at x=-2.8181818181818183: 0.00752132534870932\n",
            "PDF at x=-2.757575757575758: 0.008905817513416034\n"
          ]
        }
      ]
    },
    {
      "cell_type": "code",
      "source": [
        "# Q9) Create a program to calculate the cummulative distribution function (CDF) of exponential distribution.\n",
        "import numpy as np\n",
        "def exponential_cdf(x, rate_parameter):\n",
        "    cdf = 1 - np.exp(-rate_parameter * x)\n",
        "    return cdf\n",
        "rate_parameter = 0.5\n",
        "x_values = np.linspace(0, 5, 100)\n",
        "cdf_values = exponential_cdf(x_values, rate_parameter)\n",
        "print(\"Example CDF values:\")\n",
        "for x, cdf in zip(x_values[:5], cdf_values[:5]):\n",
        "    print(f\"CDF at x={x}: {cdf}\")"
      ],
      "metadata": {
        "colab": {
          "base_uri": "https://localhost:8080/"
        },
        "id": "5AeKi-lSrhXF",
        "outputId": "c817436b-1cea-4af1-e443-f949db51ed87"
      },
      "execution_count": null,
      "outputs": [
        {
          "output_type": "stream",
          "name": "stdout",
          "text": [
            "Example CDF values:\n",
            "CDF at x=0.0: 0.0\n",
            "CDF at x=0.050505050505050504: 0.024936347258839642\n",
            "CDF at x=0.10101010101010101: 0.04925087310306597\n",
            "CDF at x=0.15151515151515152: 0.07295908348740654\n",
            "CDF at x=0.20202020202020202: 0.09607609770471759\n"
          ]
        }
      ]
    },
    {
      "cell_type": "code",
      "source": [
        "# Q10) To calculate the probability mass function (PMF) of the Poisson distribution, you can use the formula:\n",
        "import numpy as np\n",
        "import math\n",
        "def poisson_pmf(k, rate_parameter):\n",
        "    pmf = np.exp(-rate_parameter) * (rate_parameter**k) / math.factorial(k)\n",
        "    return pmf\n",
        "rate_parameter = 2\n",
        "k_values = np.arange(0, 10)\n",
        "k_values = k_values.astype(int)\n",
        "pmf_values = poisson_pmf(k_values, rate_parameter)\n",
        "print(\"PMF values:\")\n",
        "for k, pmf in zip(k_values, pmf_values):\n",
        "    print(f\"PMF at k={k}: {pmf}\")"
      ],
      "metadata": {
        "colab": {
          "base_uri": "https://localhost:8080/",
          "height": 332
        },
        "id": "y9d0TP1BsE0f",
        "outputId": "9da5831f-b992-43a9-9a63-e1d095a20d92"
      },
      "execution_count": null,
      "outputs": [
        {
          "output_type": "error",
          "ename": "NameError",
          "evalue": "name 'pmf' is not defined",
          "traceback": [
            "\u001b[0;31m---------------------------------------------------------------------------\u001b[0m",
            "\u001b[0;31mNameError\u001b[0m                                 Traceback (most recent call last)",
            "\u001b[0;32m<ipython-input-16-a9a258ee4734>\u001b[0m in \u001b[0;36m<cell line: 10>\u001b[0;34m()\u001b[0m\n\u001b[1;32m      8\u001b[0m \u001b[0mk_values\u001b[0m \u001b[0;34m=\u001b[0m \u001b[0mnp\u001b[0m\u001b[0;34m.\u001b[0m\u001b[0marange\u001b[0m\u001b[0;34m(\u001b[0m\u001b[0;36m0\u001b[0m\u001b[0;34m,\u001b[0m \u001b[0;36m10\u001b[0m\u001b[0;34m)\u001b[0m\u001b[0;34m\u001b[0m\u001b[0;34m\u001b[0m\u001b[0m\n\u001b[1;32m      9\u001b[0m \u001b[0mk_values\u001b[0m \u001b[0;34m=\u001b[0m \u001b[0mk_values\u001b[0m\u001b[0;34m.\u001b[0m\u001b[0mastype\u001b[0m\u001b[0;34m(\u001b[0m\u001b[0mint\u001b[0m\u001b[0;34m)\u001b[0m\u001b[0;34m\u001b[0m\u001b[0;34m\u001b[0m\u001b[0m\n\u001b[0;32m---> 10\u001b[0;31m \u001b[0mpmf_values\u001b[0m \u001b[0;34m=\u001b[0m \u001b[0mpoisson_pmf\u001b[0m\u001b[0;34m(\u001b[0m\u001b[0mk_values\u001b[0m\u001b[0;34m,\u001b[0m \u001b[0mrate_parameter\u001b[0m\u001b[0;34m)\u001b[0m\u001b[0;34m\u001b[0m\u001b[0;34m\u001b[0m\u001b[0m\n\u001b[0m\u001b[1;32m     11\u001b[0m \u001b[0mprint\u001b[0m\u001b[0;34m(\u001b[0m\u001b[0;34m\"PMF values:\"\u001b[0m\u001b[0;34m)\u001b[0m\u001b[0;34m\u001b[0m\u001b[0;34m\u001b[0m\u001b[0m\n\u001b[1;32m     12\u001b[0m \u001b[0;32mfor\u001b[0m \u001b[0mk\u001b[0m\u001b[0;34m,\u001b[0m \u001b[0mpmf\u001b[0m \u001b[0;32min\u001b[0m \u001b[0mzip\u001b[0m\u001b[0;34m(\u001b[0m\u001b[0mk_values\u001b[0m\u001b[0;34m,\u001b[0m \u001b[0mpmf_values\u001b[0m\u001b[0;34m)\u001b[0m\u001b[0;34m:\u001b[0m\u001b[0;34m\u001b[0m\u001b[0;34m\u001b[0m\u001b[0m\n",
            "\u001b[0;32m<ipython-input-16-a9a258ee4734>\u001b[0m in \u001b[0;36mpoisson_pmf\u001b[0;34m(k, rate_parameter)\u001b[0m\n\u001b[1;32m      4\u001b[0m \u001b[0;32mdef\u001b[0m \u001b[0mpoisson_pmf\u001b[0m\u001b[0;34m(\u001b[0m\u001b[0mk\u001b[0m\u001b[0;34m,\u001b[0m \u001b[0mrate_parameter\u001b[0m\u001b[0;34m)\u001b[0m\u001b[0;34m:\u001b[0m\u001b[0;34m\u001b[0m\u001b[0;34m\u001b[0m\u001b[0m\n\u001b[1;32m      5\u001b[0m     \u001b[0;31m#pmf = np.exp(-rate_parameter) * (rate_parameter**k) / math.factorial(k)\u001b[0m\u001b[0;34m\u001b[0m\u001b[0;34m\u001b[0m\u001b[0m\n\u001b[0;32m----> 6\u001b[0;31m     \u001b[0;32mreturn\u001b[0m \u001b[0mpmf\u001b[0m\u001b[0;34m\u001b[0m\u001b[0;34m\u001b[0m\u001b[0m\n\u001b[0m\u001b[1;32m      7\u001b[0m \u001b[0mrate_parameter\u001b[0m \u001b[0;34m=\u001b[0m \u001b[0;36m2\u001b[0m\u001b[0;34m\u001b[0m\u001b[0;34m\u001b[0m\u001b[0m\n\u001b[1;32m      8\u001b[0m \u001b[0mk_values\u001b[0m \u001b[0;34m=\u001b[0m \u001b[0mnp\u001b[0m\u001b[0;34m.\u001b[0m\u001b[0marange\u001b[0m\u001b[0;34m(\u001b[0m\u001b[0;36m0\u001b[0m\u001b[0;34m,\u001b[0m \u001b[0;36m10\u001b[0m\u001b[0;34m)\u001b[0m\u001b[0;34m\u001b[0m\u001b[0;34m\u001b[0m\u001b[0m\n",
            "\u001b[0;31mNameError\u001b[0m: name 'pmf' is not defined"
          ]
        }
      ]
    },
    {
      "cell_type": "code",
      "source": [
        "# Q11) A company wants to test iN a new website layout leads to a higher conversion rate (percentage oN visitors who make a purchase). They collect data Nrom the old and new layouts to compare.\n",
        "# To generate the data use the following command: import numpy as np\n",
        "# 50 purchases out of 1000 visitors\n",
        "# old_layout = <p.array([1] * 50 + [0] * 950)\n",
        "# 70 purchases out of 1000 visitors\n",
        "# new_layout = np.array([1] * 70 + [0] * 930)\n",
        "# Apply z-test to find which layout is successful.\n",
        "import numpy as np\n",
        "from statsmodels.stats.proportion import proportions_ztest\n",
        "old_layout = np.array([1] * 50 + [0] * 950)\n",
        "new_layout = np.array([1] * 70 + [0] * 930)\n",
        "successes = np.array([np.sum(old_layout), np.sum(new_layout)])\n",
        "nobs = np.array([len(old_layout), len(new_layout)])\n",
        "z_score, p_value = proportions_ztest(successes, nobs, alternative='larger')\n",
        "if p_value < 0.05:\n",
        "    print(\"The new layout leads to a significantly higher conversion rate than the old layout.\")\n",
        "elif p_value > 0.05:\n",
        "    print(\"There is no significant difference in conversion rates between the old and new layouts.\")\n",
        "else:\n",
        "    print(\"The results are inconclusive.\")\n",
        "print(\"Z-score:\", z_score)\n",
        "print(\"P-value:\", p_value)"
      ],
      "metadata": {
        "colab": {
          "base_uri": "https://localhost:8080/"
        },
        "id": "5GLsLvMOtugH",
        "outputId": "19c34ea6-9e2d-4f7f-a72a-641c29089a04"
      },
      "execution_count": null,
      "outputs": [
        {
          "output_type": "stream",
          "name": "stdout",
          "text": [
            "There is no significant difference in conversion rates between the old and new layouts.\n",
            "Z-score: -1.883108942886774\n",
            "P-value: 0.9701571972337869\n"
          ]
        }
      ]
    },
    {
      "cell_type": "code",
      "source": [
        "# Q12) A tutoring service claims that its program improves students' exam scores. A sample of students who participated in the program was taken, and their scores before and after the program were recorded.\n",
        "# Use the below code to ge<erate samples of respective arrays of marks:\n",
        "#```python\n",
        "# before_program = <p.array([75, 80, 85, 70, 90, 78, 92, 88, 82, 87])\n",
        "# after_program = <p.array([80, 85, 90, 80, 92, 80, 95, 90, 85, 88])\n",
        "# ```\n",
        "# Use z-test to fi<d if the claims made by tutor are true or false.\n",
        "import numpy as np\n",
        "from scipy import stats\n",
        "before_program = np.array([75, 80, 85, 70, 90, 78, 92, 88, 82, 87])\n",
        "after_program = np.array([80, 85, 90, 80, 92, 80, 95, 90, 85, 88])\n",
        "z_score, p_value = stats.ttest_rel(before_program, after_program)\n",
        "alpha = 0.05\n",
        "if p_value < alpha:\n",
        "    print(\"The tutoring program significantly improves students' exam scores.\")\n",
        "else:\n",
        "    print(\"There is no significant improvement in students' exam scores due to the tutoring program.\")\n",
        "print(\"Z-score:\", z_score)\n",
        "print(\"P-value:\", p_value)"
      ],
      "metadata": {
        "colab": {
          "base_uri": "https://localhost:8080/"
        },
        "id": "7pAZY7AhyH_R",
        "outputId": "5199b5e8-05a0-4584-c7ed-c270c0ce393a"
      },
      "execution_count": null,
      "outputs": [
        {
          "output_type": "stream",
          "name": "stdout",
          "text": [
            "The tutoring program significantly improves students' exam scores.\n",
            "Z-score: -4.593190894944668\n",
            "P-value: 0.0013030932910086035\n"
          ]
        }
      ]
    },
    {
      "cell_type": "code",
      "source": [
        "# Q13) A pharmaceutical company wants to determine if a new drug is effective in reducing blood pressure. They conduct a study and record blood pressure measurements before and after administering the drug.\n",
        "# Use the below code to generate samples of respective arrays of blood pressure:\n",
        "# ```python\n",
        "# before_drug = <p.array([145, 150, 140, 135, 155, 160, 152, 148, 130, 138])\n",
        "# after_drug = <p.array([130, 140, 132, 128, 145, 148, 138, 136, 125, 130])\n",
        "# ```\n",
        "# Implement z-test to find if the drug really works or not.\n",
        "import numpy as np\n",
        "from scipy import stats\n",
        "before_drug = np.array([145, 150, 140, 135, 155, 160, 152, 148, 130, 138])\n",
        "after_drug = np.array([130, 140, 132, 128, 145, 148, 138, 136, 125, 130])\n",
        "z_score, p_value = stats.ttest_rel(before_drug, after_drug)\n",
        "alpha = 0.05\n",
        "if p_value < alpha:\n",
        "    print(\"The drug significantly reduces blood pressure.\")\n",
        "else:\n",
        "    print(\"There is no significant reduction in blood pressure due to the drug.\")\n",
        "print(\"Z-score:\", z_score)\n",
        "print(\"P-value:\", p_value)"
      ],
      "metadata": {
        "colab": {
          "base_uri": "https://localhost:8080/"
        },
        "id": "UizrU0d9y0o2",
        "outputId": "1dd52d2e-98c9-42b9-d720-d28a644e3541"
      },
      "execution_count": null,
      "outputs": [
        {
          "output_type": "stream",
          "name": "stdout",
          "text": [
            "The drug significantly reduces blood pressure.\n",
            "Z-score: 10.04987562112089\n",
            "P-value: 3.433031432681152e-06\n"
          ]
        }
      ]
    },
    {
      "cell_type": "code",
      "source": [
        "# Q14) A customer service department claims that their average response time is less than 5 minutes. A sample of recent customer interactions was taken, and the response times were recorded.\n",
        "# Implement the below code to generate the array of response time:\n",
        "# ```python\n",
        "# response_times = np.array([4.3, 3.8, 5.1, 4.9, 4.7, 4.2, 5.2, 4.5, 4.6, 4.4])\n",
        "# ```\n",
        "# Implement z-test to find the claims made by customer service department are true or false.\n",
        "import numpy as np\n",
        "from scipy import stats\n",
        "response_times = np.array([4.3, 3.8, 5.1, 4.9, 4.7, 4.2, 5.2, 4.5, 4.6, 4.4])\n",
        "population_mean = 5\n",
        "z_score, p_value = stats.ztest(response_times, value=population_mean, alternative='smaller')\n",
        "alpha = 0.05\n",
        "if p_value < alpha:\n",
        "    print(\"The claim that the average response time is less than 5 minutes is supported.\")\n",
        "else:\n",
        "    print(\"There is no sufficient evidence to support the claim that the average response time is less than 5 minutes.\")\n",
        "print(\"Z-score:\", z_score)\n",
        "print(\"P-value:\", p_value)"
      ],
      "metadata": {
        "colab": {
          "base_uri": "https://localhost:8080/",
          "height": 211
        },
        "id": "1T3YrurG0Nk4",
        "outputId": "7d7307b7-3a14-4da8-9802-48f041764f3d"
      },
      "execution_count": null,
      "outputs": [
        {
          "output_type": "error",
          "ename": "AttributeError",
          "evalue": "module 'scipy.stats' has no attribute 'ztest'",
          "traceback": [
            "\u001b[0;31m---------------------------------------------------------------------------\u001b[0m",
            "\u001b[0;31mAttributeError\u001b[0m                            Traceback (most recent call last)",
            "\u001b[0;32m<ipython-input-20-574d7bff0d3b>\u001b[0m in \u001b[0;36m<cell line: 11>\u001b[0;34m()\u001b[0m\n\u001b[1;32m      9\u001b[0m \u001b[0mresponse_times\u001b[0m \u001b[0;34m=\u001b[0m \u001b[0mnp\u001b[0m\u001b[0;34m.\u001b[0m\u001b[0marray\u001b[0m\u001b[0;34m(\u001b[0m\u001b[0;34m[\u001b[0m\u001b[0;36m4.3\u001b[0m\u001b[0;34m,\u001b[0m \u001b[0;36m3.8\u001b[0m\u001b[0;34m,\u001b[0m \u001b[0;36m5.1\u001b[0m\u001b[0;34m,\u001b[0m \u001b[0;36m4.9\u001b[0m\u001b[0;34m,\u001b[0m \u001b[0;36m4.7\u001b[0m\u001b[0;34m,\u001b[0m \u001b[0;36m4.2\u001b[0m\u001b[0;34m,\u001b[0m \u001b[0;36m5.2\u001b[0m\u001b[0;34m,\u001b[0m \u001b[0;36m4.5\u001b[0m\u001b[0;34m,\u001b[0m \u001b[0;36m4.6\u001b[0m\u001b[0;34m,\u001b[0m \u001b[0;36m4.4\u001b[0m\u001b[0;34m]\u001b[0m\u001b[0;34m)\u001b[0m\u001b[0;34m\u001b[0m\u001b[0;34m\u001b[0m\u001b[0m\n\u001b[1;32m     10\u001b[0m \u001b[0mpopulation_mean\u001b[0m \u001b[0;34m=\u001b[0m \u001b[0;36m5\u001b[0m\u001b[0;34m\u001b[0m\u001b[0;34m\u001b[0m\u001b[0m\n\u001b[0;32m---> 11\u001b[0;31m \u001b[0mz_score\u001b[0m\u001b[0;34m,\u001b[0m \u001b[0mp_value\u001b[0m \u001b[0;34m=\u001b[0m \u001b[0mstats\u001b[0m\u001b[0;34m.\u001b[0m\u001b[0mztest\u001b[0m\u001b[0;34m(\u001b[0m\u001b[0mresponse_times\u001b[0m\u001b[0;34m,\u001b[0m \u001b[0mvalue\u001b[0m\u001b[0;34m=\u001b[0m\u001b[0mpopulation_mean\u001b[0m\u001b[0;34m,\u001b[0m \u001b[0malternative\u001b[0m\u001b[0;34m=\u001b[0m\u001b[0;34m'smaller'\u001b[0m\u001b[0;34m)\u001b[0m\u001b[0;34m\u001b[0m\u001b[0;34m\u001b[0m\u001b[0m\n\u001b[0m\u001b[1;32m     12\u001b[0m \u001b[0malpha\u001b[0m \u001b[0;34m=\u001b[0m \u001b[0;36m0.05\u001b[0m\u001b[0;34m\u001b[0m\u001b[0;34m\u001b[0m\u001b[0m\n\u001b[1;32m     13\u001b[0m \u001b[0;32mif\u001b[0m \u001b[0mp_value\u001b[0m \u001b[0;34m<\u001b[0m \u001b[0malpha\u001b[0m\u001b[0;34m:\u001b[0m\u001b[0;34m\u001b[0m\u001b[0;34m\u001b[0m\u001b[0m\n",
            "\u001b[0;31mAttributeError\u001b[0m: module 'scipy.stats' has no attribute 'ztest'"
          ]
        }
      ]
    },
    {
      "cell_type": "code",
      "source": [
        "# Q15) A company is testing two different website layouts to see which one leads to higher click-through rates. Write a Python function to perform an A/B test analysis, including calculating the t-statistic, degrees of\n",
        "# freedom and p-value. Use the following data: ```python\n",
        "# layout_a_clicks = [28, 32, 33, 29, 31, 34, 30, 35, 36, 37]\n",
        "# layout_b_clicks = [40, 41, 38, 42, 39, 44, 43, 41, 45, 47]\n",
        "import numpy as np\n",
        "from scipy import stats\n",
        "def ab_test(layout_a_clicks, layout_b_clicks):\n",
        "    layout_a_clicks = np.array(layout_a_clicks)\n",
        "    layout_b_clicks = np.array(layout_b_clicks)\n",
        "    t_statistic, p_value = stats.ttest_ind(layout_a_clicks, layout_b_clicks)\n",
        "    n_a = len(layout_a_clicks)\n",
        "    n_b = len(layout_b_clicks)\n",
        "    degrees_of_freedom = n_a + n_b - 2\n",
        "    return t_statistic, degrees_of_freedom, p_value\n",
        "layout_a_clicks = [28, 32, 33, 29, 31, 34, 30, 35, 36, 37]\n",
        "layout_b_clicks = [40, 41, 38, 42, 39, 44, 43, 41, 45, 47]\n",
        "t_statistic, degrees_of_freedom, p_value = ab_test(layout_a_clicks, layout_b_clicks)\n",
        "alpha = 0.05\n",
        "if p_value < alpha:\n",
        "    print(\"There is a significant difference between the click-through rates of the two website layouts.\")\n",
        "else:\n",
        "    print(\"There is no significant difference between the click-through rates of the two website layouts.\")\n",
        "print(\"T-statistic:\", t_statistic)\n",
        "print(\"Degrees of Freedom:\", degrees_of_freedom)\n",
        "print(\"P-value:\", p_value)"
      ],
      "metadata": {
        "colab": {
          "base_uri": "https://localhost:8080/"
        },
        "id": "mWJChTIm1Bzx",
        "outputId": "6498ee2d-5b2f-407b-b37d-7720d349f3f7"
      },
      "execution_count": null,
      "outputs": [
        {
          "output_type": "stream",
          "name": "stdout",
          "text": [
            "There is a significant difference between the click-through rates of the two website layouts.\n",
            "T-statistic: -7.298102156175071\n",
            "Degrees of Freedom: 18\n",
            "P-value: 8.833437608301987e-07\n"
          ]
        }
      ]
    },
    {
      "cell_type": "code",
      "source": [
        "# Q16)A pharmaceutical company wants to determine if a new drug is :ore effective than an existing drug in reducing cholesterol levels.\n",
        "# Create a program to analyze the clinical trial data and calculate the t-statistic and p-value for the treatment effect.\n",
        "# Use the following data of cholesterol level:\n",
        "# ```python\n",
        "# existing_drug_levels = [180, 182, 175, 185, 178, 176, 172, 184, 179, 183]\n",
        "# new_drug_levels = [170, 172, 165, 168, 175, 173, 170, 178, 172, 176]\n",
        "# ```\n",
        "import numpy as np\n",
        "from scipy import stats\n",
        "def compare_drugs(existing_drug_levels, new_drug_levels):\n",
        "    existing_drug_levels = np.array(existing_drug_levels)\n",
        "    new_drug_levels = np.array(new_drug_levels)\n",
        "    t_statistic, p_value = stats.ttest_ind(existing_drug_levels, new_drug_levels)\n",
        "    return t_statistic, p_value\n",
        "existing_drug_levels = [180, 182, 175, 185, 178, 176, 172, 184, 179, 183]\n",
        "new_drug_levels = [170, 172, 165, 168, 175, 173, 170, 178, 172, 176]\n",
        "t_statistic, p_value = compare_drugs(existing_drug_levels, new_drug_levels)\n",
        "alpha = 0.05\n",
        "if p_value < alpha:\n",
        "    print(\"The new drug is more effective than the existing drug in reducing cholesterol levels.\")\n",
        "else:\n",
        "    print(\"There is no significant difference in the effectiveness of the two drugs in reducing cholesterol levels.\")\n",
        "print(\"T-statistic:\", t_statistic)\n",
        "print(\"P-value:\", p_value)"
      ],
      "metadata": {
        "colab": {
          "base_uri": "https://localhost:8080/"
        },
        "id": "L34l4YFr3yxy",
        "outputId": "8cfd69c3-6e1e-4333-bac8-7425c81a34b3"
      },
      "execution_count": null,
      "outputs": [
        {
          "output_type": "stream",
          "name": "stdout",
          "text": [
            "The new drug is more effective than the existing drug in reducing cholesterol levels.\n",
            "T-statistic: 4.14048098620866\n",
            "P-value: 0.0006143398442372505\n"
          ]
        }
      ]
    },
    {
      "cell_type": "code",
      "source": [
        "# Q17) A school district introduces an educational intervention program to improve math scores. Write a Python function to analyze pre- and post-intervention test scores, calculating the t-statistic and p-value to\n",
        "# determine if the intervention had a significant i:pact.\n",
        "# Use the following data of test score:\n",
        "# ```python\n",
        "# pre_intervention_scores = [80, 85, 90, 75, 88, 82, 92, 78, 85, 87]\n",
        "# post_intervention_scores = [90, 92, 88, 92, 95, 91, 96, 93, 89, 93]\n",
        "# ```\n",
        "import numpy as np\n",
        "from scipy import stats\n",
        "def intervention_effect(pre_intervention_scores, post_intervention_scores):\n",
        "    pre_intervention_scores = np.array(pre_intervention_scores)\n",
        "    post_intervention_scores = np.array(post_intervention_scores)\n",
        "    t_statistic, p_value = stats.ttest_rel(pre_intervention_scores, post_intervention_scores)\n",
        "    return t_statistic, p_value\n",
        "pre_intervention_scores = [80, 85, 90, 75, 88, 82, 92, 78, 85, 87]\n",
        "post_intervention_scores = [90, 92, 88, 92, 95, 91, 96, 93, 89, 93]\n",
        "t_statistic, p_value = intervention_effect(pre_intervention_scores, post_intervention_scores)\n",
        "alpha = 0.05\n",
        "if p_value < alpha:\n",
        "    print(\"The intervention had a significant impact on improving test scores.\")\n",
        "else:\n",
        "    print(\"There is no significant impact of the intervention on test scores.\")\n",
        "print(\"T-statistic:\", t_statistic)\n",
        "print(\"P-value:\", p_value)"
      ],
      "metadata": {
        "colab": {
          "base_uri": "https://localhost:8080/"
        },
        "id": "WU5-yQiV4rnw",
        "outputId": "25750d33-3c4a-4507-b00d-5142c69d1fd5"
      },
      "execution_count": null,
      "outputs": [
        {
          "output_type": "stream",
          "name": "stdout",
          "text": [
            "The intervention had a significant impact on improving test scores.\n",
            "T-statistic: -4.42840883965761\n",
            "P-value: 0.0016509548165795493\n"
          ]
        }
      ]
    },
    {
      "cell_type": "code",
      "source": [
        "# Q18) An HR department wants to investigate if there's a gender-based salary gap within the company.\n",
        "# Develop a program to analyze salary data, calculate the t-statistic, and determine if there's a statistically significant difference between the average salaries of male and female employees.\n",
        "# Use the below code to generate synthetic data:\n",
        "#v```python\n",
        "# Generate synthetic salary data for male and female employees\n",
        "# np.random.seed(0) # For reproducibility\n",
        "# male_salaries = np.random.normal(loc=50000, scale=10000, size=20)\n",
        "# female_salaries = np.random.normal(loc=55000, scale=9000, size=20)\n",
        "import numpy as np\n",
        "from scipy import stats\n",
        "def gender_salary_gap(male_salaries, female_salaries):\n",
        "    t_statistic, p_value = stats.ttest_ind(male_salaries, female_salaries)\n",
        "    return t_statistic, p_value\n",
        "np.random.seed(0)  # For reproducibility\n",
        "male_salaries = np.random.normal(loc=50000, scale=10000, size=20)\n",
        "female_salaries = np.random.normal(loc=55000, scale=9000, size=20)\n",
        "t_statistic, p_value = gender_salary_gap(male_salaries, female_salaries)\n",
        "alpha = 0.05\n",
        "if p_value < alpha:\n",
        "    print(\"There is a statistically significant gender-based salary gap within the company.\")\n",
        "else:\n",
        "    print(\"There is no statistically significant gender-based salary gap within the company.\")\n",
        "print(\"T-statistic:\", t_statistic)\n",
        "print(\"P-value:\", p_value)"
      ],
      "metadata": {
        "colab": {
          "base_uri": "https://localhost:8080/"
        },
        "id": "vD1ts0tz5eVi",
        "outputId": "9315eb97-c383-46d4-9867-625b79905073"
      },
      "execution_count": null,
      "outputs": [
        {
          "output_type": "stream",
          "name": "stdout",
          "text": [
            "There is no statistically significant gender-based salary gap within the company.\n",
            "T-statistic: 0.06114208969631383\n",
            "P-value: 0.9515665020676465\n"
          ]
        }
      ]
    },
    {
      "cell_type": "code",
      "source": [
        "# Q19) A manufacturer produces two different versions of a product and wants to compare their quality scores.\n",
        "# Create a Python function to analyze quality assessment data, calculate the t-statistic, and decide whether there's a significant difference in quality between the two versions.\n",
        "# Use the following data: ```python\n",
        "# version1_scores = [85, 88, 82, 89, 87, 84, 90, 88, 85, 86, 91, 83, 87, 84, 89, 86, 84, 88, 85, 86, 89, 90, 87, 88, 85]\n",
        "# version2_scores = [80, 78, 83, 81, 79, 82, 76, 80, 78, 81, 77, 82, 80, 79, 82, 79, 80, 81, 79, 82, 79, 78, 80, 81, 82]\n",
        "# ```\n",
        "import numpy as np\n",
        "from scipy import stats\n",
        "def compare_quality(version1_scores, version2_scores):\n",
        "    t_statistic, p_value = stats.ttest_ind(version1_scores, version2_scores)\n",
        "    return t_statistic, p_value\n",
        "version1_scores = [85, 88, 82, 89, 87, 84, 90, 88, 85, 86, 91, 83, 87, 84, 89, 86, 84, 88, 85, 86, 89, 90, 87, 88, 85]\n",
        "version2_scores = [80, 78, 83, 81, 79, 82, 76, 80, 78, 81, 77, 82, 80, 79, 82, 79, 80, 81, 79, 82, 79, 78, 80, 81, 82]\n",
        "t_statistic, p_value = compare_quality(version1_scores, version2_scores)\n",
        "alpha = 0.05\n",
        "if p_value < alpha:\n",
        "    print(\"There is a statistically significant difference in quality between the two product versions.\")\n",
        "else:\n",
        "    print(\"There is no statistically significant difference in quality between the two product versions.\")\n",
        "print(\"T-statistic:\", t_statistic)\n",
        "print(\"P-value:\", p_value)"
      ],
      "metadata": {
        "colab": {
          "base_uri": "https://localhost:8080/"
        },
        "id": "3caCsp-k6bRY",
        "outputId": "01fb3227-14b2-4c8f-fa72-28ac0d238351"
      },
      "execution_count": null,
      "outputs": [
        {
          "output_type": "stream",
          "name": "stdout",
          "text": [
            "There is a statistically significant difference in quality between the two product versions.\n",
            "T-statistic: 11.325830417646698\n",
            "P-value: 3.6824250702873965e-15\n"
          ]
        }
      ]
    },
    {
      "cell_type": "code",
      "source": [
        "# Q20) A restaurant chain collects customer satisfaction scores for two different branches.\n",
        "#Write a program to analyze the scores, calculate the t-statistic, and determine if there's a statistically significant difference in customer satisfaction between the branches.\n",
        "#Use the below data of scores:```python\n",
        "#branch_a_scores = [4, 5, 3, 4, 5, 4, 5, 3, 4, 4, 5, 4, 4, 3, 4, 5, 5, 4, 3, 4, 5, 4, 3, 5, 4, 4, 5, 3, 4, 5, 4]\n",
        "#branch_b_scores = [3, 4, 2, 3, 4, 3, 4, 2, 3, 3, 4, 3, 3, 2, 3, 4, 4, 3, 2, 3, 4, 3, 2, 4, 3, 3, 4, 2, 3, 4, 3]\n",
        "import numpy as np\n",
        "from scipy import stats\n",
        "def compare_branches(branch_a_scores, branch_b_scores):\n",
        "    t_statistic, p_value = stats.ttest_ind(branch_a_scores, branch_b_scores)\n",
        "    return t_statistic, p_value\n",
        "branch_a_scores = [4, 5, 3, 4, 5, 4, 5, 3, 4, 4, 5, 4, 4, 3, 4, 5, 5, 4, 3, 4, 5, 4, 3, 5, 4, 4, 5, 3, 4, 5, 4]\n",
        "branch_b_scores = [3, 4, 2, 3, 4, 3, 4, 2, 3, 3, 4, 3, 3, 2, 3, 4, 4, 3, 2, 3, 4, 3, 2, 4, 3, 3, 4, 2, 3, 4, 3]\n",
        "t_statistic, p_value = compare_branches(branch_a_scores, branch_b_scores)\n",
        "alpha = 0.05\n",
        "if p_value < alpha:\n",
        "    print(\"There is a statistically significant difference in customer satisfaction between the two branches.\")\n",
        "else:\n",
        "    print(\"There is no statistically significant difference in customer satisfaction between the two branches.\")\n",
        "print(\"T-statistic:\", t_statistic)\n",
        "print(\"P-value:\", p_value)"
      ],
      "metadata": {
        "colab": {
          "base_uri": "https://localhost:8080/"
        },
        "id": "jvQn_2bK7OUR",
        "outputId": "ed42707a-29f6-41b4-de62-88833063a74c"
      },
      "execution_count": null,
      "outputs": [
        {
          "output_type": "stream",
          "name": "stdout",
          "text": [
            "There is a statistically significant difference in customer satisfaction between the two branches.\n",
            "T-statistic: 5.480077554195743\n",
            "P-value: 8.895290509945655e-07\n"
          ]
        }
      ]
    },
    {
      "cell_type": "code",
      "source": [
        "#Q21) A political analyst wants to determine if there is a significant association between age groups and voter preferences (Candidate A or Candidate B).\n",
        "# They collect data from a sample of 500 voters and classify them into different age groups and candidate preferences.\n",
        "#Perform a Chi-Square test to determine if there is a significant association between age groups and voter preferences.\n",
        "# Use the below code to generate data: ```python\n",
        "# np.random.seed(0)\n",
        "# age_groups = np.random.choice([ 18 30 , 31 50 , 51+', 51+'], size=30)\n",
        "# voter_preferences = np.random.choice(['Candidate A', 'Candidate B'], size=30)\n",
        "import numpy as np\n",
        "np.random.seed(0)\n",
        "age_groups = np.random.choice(['18-30', '31-50', '51+'], size=500)\n",
        "voter_preferences = np.random.choice(['Candidate A', 'Candidate B'], size=500)\n",
        "from scipy.stats import chi2_contingency\n",
        "contingency_table = np.zeros((3, 2))\n",
        "for i, age_group in enumerate(['18-30', '31-50', '51+']):\n",
        "    for j, preference in enumerate(['Candidate A', 'Candidate B']):\n",
        "        contingency_table[i, j] = np.sum((age_groups == age_group) & (voter_preferences == preference))\n",
        "chi2, p_value, dof, expected = chi2_contingency(contingency_table)\n",
        "alpha = 0.05\n",
        "if p_value < alpha:\n",
        "    print(\"There is a significant association between age groups and voter preferences.\")\n",
        "else:\n",
        "    print(\"There is no significant association between age groups and voter preferences.\")\n",
        "print(\"Chi-Square statistic:\", chi2)\n",
        "print(\"P-value:\", p_value)\n",
        "print(\"Degrees of Freedom:\", dof)\n",
        "print(\"Expected frequencies:\")\n",
        "print(expected)"
      ],
      "metadata": {
        "colab": {
          "base_uri": "https://localhost:8080/"
        },
        "id": "eKU8BqUp8BME",
        "outputId": "5e1267ce-c53f-45d3-8edb-715348e58775"
      },
      "execution_count": null,
      "outputs": [
        {
          "output_type": "stream",
          "name": "stdout",
          "text": [
            "There is no significant association between age groups and voter preferences.\n",
            "Chi-Square statistic: 0.8779923945254768\n",
            "P-value: 0.6446832311860852\n",
            "Degrees of Freedom: 2\n",
            "Expected frequencies:\n",
            "[[96.824 85.176]\n",
            " [89.908 79.092]\n",
            " [79.268 69.732]]\n"
          ]
        }
      ]
    },
    {
      "cell_type": "code",
      "source": [
        "# Q22) A company conducted a customer satisfaction survey to determine if there is a significant relationship between product satisfaction levels (Satisfied, Neutral, Dissatisfied) and the region where customers are located (East, West, North, South).\n",
        "# The survey data is summarized in a contingency table. Conduct a Chi-Square test to determine if there is a significant relationship between product satisfaction levels and customer regions.\n",
        "# Sample data: ```python\n",
        "#Sample data: Product satisfaction levels (rows) vs. Customer regions (columns)\n",
        "# data = np.array([[50, 30, 40, 20], [30, 40, 30, 50], [20, 30, 40, 30]])\n",
        "# ```\n",
        "import numpy as np\n",
        "from scipy.stats import chi2_contingency\n",
        "data = np.array([[50, 30, 40, 20], [30, 40, 30, 50], [20, 30, 40, 30]])\n",
        "chi2, p_value, dof, expected = chi2_contingency(data)\n",
        "alpha = 0.05\n",
        "if p_value < alpha:\n",
        "    print(\"There is a significant relationship between product satisfaction levels and customer regions.\")\n",
        "else:\n",
        "    print(\"There is no significant relationship between product satisfaction levels and customer regions.\")\n",
        "print(\"Chi-Square statistic:\", chi2)\n",
        "print(\"P-value:\", p_value)\n",
        "print(\"Degrees of Freedom:\", dof)\n",
        "print(\"Expected frequencies:\")\n",
        "print(expected)"
      ],
      "metadata": {
        "colab": {
          "base_uri": "https://localhost:8080/"
        },
        "id": "yu1XsLbW9EuD",
        "outputId": "b024e713-02b4-4927-c7fc-36b27684beec"
      },
      "execution_count": null,
      "outputs": [
        {
          "output_type": "stream",
          "name": "stdout",
          "text": [
            "There is a significant relationship between product satisfaction levels and customer regions.\n",
            "Chi-Square statistic: 27.777056277056275\n",
            "P-value: 0.00010349448486004387\n",
            "Degrees of Freedom: 6\n",
            "Expected frequencies:\n",
            "[[34.14634146 34.14634146 37.56097561 34.14634146]\n",
            " [36.58536585 36.58536585 40.24390244 36.58536585]\n",
            " [29.26829268 29.26829268 32.19512195 29.26829268]]\n"
          ]
        }
      ]
    },
    {
      "cell_type": "code",
      "source": [
        "# Q23) A company implemented an employee training program to improve job performance (Effective, Neutral, Ineffective).\n",
        "# After the training, they collected data from a sample of employees and classified them based on their job performance before and after the training.\n",
        "# Perform a Chi-Square test to determine if there is a significant difference between job performance levels before and after the training.\n",
        "# Sample data:\n",
        "# ```python\n",
        "# Sample data: Job performance levels before (rows) and after (columns) training\n",
        "#vdata = np.array([[50, 30, 20], [30, 40, 30], [20, 30, 40]])\n",
        "# ```\n",
        "import numpy as np\n",
        "from scipy.stats import chi2_contingency\n",
        "data = np.array([[50, 30, 20], [30, 40, 30], [20, 30, 40]])\n",
        "chi2, p_value, dof, expected = chi2_contingency(data)\n",
        "alpha = 0.05\n",
        "if p_value < alpha:\n",
        "    print(\"There is a significant difference between job performance levels before and after the training.\")\n",
        "else:\n",
        "    print(\"There is no significant difference between job performance levels before and after the training.\")\n",
        "print(\"Chi-Square statistic:\", chi2)\n",
        "print(\"P-value:\", p_value)\n",
        "print(\"Degrees of Freedom:\", dof)\n",
        "print(\"Expected frequencies:\")\n",
        "print(expected)"
      ],
      "metadata": {
        "colab": {
          "base_uri": "https://localhost:8080/"
        },
        "id": "Fw_P8_xZ9ylC",
        "outputId": "e3fcdf8b-bf5a-4811-ce65-faaacf5ddbde"
      },
      "execution_count": null,
      "outputs": [
        {
          "output_type": "stream",
          "name": "stdout",
          "text": [
            "There is a significant difference between job performance levels before and after the training.\n",
            "Chi-Square statistic: 22.161728395061726\n",
            "P-value: 0.00018609719479882557\n",
            "Degrees of Freedom: 4\n",
            "Expected frequencies:\n",
            "[[34.48275862 34.48275862 31.03448276]\n",
            " [34.48275862 34.48275862 31.03448276]\n",
            " [31.03448276 31.03448276 27.93103448]]\n"
          ]
        }
      ]
    },
    {
      "cell_type": "code",
      "source": [
        "# Q24) A company produces three different versions of a product: Standard, Premium, and Deluxe.\n",
        "# The company wants to determine if there is a significant difference in customer satisfaction scores among the three product versions.\n",
        "# They conducted a survey and collected customer satisfaction scores for each version from a random sample of customers.\n",
        "# Perform an ANOVA test to determine if there is a significant difference in customer satisfaction scores. Use the following data:\n",
        "# ```python\n",
        "# Sample data: Customer satisfaction scores for each product version\n",
        "# standard_scores = [80, 85, 90, 78, 88, 82, 92, 78, 85, 87]\n",
        "# premium_scores = [90, 92, 88, 92, 95, 91, 96, 93, 89, 93]\n",
        "# deluxe_scores = [95, 98, 92, 97, 96, 94, 98, 97, 92, 99]\n",
        "import numpy as np\n",
        "from scipy.stats import f_oneway\n",
        "standard_scores = [80, 85, 90, 78, 88, 82, 92, 78, 85, 87]\n",
        "premium_scores = [90, 92, 88, 92, 95, 91, 96, 93, 89, 93]\n",
        "deluxe_scores = [95, 98, 92, 97, 96, 94, 98, 97, 92, 99]\n",
        "f_statistic, p_value = f_oneway(standard_scores, premium_scores, deluxe_scores)\n",
        "alpha = 0.05\n",
        "if p_value < alpha:\n",
        "    print(\"There is a significant difference in customer satisfaction scores among the three product versions.\")\n",
        "else:\n",
        "    print(\"There is no significant difference in customer satisfaction scores among the three product versions.\")\n",
        "print(\"F-statistic:\", f_statistic)\n",
        "print(\"P-value:\", p_value)"
      ],
      "metadata": {
        "colab": {
          "base_uri": "https://localhost:8080/"
        },
        "id": "2mqNxnPB-e-u",
        "outputId": "625f36d3-d1bd-4cbd-d194-0430bbcb71af"
      },
      "execution_count": null,
      "outputs": [
        {
          "output_type": "stream",
          "name": "stdout",
          "text": [
            "There is a significant difference in customer satisfaction scores among the three product versions.\n",
            "F-statistic: 27.03556231003039\n",
            "P-value: 3.5786328857349003e-07\n"
          ]
        }
      ]
    }
  ]
}