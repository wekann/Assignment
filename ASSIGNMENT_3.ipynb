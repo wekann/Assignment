{
  "nbformat": 4,
  "nbformat_minor": 0,
  "metadata": {
    "colab": {
      "provenance": [],
      "include_colab_link": true
    },
    "kernelspec": {
      "name": "python3",
      "display_name": "Python 3"
    },
    "language_info": {
      "name": "python"
    }
  },
  "cells": [
    {
      "cell_type": "markdown",
      "metadata": {
        "id": "view-in-github",
        "colab_type": "text"
      },
      "source": [
        "<a href=\"https://colab.research.google.com/github/wekann/Assignment/blob/assignment-3/ASSIGNMENT_3.ipynb\" target=\"_parent\"><img src=\"https://colab.research.google.com/assets/colab-badge.svg\" alt=\"Open In Colab\"/></a>"
      ]
    },
    {
      "cell_type": "code",
      "execution_count": null,
      "metadata": {
        "id": "3NWAetjvwhrU",
        "colab": {
          "base_uri": "https://localhost:8080/"
        },
        "outputId": "78e591a9-58b6-4d48-fb7b-92548025b370"
      },
      "outputs": [
        {
          "output_type": "stream",
          "name": "stdout",
          "text": [
            "int64\n"
          ]
        }
      ],
      "source": [
        "# Q1) Create a Numpy Array \"arr\" of integers 0 to 5 and print its data type.\n",
        "#You can create a NumPy array containing integers from 0 to 5 like this:\n",
        "import numpy as np\n",
        "arr = np.array([0, 1, 2, 3, 4, 5])\n",
        "print(arr.dtype)\n",
        "\n"
      ]
    },
    {
      "cell_type": "code",
      "source": [
        "# Q2) Given a Numpy array \"arr\",check if its data type is float64.\n",
        "        # arr = np.array(1.5,2.6,3.7)\n",
        "\n",
        "import numpy as np\n",
        "arr = np.array([1.5, 2.6, 3.7])\n",
        "if arr.dtype == np.float64:\n",
        "    print(\"The data type of arr is float64.\")\n",
        "else:\n",
        "    print(\"The data type of arr is not float64.\")"
      ],
      "metadata": {
        "colab": {
          "base_uri": "https://localhost:8080/"
        },
        "id": "-xXgHEPz3G9z",
        "outputId": "616fde86-a7be-4acf-bbf8-662f287b2dd2"
      },
      "execution_count": null,
      "outputs": [
        {
          "output_type": "stream",
          "name": "stdout",
          "text": [
            "The data type of arr is float64.\n"
          ]
        }
      ]
    },
    {
      "cell_type": "code",
      "source": [
        "# Q3) Create a Numpy array \"arr\" with a data type of complex128 containing three complex numbers.\n",
        "import numpy as np\n",
        "arr = np.array([1+2j, 3+4j, 5+6j], dtype=np.complex128)\n",
        "print(arr)\n",
        "print(\"Data type of arr:\", arr.dtype)"
      ],
      "metadata": {
        "colab": {
          "base_uri": "https://localhost:8080/"
        },
        "id": "VQQERuFb33_s",
        "outputId": "e00129f2-6672-46f6-c6de-f6f79ba13f8e"
      },
      "execution_count": null,
      "outputs": [
        {
          "output_type": "stream",
          "name": "stdout",
          "text": [
            "[1.+2.j 3.+4.j 5.+6.j]\n",
            "Data type of arr: complex128\n"
          ]
        }
      ]
    },
    {
      "cell_type": "code",
      "source": [
        "# Q4) Convert an existing Numpy array \"arr\" of integers to float32 data types.\n",
        "import numpy as np\n",
        "arr = np.array([1, 2, 3, 4, 5])\n",
        "arr_float32 = arr.astype(np.float32)\n",
        "print(\"Original array:\", arr)\n",
        "print(\"Array with float32 data type:\", arr_float32)"
      ],
      "metadata": {
        "colab": {
          "base_uri": "https://localhost:8080/"
        },
        "id": "rqI-lQ6U4lmC",
        "outputId": "f07b65b9-78ca-4670-b7a4-1029c1f46a2c"
      },
      "execution_count": null,
      "outputs": [
        {
          "output_type": "stream",
          "name": "stdout",
          "text": [
            "Original array: [1 2 3 4 5]\n",
            "Array with float32 data type: [1. 2. 3. 4. 5.]\n"
          ]
        }
      ]
    },
    {
      "cell_type": "code",
      "source": [
        "# Q5) Given a Numpy array \"arr\" with float64 data type ,convert it to float32 to reduce decimal precision.\n",
        "import numpy as np\n",
        "arr = np.array([1.23456789, 2.3456789, 3.456789, 4.56789, 5.6789], dtype=np.float64)\n",
        "arr_float32 = arr.astype(np.float32)\n",
        "print(\"Original array:\", arr)\n",
        "print(\"Array with float32 data type:\", arr_float32)"
      ],
      "metadata": {
        "colab": {
          "base_uri": "https://localhost:8080/"
        },
        "id": "EKKosyoY5Dkq",
        "outputId": "d78149d1-f445-4c11-8523-df3df407ab92"
      },
      "execution_count": null,
      "outputs": [
        {
          "output_type": "stream",
          "name": "stdout",
          "text": [
            "Original array: [1.23456789 2.3456789  3.456789   4.56789    5.6789    ]\n",
            "Array with float32 data type: [1.2345679 2.3456788 3.456789  4.56789   5.6789   ]\n"
          ]
        }
      ]
    },
    {
      "cell_type": "code",
      "source": [
        "# Q6) Write a function array_attributes that takes a Numpy Array as input and returns its shape,size and data type.\n",
        "import numpy as np\n",
        "def array_attributes(arr):\n",
        "    shape = arr.shape\n",
        "    size = arr.size\n",
        "    dtype = arr.dtype\n",
        "    return shape, size, dtype\n",
        "arr = np.array([[1, 2, 3], [4, 5, 6]])\n",
        "shape, size, dtype = array_attributes(arr)\n",
        "print(\"Shape:\", shape)\n",
        "print(\"Size:\", size)\n",
        "print(\"Data Type:\", dtype)"
      ],
      "metadata": {
        "colab": {
          "base_uri": "https://localhost:8080/"
        },
        "id": "66wukZvo6Gcr",
        "outputId": "962e5989-b9fa-45dd-872f-9899bac790c9"
      },
      "execution_count": null,
      "outputs": [
        {
          "output_type": "stream",
          "name": "stdout",
          "text": [
            "Shape: (2, 3)\n",
            "Size: 6\n",
            "Data Type: int64\n"
          ]
        }
      ]
    },
    {
      "cell_type": "code",
      "source": [
        "# Q7) Create a function array_dimension that takes a numpy array as input and return its dimensionality.\n",
        "import numpy as np\n",
        "def array_dimension(arr):\n",
        "    return arr.ndim\n",
        "arr_1d = np.array([1, 2, 3])\n",
        "arr_2d = np.array([[1, 2, 3], [4, 5, 6]])\n",
        "arr_3d = np.array([[[1, 2], [3, 4]], [[5, 6], [7, 8]]])\n",
        "print(\"Dimensionality of arr_1d:\", array_dimension(arr_1d))\n",
        "print(\"Dimensionality of arr_2d:\", array_dimension(arr_2d))\n",
        "print(\"Dimensionality of arr_3d:\", array_dimension(arr_3d))"
      ],
      "metadata": {
        "colab": {
          "base_uri": "https://localhost:8080/"
        },
        "id": "6R2zzjHp7Dac",
        "outputId": "a936de8c-61de-479d-f4cc-917a3900a9fe"
      },
      "execution_count": null,
      "outputs": [
        {
          "output_type": "stream",
          "name": "stdout",
          "text": [
            "Dimensionality of arr_1d: 1\n",
            "Dimensionality of arr_2d: 2\n",
            "Dimensionality of arr_3d: 3\n"
          ]
        }
      ]
    },
    {
      "cell_type": "code",
      "source": [
        "# Q8) Design a function item_size_info that takes a Numpy array as an input and returns the item size and the total size in bytes.\n",
        "import numpy as np\n",
        "def item_size_info(arr):\n",
        "    item_size = arr.itemsize\n",
        "    total_size = arr.nbytes\n",
        "    return item_size, total_size\n",
        "arr = np.array([[1, 2, 3], [4, 5, 6]], dtype=np.int32)\n",
        "item_size, total_size = item_size_info(arr)\n",
        "print(\"Item size:\", item_size, \"bytes\")\n",
        "print(\"Total size:\", total_size, \"bytes\")"
      ],
      "metadata": {
        "colab": {
          "base_uri": "https://localhost:8080/"
        },
        "id": "y81wKwJT7mTj",
        "outputId": "cf7afb90-b5db-466a-c848-d3310e021677"
      },
      "execution_count": null,
      "outputs": [
        {
          "output_type": "stream",
          "name": "stdout",
          "text": [
            "Item size: 4 bytes\n",
            "Total size: 24 bytes\n"
          ]
        }
      ]
    },
    {
      "cell_type": "code",
      "source": [
        "# Q9) Create a function array_strides that takes a Numpy array as input and returns the strides of an array.\n",
        "import numpy as np\n",
        "def array_strides(arr):\n",
        "    return arr.strides\n",
        "arr = np.array([[1, 2, 3], [4, 5, 6]], dtype=np.int32)\n",
        "strides = array_strides(arr)\n",
        "print(\"Strides:\", strides)"
      ],
      "metadata": {
        "colab": {
          "base_uri": "https://localhost:8080/"
        },
        "id": "FqQgp0PT8Kr7",
        "outputId": "e23d7a6e-8901-46aa-9163-452aae10d9bf"
      },
      "execution_count": null,
      "outputs": [
        {
          "output_type": "stream",
          "name": "stdout",
          "text": [
            "Strides: (12, 4)\n"
          ]
        }
      ]
    },
    {
      "cell_type": "code",
      "source": [
        "# Q10) Design a function shape_stride_relationship that takes a Numpy array as input and returns the shape and strides of the array.\n",
        "import numpy as np\n",
        "def shape_stride_relationship(arr):\n",
        "    shape = arr.shape\n",
        "    strides = arr.strides\n",
        "    return shape, strides\n",
        "arr = np.array([[1, 2, 3], [4, 5, 6]], dtype=np.int32)\n",
        "shape, strides = shape_stride_relationship(arr)\n",
        "print(\"Shape:\", shape)\n",
        "print(\"Strides:\", strides)"
      ],
      "metadata": {
        "colab": {
          "base_uri": "https://localhost:8080/"
        },
        "id": "GmCuH-VF862z",
        "outputId": "9ff27a91-3e74-4970-dd39-600548373aea"
      },
      "execution_count": null,
      "outputs": [
        {
          "output_type": "stream",
          "name": "stdout",
          "text": [
            "Shape: (2, 3)\n",
            "Strides: (12, 4)\n"
          ]
        }
      ]
    },
    {
      "cell_type": "code",
      "source": [
        "# Q11) Create a function \"create_zeros_array\" that takes an integers \"n\" as input and returns a Numpy Array of zeros with \"n\" elements.\n",
        "import numpy as np\n",
        "def create_zeros_array(n):\n",
        "    return np.zeros(n)\n",
        "n = 5\n",
        "zeros_array = create_zeros_array(n)\n",
        "print(\"Zeros array with\", n, \"elements:\", zeros_array)"
      ],
      "metadata": {
        "colab": {
          "base_uri": "https://localhost:8080/"
        },
        "id": "V7VFi6SV97Pk",
        "outputId": "9c264d90-725b-4944-97a1-7f8461249fa7"
      },
      "execution_count": null,
      "outputs": [
        {
          "output_type": "stream",
          "name": "stdout",
          "text": [
            "Zeros array with 5 elements: [0. 0. 0. 0. 0.]\n"
          ]
        }
      ]
    },
    {
      "cell_type": "code",
      "source": [
        "# Q12) Write a function \"create_ones_matrix\" that takes integers \"rows\" and \"cols\" as inputs and generates a 2D Numpy array filled with ones of size \"rows x cols.\"\n",
        "import numpy as np\n",
        "def create_ones_matrix(rows, cols):\n",
        "    return np.ones((rows, cols))\n",
        "rows = 3\n",
        "cols = 4\n",
        "ones_matrix = create_ones_matrix(rows, cols)\n",
        "print(\"Ones matrix of size\", rows, \"x\", cols, \":\\n\", ones_matrix)"
      ],
      "metadata": {
        "colab": {
          "base_uri": "https://localhost:8080/"
        },
        "id": "K9_kQArx_BGT",
        "outputId": "500c7000-97d6-4ff9-bffc-308fef87333e"
      },
      "execution_count": null,
      "outputs": [
        {
          "output_type": "stream",
          "name": "stdout",
          "text": [
            "Ones matrix of size 3 x 4 :\n",
            " [[1. 1. 1. 1.]\n",
            " [1. 1. 1. 1.]\n",
            " [1. 1. 1. 1.]]\n"
          ]
        }
      ]
    },
    {
      "cell_type": "code",
      "source": [
        "# Q13) Write a function \"generates_range_array\"that takes three integers start,stop and step as arguments and creates a Numpy array with a range starting from \"start\", ending at \"stop\"(exclusive),and with the specified \"step\".\n",
        "import numpy as np\n",
        "def generates_range_array(start, stop, step):\n",
        "    return np.arange(start, stop, step)\n",
        "start = 1\n",
        "stop = 10\n",
        "step = 2\n",
        "range_array = generates_range_array(start, stop, step)\n",
        "print(\"Generated array:\", range_array)"
      ],
      "metadata": {
        "colab": {
          "base_uri": "https://localhost:8080/"
        },
        "id": "bQ-yJuib_wzj",
        "outputId": "63caa481-6823-4ad0-eb19-6c56327cb476"
      },
      "execution_count": null,
      "outputs": [
        {
          "output_type": "stream",
          "name": "stdout",
          "text": [
            "Generated array: [1 3 5 7 9]\n"
          ]
        }
      ]
    },
    {
      "cell_type": "code",
      "source": [
        "# Q14) Design a function \"generates_linear_space\"that takes two floats start,stop and an integer \"num\" as arguments and creates a Numpy array with num equally spaced values between \"start\"and \"stop\".\n",
        "import numpy as np\n",
        "def generates_linear_space(start, stop, num):\n",
        "    return np.linspace(start, stop, num)\n",
        "start = 1.0\n",
        "stop = 5.0\n",
        "num = 7\n",
        "linear_space_array = generates_linear_space(start, stop, num)\n",
        "print(\"Generated linear space array:\", linear_space_array)"
      ],
      "metadata": {
        "colab": {
          "base_uri": "https://localhost:8080/"
        },
        "id": "YuNe4-yKAmm0",
        "outputId": "a4572a03-7003-420e-84ef-858ad4fea2f4"
      },
      "execution_count": null,
      "outputs": [
        {
          "output_type": "stream",
          "name": "stdout",
          "text": [
            "Generated linear space array: [1.         1.66666667 2.33333333 3.         3.66666667 4.33333333\n",
            " 5.        ]\n"
          ]
        }
      ]
    },
    {
      "cell_type": "code",
      "source": [
        "# Q15) Create a function \"create_identity_matrix\"that takes an integer \"n\" as input and generates a square identity matrix of size \"n * n\" using \"numpy.exe\"\n",
        "import numpy as np\n",
        "def create_identity_matrix(n):\n",
        "    return np.eye(n)\n",
        "n = 4\n",
        "identity_matrix = create_identity_matrix(n)\n",
        "print(\"Identity matrix of size\", n, \"x\", n, \":\\n\", identity_matrix)"
      ],
      "metadata": {
        "colab": {
          "base_uri": "https://localhost:8080/"
        },
        "id": "HirHHE7EBc2c",
        "outputId": "e6ede3f3-8d6f-4967-db3d-8158a0fa907d"
      },
      "execution_count": null,
      "outputs": [
        {
          "output_type": "stream",
          "name": "stdout",
          "text": [
            "Identity matrix of size 4 x 4 :\n",
            " [[1. 0. 0. 0.]\n",
            " [0. 1. 0. 0.]\n",
            " [0. 0. 1. 0.]\n",
            " [0. 0. 0. 1.]]\n"
          ]
        }
      ]
    },
    {
      "cell_type": "code",
      "source": [
        "# Q16) Write a function that takes a Python list and converts it into a Numpy Array.\n",
        "import numpy as np\n",
        "def list_to_numpy_array(input_list):\n",
        "    return np.array(input_list)\n",
        "python_list = [1, 2, 3, 4, 5]\n",
        "numpy_array = list_to_numpy_array(python_list)\n",
        "print(\"NumPy array from Python list:\", numpy_array)"
      ],
      "metadata": {
        "colab": {
          "base_uri": "https://localhost:8080/"
        },
        "id": "G_AkpRsGCSf7",
        "outputId": "1620eb26-72da-455f-da30-3bee23f21ffe"
      },
      "execution_count": null,
      "outputs": [
        {
          "output_type": "stream",
          "name": "stdout",
          "text": [
            "NumPy array from Python list: [1 2 3 4 5]\n"
          ]
        }
      ]
    },
    {
      "cell_type": "code",
      "source": [
        "# Q17) Create a Numpy Array and demonstrate the use \"numpy.view\" to create a new array object with the same data.\n",
        "import numpy as np\n",
        "original_array = np.array([1, 2, 3, 4, 5])\n",
        "view_array = original_array.view(dtype=np.float32)\n",
        "view_array[0] = 0.5\n",
        "print(\"Original array:\", original_array)\n",
        "print(\"View array:\", view_array)"
      ],
      "metadata": {
        "colab": {
          "base_uri": "https://localhost:8080/"
        },
        "id": "Cosr2rspCuUb",
        "outputId": "268d0234-214d-489c-ef22-1b6dea3b637f"
      },
      "execution_count": null,
      "outputs": [
        {
          "output_type": "stream",
          "name": "stdout",
          "text": [
            "Original array: [1056964608          2          3          4          5]\n",
            "View array: [5.e-01 0.e+00 3.e-45 0.e+00 4.e-45 0.e+00 6.e-45 0.e+00 7.e-45 0.e+00]\n"
          ]
        }
      ]
    },
    {
      "cell_type": "code",
      "source": [
        "# Q18) Write a function that takes two Numpy arrays and concatenates them along a specified axis.\n",
        "import numpy as np\n",
        "def concatenate_arrays(array1, array2, axis=0):\n",
        "    return np.concatenate_arrays((array1, array2), axis=axis)\n",
        "array1 = np.array[[1, 2],[3, 4]]\n",
        "array2 = np.array[[5, 6]]\n",
        "concatenated_array = concatenate_arrays(array1, array2, axis=0)\n",
        "print(\"Concatenated array along axis 0:\\n\", concatenated_array)\n",
        "concatenated_array = concatenate_arrays(array1, array2, axis=1)\n",
        "print(\"Concatenated array along axis 1:\\n\", concatenated_array)"
      ],
      "metadata": {
        "colab": {
          "base_uri": "https://localhost:8080/",
          "height": 211
        },
        "id": "YNlgZBq0D8L1",
        "outputId": "941ecb7d-dfb9-4b43-ddda-3518d21c25a2"
      },
      "execution_count": null,
      "outputs": [
        {
          "output_type": "error",
          "ename": "TypeError",
          "evalue": "tuple indices must be integers or slices, not tuple",
          "traceback": [
            "\u001b[0;31m---------------------------------------------------------------------------\u001b[0m",
            "\u001b[0;31mTypeError\u001b[0m                                 Traceback (most recent call last)",
            "\u001b[0;32m<ipython-input-88-e89f163ed62a>\u001b[0m in \u001b[0;36m<cell line: 5>\u001b[0;34m()\u001b[0m\n\u001b[1;32m      3\u001b[0m \u001b[0;32mdef\u001b[0m \u001b[0mconcatenate_arrays\u001b[0m\u001b[0;34m(\u001b[0m\u001b[0marray1\u001b[0m\u001b[0;34m,\u001b[0m \u001b[0marray2\u001b[0m\u001b[0;34m,\u001b[0m \u001b[0maxis\u001b[0m\u001b[0;34m=\u001b[0m\u001b[0;36m0\u001b[0m\u001b[0;34m)\u001b[0m\u001b[0;34m:\u001b[0m\u001b[0;34m\u001b[0m\u001b[0;34m\u001b[0m\u001b[0m\n\u001b[1;32m      4\u001b[0m     \u001b[0;32mreturn\u001b[0m \u001b[0mnp\u001b[0m\u001b[0;34m.\u001b[0m\u001b[0mconcatenate_arrays\u001b[0m\u001b[0;34m(\u001b[0m\u001b[0;34m(\u001b[0m\u001b[0marray1\u001b[0m\u001b[0;34m,\u001b[0m \u001b[0marray2\u001b[0m\u001b[0;34m)\u001b[0m\u001b[0;34m,\u001b[0m \u001b[0maxis\u001b[0m\u001b[0;34m=\u001b[0m\u001b[0maxis\u001b[0m\u001b[0;34m)\u001b[0m\u001b[0;34m\u001b[0m\u001b[0;34m\u001b[0m\u001b[0m\n\u001b[0;32m----> 5\u001b[0;31m \u001b[0marray1\u001b[0m \u001b[0;34m=\u001b[0m \u001b[0mnp\u001b[0m\u001b[0;34m.\u001b[0m\u001b[0marray\u001b[0m\u001b[0;34m[\u001b[0m\u001b[0;34m[\u001b[0m\u001b[0;36m1\u001b[0m\u001b[0;34m,\u001b[0m \u001b[0;36m2\u001b[0m\u001b[0;34m]\u001b[0m\u001b[0;34m,\u001b[0m\u001b[0;34m[\u001b[0m\u001b[0;36m3\u001b[0m\u001b[0;34m,\u001b[0m \u001b[0;36m4\u001b[0m\u001b[0;34m]\u001b[0m\u001b[0;34m]\u001b[0m\u001b[0;34m\u001b[0m\u001b[0;34m\u001b[0m\u001b[0m\n\u001b[0m\u001b[1;32m      6\u001b[0m \u001b[0marray2\u001b[0m \u001b[0;34m=\u001b[0m \u001b[0mnp\u001b[0m\u001b[0;34m.\u001b[0m\u001b[0marray\u001b[0m\u001b[0;34m[\u001b[0m\u001b[0;34m[\u001b[0m\u001b[0;36m5\u001b[0m\u001b[0;34m,\u001b[0m \u001b[0;36m6\u001b[0m\u001b[0;34m]\u001b[0m\u001b[0;34m]\u001b[0m\u001b[0;34m\u001b[0m\u001b[0;34m\u001b[0m\u001b[0m\n\u001b[1;32m      7\u001b[0m \u001b[0mconcatenated_array\u001b[0m \u001b[0;34m=\u001b[0m \u001b[0mconcatenate_arrays\u001b[0m\u001b[0;34m(\u001b[0m\u001b[0marray1\u001b[0m\u001b[0;34m,\u001b[0m \u001b[0marray2\u001b[0m\u001b[0;34m,\u001b[0m \u001b[0maxis\u001b[0m\u001b[0;34m=\u001b[0m\u001b[0;36m0\u001b[0m\u001b[0;34m)\u001b[0m\u001b[0;34m\u001b[0m\u001b[0;34m\u001b[0m\u001b[0m\n",
            "\u001b[0;31mTypeError\u001b[0m: tuple indices must be integers or slices, not tuple"
          ]
        }
      ]
    },
    {
      "cell_type": "code",
      "source": [
        "# Q19) Create two Numpy arrays with different shapes and concatenates them horizontally using \"numpy.concatenates\"\n",
        "import numpy as np\n",
        "array1 = np.array([[1, 2, 3],\n",
        "                   [4, 5, 6]])\n",
        "array2 = np.array([[7],\n",
        "                   [8]])\n",
        "concatenated_array = np.concatenate((array1, array2), axis=1)\n",
        "print(\"Array 1:\\n\", array1)\n",
        "print(\"Array 2:\\n\", array2)\n",
        "print(\"Concatenated array horizontally:\\n\", concatenated_array)"
      ],
      "metadata": {
        "colab": {
          "base_uri": "https://localhost:8080/"
        },
        "id": "ARHn4crpEnLt",
        "outputId": "dd599e79-1696-4955-d703-0ab7691cede7"
      },
      "execution_count": null,
      "outputs": [
        {
          "output_type": "stream",
          "name": "stdout",
          "text": [
            "Array 1:\n",
            " [[1 2 3]\n",
            " [4 5 6]]\n",
            "Array 2:\n",
            " [[7]\n",
            " [8]]\n",
            "Concatenated array horizontally:\n",
            " [[1 2 3 7]\n",
            " [4 5 6 8]]\n"
          ]
        }
      ]
    },
    {
      "cell_type": "code",
      "source": [
        "# Q20) Write a function that vertically stacks multiple Numpy arrays given as a list.\n",
        "import numpy as np\n",
        "def stack_arrays_vertically(arrays):\n",
        "    return np.vstack(arrays)\n",
        "array1 = np.array([[1, 2, 3],\n",
        "                   [4, 5, 6]])\n",
        "array2 = np.array([[7, 8, 9],\n",
        "                   [10, 11, 12]])\n",
        "array3 = np.array([[13, 14, 15],\n",
        "                   [16, 17, 18]])\n",
        "stacked_array = stack_arrays_vertically([array1, array2, array3])\n",
        "print(\"Stacked array vertically:\\n\", stacked_array)"
      ],
      "metadata": {
        "colab": {
          "base_uri": "https://localhost:8080/"
        },
        "id": "ceLagYn5FC7F",
        "outputId": "a240c0fe-2723-41f2-b399-dd0d55e8044d"
      },
      "execution_count": null,
      "outputs": [
        {
          "output_type": "stream",
          "name": "stdout",
          "text": [
            "Stacked array vertically:\n",
            " [[ 1  2  3]\n",
            " [ 4  5  6]\n",
            " [ 7  8  9]\n",
            " [10 11 12]\n",
            " [13 14 15]\n",
            " [16 17 18]]\n"
          ]
        }
      ]
    },
    {
      "cell_type": "code",
      "source": [
        "# Q21) Write a python function using Numpy to create an array of integers within a specified range(inclusive) with a given step size.\n",
        "import numpy as np\n",
        "def create_integer_array(start, stop, step):\n",
        "    return np.arange(start, stop + 1, step, dtype=int)\n",
        "start = 1\n",
        "stop = 10\n",
        "step = 2\n",
        "integer_array = create_integer_array(start, stop, step)\n",
        "print(\"Array of integers within the range [{}, {}] with step {}: {}\".format(start, stop, step, integer_array))"
      ],
      "metadata": {
        "colab": {
          "base_uri": "https://localhost:8080/"
        },
        "id": "X_5UVevhFjWc",
        "outputId": "be498f23-5d50-4404-cae0-e8f0e71fa301"
      },
      "execution_count": null,
      "outputs": [
        {
          "output_type": "stream",
          "name": "stdout",
          "text": [
            "Array of integers within the range [1, 10] with step 2: [1 3 5 7 9]\n"
          ]
        }
      ]
    },
    {
      "cell_type": "code",
      "source": [
        "# Q22) Write a python function using Numpy to create an array of 10 equally spaced value between 0 and 1 (inclusive).\n",
        "import numpy as np\n",
        "def create_equally_spaced_array(start, stop, num):\n",
        "    return np.linspace(start, stop, num)\n",
        "start = 0\n",
        "stop = 1\n",
        "num = 10\n",
        "equally_spaced_array = create_equally_spaced_array(start, stop, num)\n",
        "print(\"Array of {} equally spaced values between {} and {} (inclusive):\\n{}\".format(num, start, stop, equally_spaced_array))"
      ],
      "metadata": {
        "colab": {
          "base_uri": "https://localhost:8080/"
        },
        "id": "moUMSL8DGdTd",
        "outputId": "f4ef3f61-75b0-439f-c22c-60efdefc77c4"
      },
      "execution_count": null,
      "outputs": [
        {
          "output_type": "stream",
          "name": "stdout",
          "text": [
            "Array of 10 equally spaced values between 0 and 1 (inclusive):\n",
            "[0.         0.11111111 0.22222222 0.33333333 0.44444444 0.55555556\n",
            " 0.66666667 0.77777778 0.88888889 1.        ]\n"
          ]
        }
      ]
    },
    {
      "cell_type": "code",
      "source": [
        "# Q23) Write a python function using Numpy to create an array of 5 logarithmically spaced values between 1 and 1000.(inclusive)\n",
        "import numpy as np\n",
        "def create_logarithmically_spaced_array(start, stop, num):\n",
        "    return np.logspace(np.log10(start), np.log10(stop), num)\n",
        "start = 1\n",
        "stop = 1000\n",
        "num = 5\n",
        "log_spaced_array = create_logarithmically_spaced_array(start, stop, num)\n",
        "print(\"Array of {} logarithmically spaced values between {} and {} (inclusive):\\n{}\".format(num, start, stop, log_spaced_array))"
      ],
      "metadata": {
        "colab": {
          "base_uri": "https://localhost:8080/"
        },
        "id": "3AIYS62cHAg0",
        "outputId": "0688f214-7ca7-4ee3-ee2a-a11b053ebda6"
      },
      "execution_count": null,
      "outputs": [
        {
          "output_type": "stream",
          "name": "stdout",
          "text": [
            "Array of 5 logarithmically spaced values between 1 and 1000 (inclusive):\n",
            "[   1.            5.62341325   31.6227766   177.827941   1000.        ]\n"
          ]
        }
      ]
    },
    {
      "cell_type": "code",
      "source": [
        "# Q24) Create a Pandas Dataframe using a Numpy array that contains 5 rows and 3 columns, where the values are random integers between 1 and 100.\n",
        "import numpy as np\n",
        "import pandas as pd\n",
        "np.random.seed(0)\n",
        "random_array = np.random.randint(1, 101, size=(5, 3))\n",
        "df = pd.DataFrame(random_array, columns=['Column 1', 'Column 2', 'Column 3'])\n",
        "print(\"Pandas DataFrame:\")\n",
        "print(df)"
      ],
      "metadata": {
        "colab": {
          "base_uri": "https://localhost:8080/"
        },
        "id": "TNT1RVzPHnos",
        "outputId": "5f429aca-e25c-4f69-c87b-a6fabe254d6a"
      },
      "execution_count": null,
      "outputs": [
        {
          "output_type": "stream",
          "name": "stdout",
          "text": [
            "Pandas DataFrame:\n",
            "   Column 1  Column 2  Column 3\n",
            "0        45        48        65\n",
            "1        68        68        10\n",
            "2        84        22        37\n",
            "3        88        71        89\n",
            "4        89        13        59\n"
          ]
        }
      ]
    },
    {
      "cell_type": "code",
      "source": [
        "# Q25) Write a function that takes a Pandas Dataframes and replaces all negative values in a specific column with zeros. Use Numpy operations within the Pandas Dataframes.\n",
        "import pandas as pd\n",
        "def replace_negative_with_zeros(dataframe, column_name):\n",
        "    dataframe[column_name] = dataframe[column_name].apply(lambda x: max(0, x))\n",
        "    return dataframe\n",
        "data = {'A': [1, 2, 3, -4, 5],\n",
        "        'B': [-10, 20, 30, -40, 50],\n",
        "        'C': [100, -200, 300, 400, -500]}\n",
        "df = pd.DataFrame(data)\n",
        "print(\"Original DataFrame:\")\n",
        "print(df)\n",
        "column_name = 'B'\n",
        "df_modified = replace_negative_with_zeros(df, column_name)\n",
        "print(\"\\nDataFrame with negative values in column '{}' replaced with zeros:\".format(column_name))\n",
        "print(df_modified)"
      ],
      "metadata": {
        "colab": {
          "base_uri": "https://localhost:8080/"
        },
        "id": "SjwLG22_IZnX",
        "outputId": "f69bd841-c944-48c4-d3de-81bc7e697ba0"
      },
      "execution_count": null,
      "outputs": [
        {
          "output_type": "stream",
          "name": "stdout",
          "text": [
            "Original DataFrame:\n",
            "   A   B    C\n",
            "0  1 -10  100\n",
            "1  2  20 -200\n",
            "2  3  30  300\n",
            "3 -4 -40  400\n",
            "4  5  50 -500\n",
            "\n",
            "DataFrame with negative values in column 'B' replaced with zeros:\n",
            "   A   B    C\n",
            "0  1   0  100\n",
            "1  2  20 -200\n",
            "2  3  30  300\n",
            "3 -4   0  400\n",
            "4  5  50 -500\n"
          ]
        }
      ]
    },
    {
      "cell_type": "code",
      "source": [
        "# Q26) Access the 3rd element from the given Numpy Array.\n",
        "     #arr = np.array([10,20,30,40,50])\n",
        "import numpy as np\n",
        "arr = np.array([10, 20, 30, 40, 50])\n",
        "third_element = arr[2]\n",
        "print(\"Third element from the array:\", third_element)"
      ],
      "metadata": {
        "colab": {
          "base_uri": "https://localhost:8080/"
        },
        "id": "8lYp8f1SKKXH",
        "outputId": "9813ee8c-f6c8-46e8-f7ba-67bb59f3eb34"
      },
      "execution_count": null,
      "outputs": [
        {
          "output_type": "stream",
          "name": "stdout",
          "text": [
            "Third element from the array: 30\n"
          ]
        }
      ]
    },
    {
      "cell_type": "code",
      "source": [
        "#Q27) Retrieve the element at index(1,2) from 2D Numpy Array.\n",
        "#arr_2d = np.array([[1,2,3],\n",
        "#                 [4,5,6],\n",
        "#                 [7,8,9]])\n",
        "import numpy as np\n",
        "arr_2d = np.array([[1, 2, 3],\n",
        "                   [4, 5, 6],\n",
        "                   [7, 8, 9]])\n",
        "element_12 = arr_2d[1, 2]\n",
        "print(\"Element at index (1, 2):\", element_12)"
      ],
      "metadata": {
        "colab": {
          "base_uri": "https://localhost:8080/"
        },
        "id": "GcHrQlmuKmk9",
        "outputId": "b84ae490-6209-4dbf-9bc7-92ae590e215a"
      },
      "execution_count": null,
      "outputs": [
        {
          "output_type": "stream",
          "name": "stdout",
          "text": [
            "Element at index (1, 2): 6\n"
          ]
        }
      ]
    },
    {
      "cell_type": "code",
      "source": [
        "# Q28) Using boolean indexing , extract elements greater than 5 from the given Numpy Array.\n",
        "#arr = np.array([3,8,2,10,5,7])\n",
        "import numpy as np\n",
        "arr = np.array([3, 8, 2, 10, 5, 7])\n",
        "greater_than_5 = arr[arr > 5]\n",
        "print(\"Elements greater than 5:\", greater_than_5)"
      ],
      "metadata": {
        "colab": {
          "base_uri": "https://localhost:8080/"
        },
        "id": "ZWQ7UdErLNEc",
        "outputId": "9575c676-d91b-443c-e3ad-8c0f94846d3e"
      },
      "execution_count": null,
      "outputs": [
        {
          "output_type": "stream",
          "name": "stdout",
          "text": [
            "Elements greater than 5: [ 8 10  7]\n"
          ]
        }
      ]
    },
    {
      "cell_type": "code",
      "source": [
        "# Q29) Perform basic slicing to extract elements from index 2 to 5(inclusive)from the given Numpy Array.\n",
        "arr = np.array([1,2,3,4,5,6,7,8,9])\n",
        "import numpy as np\n",
        "arr = np.array([1, 2, 3, 4, 5, 6, 7, 8, 9])\n",
        "sliced_array = arr[2:6]\n",
        "print(\"Sliced array:\", sliced_array)"
      ],
      "metadata": {
        "colab": {
          "base_uri": "https://localhost:8080/"
        },
        "id": "GOyrQG7WLzg9",
        "outputId": "27c9b249-f74f-4e70-e7bc-018cf2149d52"
      },
      "execution_count": null,
      "outputs": [
        {
          "output_type": "stream",
          "name": "stdout",
          "text": [
            "Sliced array: [3 4 5 6]\n"
          ]
        }
      ]
    },
    {
      "cell_type": "code",
      "source": [
        "# Q30) Slice the 2D Numpy array to extract the sub-array [[2,3],[5,6]] from the given array.\n",
        "arr_2d = np.array([[1,2,3],\n",
        "                   [4,5,6],\n",
        "                  [7,8,9]])\n",
        "import numpy as np\n",
        "arr_2d = np.array([[1, 2, 3],\n",
        "                   [4, 5, 6],\n",
        "                   [7, 8, 9]])\n",
        "sub_array = arr_2d[0:2, 1:3]\n",
        "print(\"Sub-array [[2,3],[5,6]]:\")\n",
        "print(sub_array)"
      ],
      "metadata": {
        "colab": {
          "base_uri": "https://localhost:8080/"
        },
        "id": "Zdtg7vloMURc",
        "outputId": "ea8e4779-e722-4634-e95f-f92e1565dd4e"
      },
      "execution_count": null,
      "outputs": [
        {
          "output_type": "stream",
          "name": "stdout",
          "text": [
            "Sub-array [[2,3],[5,6]]:\n",
            "[[2 3]\n",
            " [5 6]]\n"
          ]
        }
      ]
    },
    {
      "cell_type": "code",
      "source": [
        "# Q31) Write a Numpy function to extract elements in a specific order from a given 2D array based on indices provided in another array.\n",
        "import numpy as np\n",
        "def extract_elements_by_indices(arr, indices):\n",
        "    return arr[indices[:, 0], indices[:, 1]]\n",
        "arr_2d = np.array([[1, 2, 3],\n",
        "                   [4, 5, 6],\n",
        "                   [7, 8, 9]])\n",
        "indices = np.array([[0, 1],\n",
        "                    [1, 2],\n",
        "                    [2, 0]])\n",
        "extracted_elements = extract_elements_by_indices(arr_2d, indices)\n",
        "print(\"Extracted elements based on the provided indices:\")\n",
        "print(extracted_elements)"
      ],
      "metadata": {
        "colab": {
          "base_uri": "https://localhost:8080/"
        },
        "id": "0eytpJBgM9OO",
        "outputId": "c439607a-df4a-45dc-c359-648e3fa14e6c"
      },
      "execution_count": null,
      "outputs": [
        {
          "output_type": "stream",
          "name": "stdout",
          "text": [
            "Extracted elements based on the provided indices:\n",
            "[2 6 7]\n"
          ]
        }
      ]
    },
    {
      "cell_type": "code",
      "source": [
        "# Q32) Create a Numpy function that filters elements greater than a thresold from a given 1D array using boolean indexing.\n",
        "import numpy as np\n",
        "def filter_elements_greater_than_threshold(arr, threshold):\n",
        "    return arr[arr > threshold]\n",
        "arr = np.array([1, 5, 10, 15, 20, 25])\n",
        "threshold = 10\n",
        "filtered_array = filter_elements_greater_than_threshold(arr, threshold)\n",
        "print(\"Filtered elements greater than {}: {}\".format(threshold, filtered_array))"
      ],
      "metadata": {
        "colab": {
          "base_uri": "https://localhost:8080/"
        },
        "id": "PHLqLrETTOtw",
        "outputId": "61944615-fc47-474c-f6dd-df15336d3cbc"
      },
      "execution_count": null,
      "outputs": [
        {
          "output_type": "stream",
          "name": "stdout",
          "text": [
            "Filtered elements greater than 10: [15 20 25]\n"
          ]
        }
      ]
    },
    {
      "cell_type": "code",
      "source": [
        "# Q33) Develop a Numpy function that extracts specific elements from a 3D array using indices provided in three seperate arrays for each dimension.\n",
        "import numpy as np\n",
        "def extract_elements_from_3d_array(arr, indices_dim1, indices_dim2, indices_dim3):\n",
        "    return arr[indices_dim1, indices_dim2, indices_dim3]\n",
        "arr_3d = np.array([[[1, 2, 3],\n",
        "                    [4, 5, 6],\n",
        "                    [7, 8, 9]],\n",
        "                   [[10, 11, 12],\n",
        "                    [13, 14, 15],\n",
        "                    [16, 17, 18]],\n",
        "                   [[19, 20, 21],\n",
        "                    [22, 23, 24],\n",
        "                    [25, 26, 27]]])\n",
        "indices_dim1 = np.array([0, 1, 2])\n",
        "indices_dim2 = np.array([1, 0, 2])\n",
        "indices_dim3 = np.array([2, 1, 0])\n",
        "extracted_elements = extract_elements_from_3d_array(arr_3d, indices_dim1, indices_dim2, indices_dim3)\n",
        "print(\"Extracted elements from the 3D array based on provided indices:\")\n",
        "print(extracted_elements)"
      ],
      "metadata": {
        "colab": {
          "base_uri": "https://localhost:8080/"
        },
        "id": "w79UGTp3UMSG",
        "outputId": "a3eb197b-c210-4f14-d401-87348515715c"
      },
      "execution_count": null,
      "outputs": [
        {
          "output_type": "stream",
          "name": "stdout",
          "text": [
            "Extracted elements from the 3D array based on provided indices:\n",
            "[ 6 11 25]\n"
          ]
        }
      ]
    },
    {
      "cell_type": "code",
      "source": [
        "# Q34) Write a Numpy function Numpy function that returns elements from an array where both the two conditions are satisfied using boolean indexing.\n",
        "import numpy as np\n",
        "def elements_satisfying_conditions(arr, condition1, condition2):\n",
        "    return arr[np.logical_and(condition1, condition2)]\n",
        "arr = np.array([1, 5, 10, 15, 20])\n",
        "condition1 = arr > 5\n",
        "condition2 = arr < 15\n",
        "selected_elements = elements_satisfying_conditions(arr, condition1, condition2)\n",
        "print(\"Elements from the array where both conditions are satisfied:\", selected_elements)"
      ],
      "metadata": {
        "colab": {
          "base_uri": "https://localhost:8080/"
        },
        "id": "RaHejLJhU8sm",
        "outputId": "3af989dd-aaba-4001-dad3-05e028f5f8a2"
      },
      "execution_count": null,
      "outputs": [
        {
          "output_type": "stream",
          "name": "stdout",
          "text": [
            "Elements from the array where both conditions are satisfied: [10]\n"
          ]
        }
      ]
    },
    {
      "cell_type": "code",
      "source": [
        "# Q35) Write a numpy function that extracts elements from 2D array using row and column indices provided in seperate arrays.\n",
        "import numpy as np\n",
        "def extract_elements_from_2d_array(arr, row_indices, col_indices):\n",
        "    return arr[row_indices, col_indices]\n",
        "arr_2d = np.array([[1, 2, 3],\n",
        "                   [4, 5, 6],\n",
        "                   [7, 8, 9]])\n",
        "row_indices = np.array([0, 1, 2])\n",
        "col_indices = np.array([1, 2, 0])\n",
        "extracted_elements = extract_elements_from_2d_array(arr_2d, row_indices, col_indices)\n",
        "print(\"Extracted elements from the 2D array based on provided row and column indices:\")\n",
        "print(extracted_elements)"
      ],
      "metadata": {
        "colab": {
          "base_uri": "https://localhost:8080/"
        },
        "id": "K4JoIPBPWJ4X",
        "outputId": "99df556a-53cc-4db8-fa8d-bb6e51935f0e"
      },
      "execution_count": null,
      "outputs": [
        {
          "output_type": "stream",
          "name": "stdout",
          "text": [
            "Extracted elements from the 2D array based on provided row and column indices:\n",
            "[2 6 7]\n"
          ]
        }
      ]
    },
    {
      "cell_type": "code",
      "source": [
        "# Q36) Given an array arr of shape (3,3) , add a scalar value of 5 to each element using numpy broadcasting.\n",
        "import numpy as np\n",
        "arr = np.array([[1, 2, 3],\n",
        "                [4, 5, 6],\n",
        "                [7, 8, 9]])\n",
        "result = arr + 5\n",
        "print(\"Original array:\")\n",
        "print(arr)\n",
        "print(\"\\nArray after adding a scalar value of 5 to each element using broadcasting:\")\n",
        "print(result)"
      ],
      "metadata": {
        "colab": {
          "base_uri": "https://localhost:8080/"
        },
        "id": "-Ok_wRa9XUVX",
        "outputId": "6109874e-b2a7-4ac8-95c9-e09206b06fcd"
      },
      "execution_count": null,
      "outputs": [
        {
          "output_type": "stream",
          "name": "stdout",
          "text": [
            "Original array:\n",
            "[[1 2 3]\n",
            " [4 5 6]\n",
            " [7 8 9]]\n",
            "\n",
            "Array after adding a scalar value of 5 to each element using broadcasting:\n",
            "[[ 6  7  8]\n",
            " [ 9 10 11]\n",
            " [12 13 14]]\n"
          ]
        }
      ]
    },
    {
      "cell_type": "code",
      "source": [
        "# Q37) Consider two arrays arr1 of shape(1,3) and arr2 of shape(3,4).Multiply each row of arr2 by the corresponding element in arr1 using Numpy broadcasting.\n",
        "import numpy as np\n",
        "arr1 = np.array([[1, 2, 3]])\n",
        "arr2 = np.array([[1, 2, 3, 4],\n",
        "                 [5, 6, 7, 8],\n",
        "                 [9, 10, 11, 12]])\n",
        "result = arr1 * arr2\n",
        "print(\"Array arr1:\")\n",
        "print(arr1)\n",
        "print(\"\\nArray arr2:\")\n",
        "print(arr2)\n",
        "print(\"\\nResult after multiplying each row of arr2 by the corresponding element in arr1:\")\n",
        "print(result)"
      ],
      "metadata": {
        "colab": {
          "base_uri": "https://localhost:8080/",
          "height": 106
        },
        "id": "CuGM_foKX1jX",
        "outputId": "2dc72176-1a2f-420c-fd5a-101c961c0fc4"
      },
      "execution_count": null,
      "outputs": [
        {
          "output_type": "error",
          "ename": "SyntaxError",
          "evalue": "invalid syntax (<ipython-input-46-6c98bc9a4135>, line 7)",
          "traceback": [
            "\u001b[0;36m  File \u001b[0;32m\"<ipython-input-46-6c98bc9a4135>\"\u001b[0;36m, line \u001b[0;32m7\u001b[0m\n\u001b[0;31m    result = arr1 X arr2\u001b[0m\n\u001b[0m                  ^\u001b[0m\n\u001b[0;31mSyntaxError\u001b[0m\u001b[0;31m:\u001b[0m invalid syntax\n"
          ]
        }
      ]
    },
    {
      "cell_type": "code",
      "source": [
        "# Q38) Given a 1D array arr1 of shape(1,4) and arr2 of shape(4,3).Add arr1 to each row of arr2 using Numpy broadcasting.\n",
        "import numpy as np\n",
        "arr1 = np.array([[1, 2, 3, 4]])\n",
        "arr2 = np.array([[1, 2, 3],\n",
        "                 [4, 5, 6],\n",
        "                 [7, 8, 9],\n",
        "                 [10, 11, 12]])\n",
        "result = arr1 + arr2\n",
        "print(\"Array arr1:\")\n",
        "print(arr1)\n",
        "print(\"\\nArray arr2:\")\n",
        "print(arr2)\n",
        "print(\"\\nResult after adding arr1 to each row of arr2:\")\n",
        "print(result)"
      ],
      "metadata": {
        "colab": {
          "base_uri": "https://localhost:8080/",
          "height": 211
        },
        "id": "Poxw95DXYpD_",
        "outputId": "87f3298e-43e5-4ea6-b032-110602c386d1"
      },
      "execution_count": null,
      "outputs": [
        {
          "output_type": "error",
          "ename": "ValueError",
          "evalue": "operands could not be broadcast together with shapes (1,4) (4,3) ",
          "traceback": [
            "\u001b[0;31m---------------------------------------------------------------------------\u001b[0m",
            "\u001b[0;31mValueError\u001b[0m                                Traceback (most recent call last)",
            "\u001b[0;32m<ipython-input-47-f93a5a8bf573>\u001b[0m in \u001b[0;36m<cell line: 8>\u001b[0;34m()\u001b[0m\n\u001b[1;32m      6\u001b[0m                  \u001b[0;34m[\u001b[0m\u001b[0;36m7\u001b[0m\u001b[0;34m,\u001b[0m \u001b[0;36m8\u001b[0m\u001b[0;34m,\u001b[0m \u001b[0;36m9\u001b[0m\u001b[0;34m]\u001b[0m\u001b[0;34m,\u001b[0m\u001b[0;34m\u001b[0m\u001b[0;34m\u001b[0m\u001b[0m\n\u001b[1;32m      7\u001b[0m                  [10, 11, 12]])\n\u001b[0;32m----> 8\u001b[0;31m \u001b[0mresult\u001b[0m \u001b[0;34m=\u001b[0m \u001b[0marr1\u001b[0m \u001b[0;34m+\u001b[0m \u001b[0marr2\u001b[0m\u001b[0;34m\u001b[0m\u001b[0;34m\u001b[0m\u001b[0m\n\u001b[0m\u001b[1;32m      9\u001b[0m \u001b[0mprint\u001b[0m\u001b[0;34m(\u001b[0m\u001b[0;34m\"Array arr1:\"\u001b[0m\u001b[0;34m)\u001b[0m\u001b[0;34m\u001b[0m\u001b[0;34m\u001b[0m\u001b[0m\n\u001b[1;32m     10\u001b[0m \u001b[0mprint\u001b[0m\u001b[0;34m(\u001b[0m\u001b[0marr1\u001b[0m\u001b[0;34m)\u001b[0m\u001b[0;34m\u001b[0m\u001b[0;34m\u001b[0m\u001b[0m\n",
            "\u001b[0;31mValueError\u001b[0m: operands could not be broadcast together with shapes (1,4) (4,3) "
          ]
        }
      ]
    },
    {
      "cell_type": "code",
      "source": [
        "# Q39) Consider two arrays arr1 of shape(3,1) and arr2 of shape(1,3).Add these arrays using numpy broadcasting.\n",
        "import numpy as np\n",
        "arr1 = np.array([[1],\n",
        "                  [2],\n",
        "                  [3]])\n",
        "arr2 = np.array([[4, 5, 6]])\n",
        "result = arr1 + arr2\n",
        "print(\"Array arr1:\")\n",
        "print(arr1)\n",
        "print(\"\\nArray arr2:\")\n",
        "print(arr2)\n",
        "print(\"\\nResult after adding arr1 to arr2 using broadcasting:\")\n",
        "print(result)"
      ],
      "metadata": {
        "colab": {
          "base_uri": "https://localhost:8080/"
        },
        "id": "pr_TcXDQZUGP",
        "outputId": "665b6d6b-46c0-4393-b49c-675a86fba7b9"
      },
      "execution_count": null,
      "outputs": [
        {
          "output_type": "stream",
          "name": "stdout",
          "text": [
            "Array arr1:\n",
            "[[1]\n",
            " [2]\n",
            " [3]]\n",
            "\n",
            "Array arr2:\n",
            "[[4 5 6]]\n",
            "\n",
            "Result after adding arr1 to arr2 using broadcasting:\n",
            "[[5 6 7]\n",
            " [6 7 8]\n",
            " [7 8 9]]\n"
          ]
        }
      ]
    },
    {
      "cell_type": "code",
      "source": [
        "# Q40)Given array arr1 of shape(2,3) and arr2 of shape(2,2).Perform Multiplication using Numpy broadcasting.Handle the shape incompatibility.\n",
        "import numpy as np\n",
        "arr1 = np.array([[1, 2, 3],\n",
        "                  [4, 5, 6]])\n",
        "arr2 = np.array([[1, 2],\n",
        "                  [3, 4]])\n",
        "arr2_reshaped = arr2.reshape(2, 1, 2)\n",
        "result = arr1 * arr2_reshaped\n",
        "print(\"Array arr1:\")\n",
        "print(arr1)\n",
        "print(\"\\nArray arr2:\")\n",
        "print(arr2)\n",
        "print(\"\\nResult after performing multiplication using broadcasting:\")\n",
        "print(result)"
      ],
      "metadata": {
        "colab": {
          "base_uri": "https://localhost:8080/",
          "height": 211
        },
        "id": "bI5N-aLPZ0S-",
        "outputId": "ee9ebc0f-77d6-4335-c335-bc83d891ecd0"
      },
      "execution_count": null,
      "outputs": [
        {
          "output_type": "error",
          "ename": "ValueError",
          "evalue": "operands could not be broadcast together with shapes (2,3) (2,1,2) ",
          "traceback": [
            "\u001b[0;31m---------------------------------------------------------------------------\u001b[0m",
            "\u001b[0;31mValueError\u001b[0m                                Traceback (most recent call last)",
            "\u001b[0;32m<ipython-input-49-d2e2ff7d79c5>\u001b[0m in \u001b[0;36m<cell line: 8>\u001b[0;34m()\u001b[0m\n\u001b[1;32m      6\u001b[0m                   [3, 4]])\n\u001b[1;32m      7\u001b[0m \u001b[0marr2_reshaped\u001b[0m \u001b[0;34m=\u001b[0m \u001b[0marr2\u001b[0m\u001b[0;34m.\u001b[0m\u001b[0mreshape\u001b[0m\u001b[0;34m(\u001b[0m\u001b[0;36m2\u001b[0m\u001b[0;34m,\u001b[0m \u001b[0;36m1\u001b[0m\u001b[0;34m,\u001b[0m \u001b[0;36m2\u001b[0m\u001b[0;34m)\u001b[0m\u001b[0;34m\u001b[0m\u001b[0;34m\u001b[0m\u001b[0m\n\u001b[0;32m----> 8\u001b[0;31m \u001b[0mresult\u001b[0m \u001b[0;34m=\u001b[0m \u001b[0marr1\u001b[0m \u001b[0;34m*\u001b[0m \u001b[0marr2_reshaped\u001b[0m\u001b[0;34m\u001b[0m\u001b[0;34m\u001b[0m\u001b[0m\n\u001b[0m\u001b[1;32m      9\u001b[0m \u001b[0mprint\u001b[0m\u001b[0;34m(\u001b[0m\u001b[0;34m\"Array arr1:\"\u001b[0m\u001b[0;34m)\u001b[0m\u001b[0;34m\u001b[0m\u001b[0;34m\u001b[0m\u001b[0m\n\u001b[1;32m     10\u001b[0m \u001b[0mprint\u001b[0m\u001b[0;34m(\u001b[0m\u001b[0marr1\u001b[0m\u001b[0;34m)\u001b[0m\u001b[0;34m\u001b[0m\u001b[0;34m\u001b[0m\u001b[0m\n",
            "\u001b[0;31mValueError\u001b[0m: operands could not be broadcast together with shapes (2,3) (2,1,2) "
          ]
        }
      ]
    },
    {
      "cell_type": "code",
      "source": [
        "# Q41) Calculate column-wise mean for the given array:\n",
        "#arr = np.array([[1,2,3],[4,5,6]])\n",
        "import numpy as np\n",
        "arr = np.array([[1, 2, 3],\n",
        "                [4, 5, 6]])\n",
        "column_means = np.mean(arr, axis=0)\n",
        "print(\"Array:\")\n",
        "print(arr)\n",
        "print(\"\\nColumn-wise mean:\")\n",
        "print(column_means)"
      ],
      "metadata": {
        "colab": {
          "base_uri": "https://localhost:8080/"
        },
        "id": "zM8TJckyaceo",
        "outputId": "3f40cb8d-50b4-4caf-8a68-3f23367fefd3"
      },
      "execution_count": null,
      "outputs": [
        {
          "output_type": "stream",
          "name": "stdout",
          "text": [
            "Array:\n",
            "[[1 2 3]\n",
            " [4 5 6]]\n",
            "\n",
            "Column-wise mean:\n",
            "[2.5 3.5 4.5]\n"
          ]
        }
      ]
    },
    {
      "cell_type": "code",
      "source": [
        "# Q42) Find maximum value in each each row of the given array:\n",
        "# arr = np.array([[1,2,3],[4,5,6]])\n",
        "import numpy as np\n",
        "arr = np.array([[1, 2, 3],\n",
        "                [4, 5, 6]])\n",
        "max_values_per_row = np.max(arr, axis=1)\n",
        "print(\"Array:\")\n",
        "print(arr)\n",
        "print(\"\\nMaximum value in each row:\")\n",
        "print(max_values_per_row)"
      ],
      "metadata": {
        "colab": {
          "base_uri": "https://localhost:8080/"
        },
        "id": "S2-Xe8Ar42gR",
        "outputId": "593ee44d-606b-4f8a-ef4c-9b53208c071f"
      },
      "execution_count": null,
      "outputs": [
        {
          "output_type": "stream",
          "name": "stdout",
          "text": [
            "Array:\n",
            "[[1 2 3]\n",
            " [4 5 6]]\n",
            "\n",
            "Maximum value in each row:\n",
            "[3 6]\n"
          ]
        }
      ]
    },
    {
      "cell_type": "code",
      "source": [
        "# Q43) For the given array, find indices of maximum value of each column:\n",
        "# arr = np.array([[1,2,3],[4,5,6]])\n",
        "import numpy as np\n",
        "arr = np.array([[1, 2, 3],\n",
        "                [4, 5, 6]])\n",
        "max_indices_per_column = np.argmax(arr, axis=0)\n",
        "print(\"Array:\")\n",
        "print(arr)\n",
        "print(\"\\nIndices of maximum value of each column:\")\n",
        "print(max_indices_per_column)"
      ],
      "metadata": {
        "colab": {
          "base_uri": "https://localhost:8080/"
        },
        "id": "ZW_GuOGU5Sv4",
        "outputId": "aabc8403-bf73-48b0-a9e2-64041b21e645"
      },
      "execution_count": null,
      "outputs": [
        {
          "output_type": "stream",
          "name": "stdout",
          "text": [
            "Array:\n",
            "[[1 2 3]\n",
            " [4 5 6]]\n",
            "\n",
            "Indices of maximum value of each column:\n",
            "[1 1 1]\n"
          ]
        }
      ]
    },
    {
      "cell_type": "code",
      "source": [
        "# Q44) For the given array, apply custom function to calculate moving sum along rows.\n",
        "# arr = np.array([[1,2,3],[4,5,6]])\n",
        "import numpy as np\n",
        "def moving_sum(row):\n",
        "    return np.cumsum(row)\n",
        "arr = np.array([[1, 2, 3],\n",
        "                [4, 5, 6]])\n",
        "moving_sum_result = np.apply_along_axis(moving_sum, axis=1, arr=arr)\n",
        "print(\"Array:\")\n",
        "print(arr)\n",
        "print(\"\\nMoving sum along rows:\")\n",
        "print(moving_sum_result)"
      ],
      "metadata": {
        "colab": {
          "base_uri": "https://localhost:8080/"
        },
        "id": "7BiNcL1h6FuI",
        "outputId": "1d246bbd-a7b6-41f4-a549-d707846331e6"
      },
      "execution_count": null,
      "outputs": [
        {
          "output_type": "stream",
          "name": "stdout",
          "text": [
            "Array:\n",
            "[[1 2 3]\n",
            " [4 5 6]]\n",
            "\n",
            "Moving sum along rows:\n",
            "[[ 1  3  6]\n",
            " [ 4  9 15]]\n"
          ]
        }
      ]
    },
    {
      "cell_type": "code",
      "source": [
        "# Q45) In the given array, check if all elements in each columns are even.\n",
        "# arr = np.array([[2,4,6],[3,5,7]])\n",
        "import numpy as np\n",
        "arr = np.array([[2, 4, 6],\n",
        "                [3, 5, 7]])\n",
        "all_even_columns = np.all(arr % 2 == 0, axis=0)\n",
        "print(\"Array:\")\n",
        "print(arr)\n",
        "print(\"\\nCheck if all elements in each column are even:\")\n",
        "print(all_even_columns)"
      ],
      "metadata": {
        "colab": {
          "base_uri": "https://localhost:8080/"
        },
        "id": "BriIc9Gd6kQo",
        "outputId": "cbc5b74e-f4d5-4753-aeb6-ba8314ffada4"
      },
      "execution_count": null,
      "outputs": [
        {
          "output_type": "stream",
          "name": "stdout",
          "text": [
            "Array:\n",
            "[[2 4 6]\n",
            " [3 5 7]]\n",
            "\n",
            "Check if all elements in each column are even:\n",
            "[False False False]\n"
          ]
        }
      ]
    },
    {
      "cell_type": "code",
      "source": [
        "# Q46) Given a Numpy array arr, reshape it into a matrix of dimensions'm' rows and 'n' columns. Return the reshaped matrix.\n",
        "#original_array = np.array([1,2,3,4,5,6])\n",
        "import numpy as np\n",
        "original_array = np.array([1, 2, 3, 4, 5, 6])\n",
        "m = 2\n",
        "n = 3\n",
        "reshaped_matrix = np.reshape(original_array, (m, n))\n",
        "print(\"Original array:\")\n",
        "print(original_array)\n",
        "print(\"\\nReshaped matrix:\")\n",
        "print(reshaped_matrix)"
      ],
      "metadata": {
        "colab": {
          "base_uri": "https://localhost:8080/"
        },
        "id": "JilLTHzU6_DT",
        "outputId": "aa1c3410-3e72-4c83-c410-292805fc648a"
      },
      "execution_count": null,
      "outputs": [
        {
          "output_type": "stream",
          "name": "stdout",
          "text": [
            "Original array:\n",
            "[1 2 3 4 5 6]\n",
            "\n",
            "Reshaped matrix:\n",
            "[[1 2 3]\n",
            " [4 5 6]]\n"
          ]
        }
      ]
    },
    {
      "cell_type": "code",
      "source": [
        "# Q47) Create a  function that takes a matrix as input and return the flattened array.\n",
        "input_matrix = np.array = ([1,2,3],[4,5,6])\n",
        "import numpy as np\n",
        "def flatten_matrix(input_matrix):\n",
        "    return input_matrix.flatten()\n",
        "input_matrix = np.array([[1, 2, 3],\n",
        "                         [4, 5, 6]])\n",
        "flattened_array = flatten_matrix(input_matrix)\n",
        "print(\"Input matrix:\")\n",
        "print(input_matrix)\n",
        "print(\"\\nFlattened array:\")\n",
        "print(flattened_array)"
      ],
      "metadata": {
        "colab": {
          "base_uri": "https://localhost:8080/",
          "height": 211
        },
        "id": "1a5Bz5Ye7q0w",
        "outputId": "df2659d7-ebbd-4eb0-ed95-229edf1bb145"
      },
      "execution_count": null,
      "outputs": [
        {
          "output_type": "error",
          "ename": "TypeError",
          "evalue": "tuple indices must be integers or slices, not tuple",
          "traceback": [
            "\u001b[0;31m---------------------------------------------------------------------------\u001b[0m",
            "\u001b[0;31mTypeError\u001b[0m                                 Traceback (most recent call last)",
            "\u001b[0;32m<ipython-input-58-9acc64b969f5>\u001b[0m in \u001b[0;36m<cell line: 6>\u001b[0;34m()\u001b[0m\n\u001b[1;32m      4\u001b[0m \u001b[0;32mdef\u001b[0m \u001b[0mflatten_matrix\u001b[0m\u001b[0;34m(\u001b[0m\u001b[0minput_matrix\u001b[0m\u001b[0;34m)\u001b[0m\u001b[0;34m:\u001b[0m\u001b[0;34m\u001b[0m\u001b[0;34m\u001b[0m\u001b[0m\n\u001b[1;32m      5\u001b[0m     \u001b[0;32mreturn\u001b[0m \u001b[0minput_matrix\u001b[0m\u001b[0;34m.\u001b[0m\u001b[0mflatten\u001b[0m\u001b[0;34m(\u001b[0m\u001b[0;34m)\u001b[0m\u001b[0;34m\u001b[0m\u001b[0;34m\u001b[0m\u001b[0m\n\u001b[0;32m----> 6\u001b[0;31m input_matrix = np.array[[1, 2, 3],\n\u001b[0m\u001b[1;32m      7\u001b[0m                          [4, 5, 6]]\n\u001b[1;32m      8\u001b[0m \u001b[0mflattened_array\u001b[0m \u001b[0;34m=\u001b[0m \u001b[0mflatten_matrix\u001b[0m\u001b[0;34m(\u001b[0m\u001b[0minput_matrix\u001b[0m\u001b[0;34m)\u001b[0m\u001b[0;34m\u001b[0m\u001b[0;34m\u001b[0m\u001b[0m\n",
            "\u001b[0;31mTypeError\u001b[0m: tuple indices must be integers or slices, not tuple"
          ]
        }
      ]
    },
    {
      "cell_type": "code",
      "source": [
        "# Q48) Write a function that concentrate two given arrays along a specified axis.\n",
        "#array1 = np.array([[1,2],[3,4]])\n",
        "#array2 = np.array([[5,6],[7,8]])\n",
        "import numpy as np\n",
        "def concatenate_arrays(array1, array2, axis=0):\n",
        "    return np.concatenate((array1, array2), axis=axis)\n",
        "array1 = np.array([[1, 2],\n",
        "                   [3, 4]])\n",
        "array2 = np.array([[5, 6],\n",
        "                   [7, 8]])\n",
        "concatenated_array_rows = concatenate_arrays(array1, array2, axis=0)\n",
        "concatenated_array_columns = concatenate_arrays(array1, array2, axis=1)\n",
        "print(\"Array 1:\")\n",
        "print(array1)\n",
        "print(\"\\nArray 2:\")\n",
        "print(array2)\n",
        "print(\"\\nConcatenated array along rows:\")\n",
        "print(concatenated_array_rows)\n",
        "print(\"\\nConcatenated array along columns:\")\n",
        "print(concatenated_array_columns)"
      ],
      "metadata": {
        "colab": {
          "base_uri": "https://localhost:8080/",
          "height": 211
        },
        "id": "eMFUr6yU8Uio",
        "outputId": "386776f9-b02f-4c60-ca9b-5e1af17a890d"
      },
      "execution_count": null,
      "outputs": [
        {
          "output_type": "error",
          "ename": "TypeError",
          "evalue": "'tuple' object is not callable",
          "traceback": [
            "\u001b[0;31m---------------------------------------------------------------------------\u001b[0m",
            "\u001b[0;31mTypeError\u001b[0m                                 Traceback (most recent call last)",
            "\u001b[0;32m<ipython-input-59-473c751e71a0>\u001b[0m in \u001b[0;36m<cell line: 7>\u001b[0;34m()\u001b[0m\n\u001b[1;32m      5\u001b[0m \u001b[0;32mdef\u001b[0m \u001b[0mconcatenate_arrays\u001b[0m\u001b[0;34m(\u001b[0m\u001b[0marray1\u001b[0m\u001b[0;34m,\u001b[0m \u001b[0marray2\u001b[0m\u001b[0;34m,\u001b[0m \u001b[0maxis\u001b[0m\u001b[0;34m=\u001b[0m\u001b[0;36m0\u001b[0m\u001b[0;34m)\u001b[0m\u001b[0;34m:\u001b[0m\u001b[0;34m\u001b[0m\u001b[0;34m\u001b[0m\u001b[0m\n\u001b[1;32m      6\u001b[0m     \u001b[0;32mreturn\u001b[0m \u001b[0mnp\u001b[0m\u001b[0;34m.\u001b[0m\u001b[0mconcatenate\u001b[0m\u001b[0;34m(\u001b[0m\u001b[0;34m(\u001b[0m\u001b[0marray1\u001b[0m\u001b[0;34m,\u001b[0m \u001b[0marray2\u001b[0m\u001b[0;34m)\u001b[0m\u001b[0;34m,\u001b[0m \u001b[0maxis\u001b[0m\u001b[0;34m=\u001b[0m\u001b[0maxis\u001b[0m\u001b[0;34m)\u001b[0m\u001b[0;34m\u001b[0m\u001b[0;34m\u001b[0m\u001b[0m\n\u001b[0;32m----> 7\u001b[0;31m array1 = np.array([[1, 2],\n\u001b[0m\u001b[1;32m      8\u001b[0m                    [3, 4]])\n\u001b[1;32m      9\u001b[0m array2 = np.array([[5, 6],\n",
            "\u001b[0;31mTypeError\u001b[0m: 'tuple' object is not callable"
          ]
        }
      ]
    },
    {
      "cell_type": "code",
      "source": [
        "# Q49) Create a function that spilts an array into multiple sub-arrays along a specified axis.\n",
        "#original_array = np.array([[1,2,3],[4,5,6],[7,8,9]])\n",
        "import numpy as np\n",
        "def split_array(original_array, axis=0):\n",
        "    return np.split(original_array, indices_or_sections, axis=axis)\n",
        "original_array = np.array([[1, 2, 3],\n",
        "                           [4, 5, 6],\n",
        "                           [7, 8, 9]])\n",
        "split_arrays_rows = split_array(original_array, axis=0)\n",
        "split_arrays_columns = split_array(original_array, axis=1)\n",
        "print(\"Original array:\")\n",
        "print(original_array)\n",
        "print(\"\\nSplit arrays along rows:\")\n",
        "for arr in split_arrays_rows:\n",
        "    print(arr)\n",
        "print(\"\\nSplit arrays along columns:\")\n",
        "for arr in split_arrays_columns:\n",
        "    print(arr)"
      ],
      "metadata": {
        "colab": {
          "base_uri": "https://localhost:8080/",
          "height": 211
        },
        "id": "4mr1MAtx8-kX",
        "outputId": "7d65e86b-b2fa-4a33-9307-55bd3ea3c131"
      },
      "execution_count": null,
      "outputs": [
        {
          "output_type": "error",
          "ename": "TypeError",
          "evalue": "'tuple' object is not callable",
          "traceback": [
            "\u001b[0;31m---------------------------------------------------------------------------\u001b[0m",
            "\u001b[0;31mTypeError\u001b[0m                                 Traceback (most recent call last)",
            "\u001b[0;32m<ipython-input-60-f94372dc39a1>\u001b[0m in \u001b[0;36m<cell line: 6>\u001b[0;34m()\u001b[0m\n\u001b[1;32m      4\u001b[0m \u001b[0;32mdef\u001b[0m \u001b[0msplit_array\u001b[0m\u001b[0;34m(\u001b[0m\u001b[0moriginal_array\u001b[0m\u001b[0;34m,\u001b[0m \u001b[0maxis\u001b[0m\u001b[0;34m=\u001b[0m\u001b[0;36m0\u001b[0m\u001b[0;34m)\u001b[0m\u001b[0;34m:\u001b[0m\u001b[0;34m\u001b[0m\u001b[0;34m\u001b[0m\u001b[0m\n\u001b[1;32m      5\u001b[0m     \u001b[0;32mreturn\u001b[0m \u001b[0mnp\u001b[0m\u001b[0;34m.\u001b[0m\u001b[0msplit\u001b[0m\u001b[0;34m(\u001b[0m\u001b[0moriginal_array\u001b[0m\u001b[0;34m,\u001b[0m \u001b[0mindices_or_sections\u001b[0m\u001b[0;34m,\u001b[0m \u001b[0maxis\u001b[0m\u001b[0;34m=\u001b[0m\u001b[0maxis\u001b[0m\u001b[0;34m)\u001b[0m\u001b[0;34m\u001b[0m\u001b[0;34m\u001b[0m\u001b[0m\n\u001b[0;32m----> 6\u001b[0;31m original_array = np.array([[1, 2, 3],\n\u001b[0m\u001b[1;32m      7\u001b[0m                            \u001b[0;34m[\u001b[0m\u001b[0;36m4\u001b[0m\u001b[0;34m,\u001b[0m \u001b[0;36m5\u001b[0m\u001b[0;34m,\u001b[0m \u001b[0;36m6\u001b[0m\u001b[0;34m]\u001b[0m\u001b[0;34m,\u001b[0m\u001b[0;34m\u001b[0m\u001b[0;34m\u001b[0m\u001b[0m\n\u001b[1;32m      8\u001b[0m                            [7, 8, 9]])\n",
            "\u001b[0;31mTypeError\u001b[0m: 'tuple' object is not callable"
          ]
        }
      ]
    },
    {
      "cell_type": "code",
      "source": [
        "# Q50) Write a function that inserts and then delete elements from a given array at specified indices.\n",
        "original_array = np.array([1,2,3,4,5])\n",
        "indices_to_insert = [2,4]\n",
        "values_to_insert = [10,11]\n",
        "indices_to_delete = [1,3]\n",
        "\n",
        "import numpy as np\n",
        "def insert_and_delete_elements(original_array, indices_to_insert, values_to_insert, indices_to_delete):\n",
        "    for index, value in zip(indices_to_insert, values_to_insert):\n",
        "        original_array = np.insert(original_array, index, value)\n",
        "    original_array = np.delete(original_array, indices_to_delete)\n",
        "    return original_array\n",
        "original_array = np.array([1, 2, 3, 4, 5])\n",
        "indices_to_insert = [2, 4]\n",
        "values_to_insert = [10, 11]\n",
        "indices_to_delete = [1, 3]\n",
        "updated_array = insert_and_delete_elements(original_array, indices_to_insert, values_to_insert, indices_to_delete)\n",
        "print(\"Original array:\")\n",
        "print(original_array)\n",
        "print(\"\\nUpdated array after inserting and deleting elements:\")\n",
        "print(updated_array)"
      ],
      "metadata": {
        "colab": {
          "base_uri": "https://localhost:8080/",
          "height": 211
        },
        "id": "vdlQzBFK9qlS",
        "outputId": "7f84d123-be2e-49ff-b09f-bdb8173c7748"
      },
      "execution_count": null,
      "outputs": [
        {
          "output_type": "error",
          "ename": "TypeError",
          "evalue": "'tuple' object is not callable",
          "traceback": [
            "\u001b[0;31m---------------------------------------------------------------------------\u001b[0m",
            "\u001b[0;31mTypeError\u001b[0m                                 Traceback (most recent call last)",
            "\u001b[0;32m<ipython-input-61-8d5ea24d689c>\u001b[0m in \u001b[0;36m<cell line: 2>\u001b[0;34m()\u001b[0m\n\u001b[1;32m      1\u001b[0m \u001b[0;31m# Q50) Write a function that inserts and then delete elements from a given array at specified indices.\u001b[0m\u001b[0;34m\u001b[0m\u001b[0;34m\u001b[0m\u001b[0m\n\u001b[0;32m----> 2\u001b[0;31m \u001b[0moriginal_array\u001b[0m \u001b[0;34m=\u001b[0m \u001b[0mnp\u001b[0m\u001b[0;34m.\u001b[0m\u001b[0marray\u001b[0m\u001b[0;34m(\u001b[0m\u001b[0;34m[\u001b[0m\u001b[0;36m1\u001b[0m\u001b[0;34m,\u001b[0m\u001b[0;36m2\u001b[0m\u001b[0;34m,\u001b[0m\u001b[0;36m3\u001b[0m\u001b[0;34m,\u001b[0m\u001b[0;36m4\u001b[0m\u001b[0;34m,\u001b[0m\u001b[0;36m5\u001b[0m\u001b[0;34m]\u001b[0m\u001b[0;34m)\u001b[0m\u001b[0;34m\u001b[0m\u001b[0;34m\u001b[0m\u001b[0m\n\u001b[0m\u001b[1;32m      3\u001b[0m \u001b[0mindices_to_insert\u001b[0m \u001b[0;34m=\u001b[0m \u001b[0;34m[\u001b[0m\u001b[0;36m2\u001b[0m\u001b[0;34m,\u001b[0m\u001b[0;36m4\u001b[0m\u001b[0;34m]\u001b[0m\u001b[0;34m\u001b[0m\u001b[0;34m\u001b[0m\u001b[0m\n\u001b[1;32m      4\u001b[0m \u001b[0mvalues_to_insert\u001b[0m \u001b[0;34m=\u001b[0m \u001b[0;34m[\u001b[0m\u001b[0;36m10\u001b[0m\u001b[0;34m,\u001b[0m\u001b[0;36m11\u001b[0m\u001b[0;34m]\u001b[0m\u001b[0;34m\u001b[0m\u001b[0;34m\u001b[0m\u001b[0m\n\u001b[1;32m      5\u001b[0m \u001b[0mindices_to_delete\u001b[0m \u001b[0;34m=\u001b[0m \u001b[0;34m[\u001b[0m\u001b[0;36m1\u001b[0m\u001b[0;34m,\u001b[0m\u001b[0;36m3\u001b[0m\u001b[0;34m]\u001b[0m\u001b[0;34m\u001b[0m\u001b[0;34m\u001b[0m\u001b[0m\n",
            "\u001b[0;31mTypeError\u001b[0m: 'tuple' object is not callable"
          ]
        }
      ]
    },
    {
      "cell_type": "code",
      "source": [
        "# Q51) Create a Numpy array \"arr1\" with random integers and another array \"arr2\" with integers from 1 to 10.Perform element-wise addition between \"arr1\" and \"arr2\".\n",
        "import numpy as np\n",
        "arr1 = np.random.randint(1, 100, size=(5, 5))\n",
        "print(\"arr1:\")\n",
        "print(arr1)\n",
        "arr2 = np.arange(1, 11)\n",
        "print(\"\\narr2:\")\n",
        "print(arr2)\n",
        "result = arr1 + arr2\n",
        "print(\"\\nResult of element-wise addition:\")\n",
        "print(result)"
      ],
      "metadata": {
        "colab": {
          "base_uri": "https://localhost:8080/",
          "height": 280
        },
        "id": "7ynihmco-jGQ",
        "outputId": "9be8ce72-c21b-4887-b656-77640a208bf8"
      },
      "execution_count": null,
      "outputs": [
        {
          "output_type": "error",
          "ename": "TypeError",
          "evalue": "'tuple' object is not callable",
          "traceback": [
            "\u001b[0;31m---------------------------------------------------------------------------\u001b[0m",
            "\u001b[0;31mTypeError\u001b[0m                                 Traceback (most recent call last)",
            "\u001b[0;32m<ipython-input-62-66ff8dec6046>\u001b[0m in \u001b[0;36m<cell line: 3>\u001b[0;34m()\u001b[0m\n\u001b[1;32m      1\u001b[0m \u001b[0;31m# Q51) Create a Numpy array \"arr1\" with random integers and another array \"arr2\" with integers from 1 to 10.Perform element-wise addition between \"arr1\" and \"arr2\".\u001b[0m\u001b[0;34m\u001b[0m\u001b[0;34m\u001b[0m\u001b[0m\n\u001b[1;32m      2\u001b[0m \u001b[0;32mimport\u001b[0m \u001b[0mnumpy\u001b[0m \u001b[0;32mas\u001b[0m \u001b[0mnp\u001b[0m\u001b[0;34m\u001b[0m\u001b[0;34m\u001b[0m\u001b[0m\n\u001b[0;32m----> 3\u001b[0;31m \u001b[0marr1\u001b[0m \u001b[0;34m=\u001b[0m \u001b[0mnp\u001b[0m\u001b[0;34m.\u001b[0m\u001b[0mrandom\u001b[0m\u001b[0;34m.\u001b[0m\u001b[0mrandint\u001b[0m\u001b[0;34m(\u001b[0m\u001b[0;36m1\u001b[0m\u001b[0;34m,\u001b[0m \u001b[0;36m100\u001b[0m\u001b[0;34m,\u001b[0m \u001b[0msize\u001b[0m\u001b[0;34m=\u001b[0m\u001b[0;34m(\u001b[0m\u001b[0;36m5\u001b[0m\u001b[0;34m,\u001b[0m \u001b[0;36m5\u001b[0m\u001b[0;34m)\u001b[0m\u001b[0;34m)\u001b[0m\u001b[0;34m\u001b[0m\u001b[0;34m\u001b[0m\u001b[0m\n\u001b[0m\u001b[1;32m      4\u001b[0m \u001b[0mprint\u001b[0m\u001b[0;34m(\u001b[0m\u001b[0;34m\"arr1:\"\u001b[0m\u001b[0;34m)\u001b[0m\u001b[0;34m\u001b[0m\u001b[0;34m\u001b[0m\u001b[0m\n\u001b[1;32m      5\u001b[0m \u001b[0mprint\u001b[0m\u001b[0;34m(\u001b[0m\u001b[0marr1\u001b[0m\u001b[0;34m)\u001b[0m\u001b[0;34m\u001b[0m\u001b[0;34m\u001b[0m\u001b[0m\n",
            "\u001b[0;32mmtrand.pyx\u001b[0m in \u001b[0;36mnumpy.random.mtrand.RandomState.randint\u001b[0;34m()\u001b[0m\n",
            "\u001b[0;32m_bounded_integers.pyx\u001b[0m in \u001b[0;36mnumpy.random._bounded_integers._rand_int64\u001b[0;34m()\u001b[0m\n",
            "\u001b[0;31mTypeError\u001b[0m: 'tuple' object is not callable"
          ]
        }
      ]
    },
    {
      "cell_type": "code",
      "source": [
        "# Q52) Generate a numpy array \"arr1\" with sequential integers from 10 to 1 and another array \"arr2\" with integers from 1 to 10.Subtract \"arr2\" from \"arr1\" element_wise.\n",
        "import numpy as np\n",
        "arr1 = np.arange(10, 0, -1)\n",
        "print(\"arr1:\")\n",
        "print(arr1)\n",
        "arr2 = np.arange(1, 11)\n",
        "print(\"\\narr2:\")\n",
        "print(arr2)\n",
        "result = arr1 - arr2\n",
        "print(\"\\nResult of element-wise subtraction:\")\n",
        "print(result)"
      ],
      "metadata": {
        "colab": {
          "base_uri": "https://localhost:8080/"
        },
        "id": "9NOzZQUqi69X",
        "outputId": "e20a2980-c25c-457c-95c0-91b408bda114"
      },
      "execution_count": null,
      "outputs": [
        {
          "output_type": "stream",
          "name": "stdout",
          "text": [
            "arr1:\n",
            "[10  9  8  7  6  5  4  3  2  1]\n",
            "\n",
            "arr2:\n",
            "[ 1  2  3  4  5  6  7  8  9 10]\n",
            "\n",
            "Result of element-wise subtraction:\n",
            "[ 9  7  5  3  1 -1 -3 -5 -7 -9]\n"
          ]
        }
      ]
    },
    {
      "cell_type": "code",
      "source": [
        "# Q53) Create a Numpy array \"arr1\" with random integers and another array \"arr2\" with integers from 1 to 5.Perform element-wise multiplication between \"arr1\" and \"arr2\".\n",
        "import numpy as np\n",
        "arr1 = np.random.randint(1, 10, size=(3, 3))\n",
        "print(\"arr1:\")\n",
        "print(arr1)\n",
        "arr2 = np.arange(1, 6)\n",
        "print(\"\\narr2:\")\n",
        "print(arr2)\n",
        "result = arr1 * arr2\n",
        "print(\"\\nResult of element-wise multiplication:\")\n",
        "print(result)"
      ],
      "metadata": {
        "colab": {
          "base_uri": "https://localhost:8080/",
          "height": 280
        },
        "id": "pxzDlj-PjtAP",
        "outputId": "238698bc-0dbb-4fcf-c71f-c23fcc9be199"
      },
      "execution_count": null,
      "outputs": [
        {
          "output_type": "error",
          "ename": "TypeError",
          "evalue": "'tuple' object is not callable",
          "traceback": [
            "\u001b[0;31m---------------------------------------------------------------------------\u001b[0m",
            "\u001b[0;31mTypeError\u001b[0m                                 Traceback (most recent call last)",
            "\u001b[0;32m<ipython-input-64-130507ec92bf>\u001b[0m in \u001b[0;36m<cell line: 3>\u001b[0;34m()\u001b[0m\n\u001b[1;32m      1\u001b[0m \u001b[0;31m# Q53) Create a Numpy array \"arr1\" with random integers and another array \"arr2\" with integers from 1 to 5.Perform element-wise multiplication between \"arr1\" and \"arr2\".\u001b[0m\u001b[0;34m\u001b[0m\u001b[0;34m\u001b[0m\u001b[0m\n\u001b[1;32m      2\u001b[0m \u001b[0;32mimport\u001b[0m \u001b[0mnumpy\u001b[0m \u001b[0;32mas\u001b[0m \u001b[0mnp\u001b[0m\u001b[0;34m\u001b[0m\u001b[0;34m\u001b[0m\u001b[0m\n\u001b[0;32m----> 3\u001b[0;31m \u001b[0marr1\u001b[0m \u001b[0;34m=\u001b[0m \u001b[0mnp\u001b[0m\u001b[0;34m.\u001b[0m\u001b[0mrandom\u001b[0m\u001b[0;34m.\u001b[0m\u001b[0mrandint\u001b[0m\u001b[0;34m(\u001b[0m\u001b[0;36m1\u001b[0m\u001b[0;34m,\u001b[0m \u001b[0;36m10\u001b[0m\u001b[0;34m,\u001b[0m \u001b[0msize\u001b[0m\u001b[0;34m=\u001b[0m\u001b[0;34m(\u001b[0m\u001b[0;36m3\u001b[0m\u001b[0;34m,\u001b[0m \u001b[0;36m3\u001b[0m\u001b[0;34m)\u001b[0m\u001b[0;34m)\u001b[0m\u001b[0;34m\u001b[0m\u001b[0;34m\u001b[0m\u001b[0m\n\u001b[0m\u001b[1;32m      4\u001b[0m \u001b[0mprint\u001b[0m\u001b[0;34m(\u001b[0m\u001b[0;34m\"arr1:\"\u001b[0m\u001b[0;34m)\u001b[0m\u001b[0;34m\u001b[0m\u001b[0;34m\u001b[0m\u001b[0m\n\u001b[1;32m      5\u001b[0m \u001b[0mprint\u001b[0m\u001b[0;34m(\u001b[0m\u001b[0marr1\u001b[0m\u001b[0;34m)\u001b[0m\u001b[0;34m\u001b[0m\u001b[0;34m\u001b[0m\u001b[0m\n",
            "\u001b[0;32mmtrand.pyx\u001b[0m in \u001b[0;36mnumpy.random.mtrand.RandomState.randint\u001b[0;34m()\u001b[0m\n",
            "\u001b[0;32m_bounded_integers.pyx\u001b[0m in \u001b[0;36mnumpy.random._bounded_integers._rand_int64\u001b[0;34m()\u001b[0m\n",
            "\u001b[0;31mTypeError\u001b[0m: 'tuple' object is not callable"
          ]
        }
      ]
    },
    {
      "cell_type": "code",
      "source": [
        "# Q54) Generate a numpy array \"arr1\" with random integers from 2 to 10 and another array \"arr2\" with integers from 1 to 5.Perform element-wise division of \"arr1\" by \"arr2\".\n",
        "import numpy as np\n",
        "arr1 = np.random.randint(2, 11, size=(3, 3))\n",
        "print(\"arr1:\")\n",
        "print(arr1)\n",
        "arr2 = np.arange(1, 6)\n",
        "print(\"\\narr2:\")\n",
        "print(arr2)\n",
        "result = arr1 / arr2\n",
        "print(\"\\nResult of element-wise division:\")\n",
        "print(result)"
      ],
      "metadata": {
        "colab": {
          "base_uri": "https://localhost:8080/",
          "height": 280
        },
        "id": "_HyGac0YkJZN",
        "outputId": "4b112280-5946-4266-967f-45379444e165"
      },
      "execution_count": null,
      "outputs": [
        {
          "output_type": "error",
          "ename": "TypeError",
          "evalue": "'tuple' object is not callable",
          "traceback": [
            "\u001b[0;31m---------------------------------------------------------------------------\u001b[0m",
            "\u001b[0;31mTypeError\u001b[0m                                 Traceback (most recent call last)",
            "\u001b[0;32m<ipython-input-65-b5ace8c228a8>\u001b[0m in \u001b[0;36m<cell line: 3>\u001b[0;34m()\u001b[0m\n\u001b[1;32m      1\u001b[0m \u001b[0;31m# Q54) Generate a numpy array \"arr1\" with random integers from 2 to 10 and another array \"arr2\" with integers from 1 to 5.Perform element-wise division of \"arr1\" by \"arr2\".\u001b[0m\u001b[0;34m\u001b[0m\u001b[0;34m\u001b[0m\u001b[0m\n\u001b[1;32m      2\u001b[0m \u001b[0;32mimport\u001b[0m \u001b[0mnumpy\u001b[0m \u001b[0;32mas\u001b[0m \u001b[0mnp\u001b[0m\u001b[0;34m\u001b[0m\u001b[0;34m\u001b[0m\u001b[0m\n\u001b[0;32m----> 3\u001b[0;31m \u001b[0marr1\u001b[0m \u001b[0;34m=\u001b[0m \u001b[0mnp\u001b[0m\u001b[0;34m.\u001b[0m\u001b[0mrandom\u001b[0m\u001b[0;34m.\u001b[0m\u001b[0mrandint\u001b[0m\u001b[0;34m(\u001b[0m\u001b[0;36m2\u001b[0m\u001b[0;34m,\u001b[0m \u001b[0;36m11\u001b[0m\u001b[0;34m,\u001b[0m \u001b[0msize\u001b[0m\u001b[0;34m=\u001b[0m\u001b[0;34m(\u001b[0m\u001b[0;36m3\u001b[0m\u001b[0;34m,\u001b[0m \u001b[0;36m3\u001b[0m\u001b[0;34m)\u001b[0m\u001b[0;34m)\u001b[0m\u001b[0;34m\u001b[0m\u001b[0;34m\u001b[0m\u001b[0m\n\u001b[0m\u001b[1;32m      4\u001b[0m \u001b[0mprint\u001b[0m\u001b[0;34m(\u001b[0m\u001b[0;34m\"arr1:\"\u001b[0m\u001b[0;34m)\u001b[0m\u001b[0;34m\u001b[0m\u001b[0;34m\u001b[0m\u001b[0m\n\u001b[1;32m      5\u001b[0m \u001b[0mprint\u001b[0m\u001b[0;34m(\u001b[0m\u001b[0marr1\u001b[0m\u001b[0;34m)\u001b[0m\u001b[0;34m\u001b[0m\u001b[0;34m\u001b[0m\u001b[0m\n",
            "\u001b[0;32mmtrand.pyx\u001b[0m in \u001b[0;36mnumpy.random.mtrand.RandomState.randint\u001b[0;34m()\u001b[0m\n",
            "\u001b[0;32m_bounded_integers.pyx\u001b[0m in \u001b[0;36mnumpy.random._bounded_integers._rand_int64\u001b[0;34m()\u001b[0m\n",
            "\u001b[0;31mTypeError\u001b[0m: 'tuple' object is not callable"
          ]
        }
      ]
    },
    {
      "cell_type": "code",
      "source": [
        "# Q55) Create a Numpy array \"arr1\" with integers from 1 to 5 and another array \"arr2\" with the same numbers reversed .Calculate the exponentiation of \"arr1\" raised to the power of \"arr2\" element-wise.\n",
        "import numpy as np\n",
        "arr1 = np.arange(1, 6)\n",
        "print(\"arr1:\")\n",
        "print(arr1)\n",
        "arr2 = np.flip(arr1)\n",
        "print(\"\\narr2:\")\n",
        "print(arr2)\n",
        "result = np.power(arr1, arr2)\n",
        "print(\"\\nResult of element-wise exponentiation:\")\n",
        "print(result)"
      ],
      "metadata": {
        "colab": {
          "base_uri": "https://localhost:8080/"
        },
        "id": "Wqda1Zw2kuHV",
        "outputId": "4221adfd-07be-45ed-cf7b-1cb4969593b4"
      },
      "execution_count": null,
      "outputs": [
        {
          "output_type": "stream",
          "name": "stdout",
          "text": [
            "arr1:\n",
            "[1 2 3 4 5]\n",
            "\n",
            "arr2:\n",
            "[5 4 3 2 1]\n",
            "\n",
            "Result of element-wise exponentiation:\n",
            "[ 1 16 27 16  5]\n"
          ]
        }
      ]
    },
    {
      "cell_type": "code",
      "source": [
        "# Q56) Write a function that counts the occurences of a specific substring within a Numpy array of Strings.\n",
        "arr = np.array([\"hello\",\"world\",\"hello\",\"numpy\",\"hello\"])\n",
        "import numpy as np\n",
        "def count_substring_occurrences(arr, substring):\n",
        "    count = 0\n",
        "    for string in arr:\n",
        "        count += string.count(substring)\n",
        "    return count\n",
        "arr = np.array([\"hello\", \"world\", \"hello\", \"numpy\", \"hello\"])\n",
        "substring = \"hello\"\n",
        "occurrences = count_substring_occurrences(arr, substring)\n",
        "print(\"Array:\")\n",
        "print(arr)\n",
        "print(\"\\nSubstring:\", substring)\n",
        "print(\"Occurrences:\", occurrences)"
      ],
      "metadata": {
        "colab": {
          "base_uri": "https://localhost:8080/",
          "height": 211
        },
        "id": "46JeBIFDmFDd",
        "outputId": "098310f2-ea3e-4e66-b3f2-2c5dd581f7ae"
      },
      "execution_count": null,
      "outputs": [
        {
          "output_type": "error",
          "ename": "TypeError",
          "evalue": "'tuple' object is not callable",
          "traceback": [
            "\u001b[0;31m---------------------------------------------------------------------------\u001b[0m",
            "\u001b[0;31mTypeError\u001b[0m                                 Traceback (most recent call last)",
            "\u001b[0;32m<ipython-input-67-3917cb7a688e>\u001b[0m in \u001b[0;36m<cell line: 2>\u001b[0;34m()\u001b[0m\n\u001b[1;32m      1\u001b[0m \u001b[0;31m# Q56) Write a function that counts the occurences of a specific substring within a Numpy array of Strings.\u001b[0m\u001b[0;34m\u001b[0m\u001b[0;34m\u001b[0m\u001b[0m\n\u001b[0;32m----> 2\u001b[0;31m \u001b[0marr\u001b[0m \u001b[0;34m=\u001b[0m \u001b[0mnp\u001b[0m\u001b[0;34m.\u001b[0m\u001b[0marray\u001b[0m\u001b[0;34m(\u001b[0m\u001b[0;34m[\u001b[0m\u001b[0;34m\"hello\"\u001b[0m\u001b[0;34m,\u001b[0m\u001b[0;34m\"world\"\u001b[0m\u001b[0;34m,\u001b[0m\u001b[0;34m\"hello\"\u001b[0m\u001b[0;34m,\u001b[0m\u001b[0;34m\"numpy\"\u001b[0m\u001b[0;34m,\u001b[0m\u001b[0;34m\"hello\"\u001b[0m\u001b[0;34m]\u001b[0m\u001b[0;34m)\u001b[0m\u001b[0;34m\u001b[0m\u001b[0;34m\u001b[0m\u001b[0m\n\u001b[0m\u001b[1;32m      3\u001b[0m \u001b[0;32mimport\u001b[0m \u001b[0mnumpy\u001b[0m \u001b[0;32mas\u001b[0m \u001b[0mnp\u001b[0m\u001b[0;34m\u001b[0m\u001b[0;34m\u001b[0m\u001b[0m\n\u001b[1;32m      4\u001b[0m \u001b[0;32mdef\u001b[0m \u001b[0mcount_substring_occurrences\u001b[0m\u001b[0;34m(\u001b[0m\u001b[0marr\u001b[0m\u001b[0;34m,\u001b[0m \u001b[0msubstring\u001b[0m\u001b[0;34m)\u001b[0m\u001b[0;34m:\u001b[0m\u001b[0;34m\u001b[0m\u001b[0;34m\u001b[0m\u001b[0m\n\u001b[1;32m      5\u001b[0m     \u001b[0mcount\u001b[0m \u001b[0;34m=\u001b[0m \u001b[0;36m0\u001b[0m\u001b[0;34m\u001b[0m\u001b[0;34m\u001b[0m\u001b[0m\n",
            "\u001b[0;31mTypeError\u001b[0m: 'tuple' object is not callable"
          ]
        }
      ]
    },
    {
      "cell_type": "code",
      "source": [
        "# Q57) Write a function that extracts uppercase characters from a numpy array of strings.\n",
        "#arr = np.array([\"hello\",\"world\",\"grape\",\"pineapple\"])\n",
        "import numpy as np\n",
        "def extract_uppercase_characters(arr):\n",
        "    uppercase_chars = np.array([char for string in arr for char in string if char.isupper()])\n",
        "    return uppercase_chars\n",
        "arr = np.array([\"hello\", \"world\", \"grape\", \"pineapple\"])\n",
        "uppercase_chars = extract_uppercase_characters(arr)\n",
        "print(\"Array:\")\n",
        "print(arr)\n",
        "print(\"\\nUppercase characters:\")\n",
        "print(uppercase_chars)"
      ],
      "metadata": {
        "colab": {
          "base_uri": "https://localhost:8080/",
          "height": 211
        },
        "id": "CnRXblEWmwLN",
        "outputId": "e5d7113c-dbdb-460a-beea-86c1f0daab0e"
      },
      "execution_count": null,
      "outputs": [
        {
          "output_type": "error",
          "ename": "TypeError",
          "evalue": "'tuple' object is not callable",
          "traceback": [
            "\u001b[0;31m---------------------------------------------------------------------------\u001b[0m",
            "\u001b[0;31mTypeError\u001b[0m                                 Traceback (most recent call last)",
            "\u001b[0;32m<ipython-input-68-5b12286e91b3>\u001b[0m in \u001b[0;36m<cell line: 7>\u001b[0;34m()\u001b[0m\n\u001b[1;32m      5\u001b[0m     \u001b[0muppercase_chars\u001b[0m \u001b[0;34m=\u001b[0m \u001b[0mnp\u001b[0m\u001b[0;34m.\u001b[0m\u001b[0marray\u001b[0m\u001b[0;34m(\u001b[0m\u001b[0;34m[\u001b[0m\u001b[0mchar\u001b[0m \u001b[0;32mfor\u001b[0m \u001b[0mstring\u001b[0m \u001b[0;32min\u001b[0m \u001b[0marr\u001b[0m \u001b[0;32mfor\u001b[0m \u001b[0mchar\u001b[0m \u001b[0;32min\u001b[0m \u001b[0mstring\u001b[0m \u001b[0;32mif\u001b[0m \u001b[0mchar\u001b[0m\u001b[0;34m.\u001b[0m\u001b[0misupper\u001b[0m\u001b[0;34m(\u001b[0m\u001b[0;34m)\u001b[0m\u001b[0;34m]\u001b[0m\u001b[0;34m)\u001b[0m\u001b[0;34m\u001b[0m\u001b[0;34m\u001b[0m\u001b[0m\n\u001b[1;32m      6\u001b[0m     \u001b[0;32mreturn\u001b[0m \u001b[0muppercase_chars\u001b[0m\u001b[0;34m\u001b[0m\u001b[0;34m\u001b[0m\u001b[0m\n\u001b[0;32m----> 7\u001b[0;31m \u001b[0marr\u001b[0m \u001b[0;34m=\u001b[0m \u001b[0mnp\u001b[0m\u001b[0;34m.\u001b[0m\u001b[0marray\u001b[0m\u001b[0;34m(\u001b[0m\u001b[0;34m[\u001b[0m\u001b[0;34m\"hello\"\u001b[0m\u001b[0;34m,\u001b[0m \u001b[0;34m\"world\"\u001b[0m\u001b[0;34m,\u001b[0m \u001b[0;34m\"grape\"\u001b[0m\u001b[0;34m,\u001b[0m \u001b[0;34m\"pineapple\"\u001b[0m\u001b[0;34m]\u001b[0m\u001b[0;34m)\u001b[0m\u001b[0;34m\u001b[0m\u001b[0;34m\u001b[0m\u001b[0m\n\u001b[0m\u001b[1;32m      8\u001b[0m \u001b[0muppercase_chars\u001b[0m \u001b[0;34m=\u001b[0m \u001b[0mextract_uppercase_characters\u001b[0m\u001b[0;34m(\u001b[0m\u001b[0marr\u001b[0m\u001b[0;34m)\u001b[0m\u001b[0;34m\u001b[0m\u001b[0;34m\u001b[0m\u001b[0m\n\u001b[1;32m      9\u001b[0m \u001b[0mprint\u001b[0m\u001b[0;34m(\u001b[0m\u001b[0;34m\"Array:\"\u001b[0m\u001b[0;34m)\u001b[0m\u001b[0;34m\u001b[0m\u001b[0;34m\u001b[0m\u001b[0m\n",
            "\u001b[0;31mTypeError\u001b[0m: 'tuple' object is not callable"
          ]
        }
      ]
    },
    {
      "cell_type": "code",
      "source": [
        "# Q58) Write a function that replaces occurences of a substring ina numpy array of strings with a new string.\n",
        "arr = np.array([\"apple\",\"banana\",\"grape\",\"pineapple\"])\n",
        "import numpy as np\n",
        "def replace_substring(arr, substring, new_substring):\n",
        "    return np.char.replace(arr, substring, new_substring)\n",
        "arr = np.array([\"apple\", \"banana\", \"grape\", \"pineapple\"])\n",
        "substring = \"apple\"\n",
        "new_substring = \"orange\"\n",
        "arr_replaced = replace_substring(arr, substring, new_substring)\n",
        "print(\"Original array:\")\n",
        "print(arr)\n",
        "print(\"\\nReplaced array:\")\n",
        "print(arr_replaced)"
      ],
      "metadata": {
        "colab": {
          "base_uri": "https://localhost:8080/",
          "height": 211
        },
        "id": "uMhcXg2wnhH0",
        "outputId": "39885e1e-627d-4acf-bb90-70319d88b249"
      },
      "execution_count": null,
      "outputs": [
        {
          "output_type": "error",
          "ename": "TypeError",
          "evalue": "'tuple' object is not callable",
          "traceback": [
            "\u001b[0;31m---------------------------------------------------------------------------\u001b[0m",
            "\u001b[0;31mTypeError\u001b[0m                                 Traceback (most recent call last)",
            "\u001b[0;32m<ipython-input-69-20fd4ce6f990>\u001b[0m in \u001b[0;36m<cell line: 2>\u001b[0;34m()\u001b[0m\n\u001b[1;32m      1\u001b[0m \u001b[0;31m# Q58) Write a function that replaces occurences of a substring ina numpy array of strings with a new string.\u001b[0m\u001b[0;34m\u001b[0m\u001b[0;34m\u001b[0m\u001b[0m\n\u001b[0;32m----> 2\u001b[0;31m \u001b[0marr\u001b[0m \u001b[0;34m=\u001b[0m \u001b[0mnp\u001b[0m\u001b[0;34m.\u001b[0m\u001b[0marray\u001b[0m\u001b[0;34m(\u001b[0m\u001b[0;34m[\u001b[0m\u001b[0;34m\"apple\"\u001b[0m\u001b[0;34m,\u001b[0m\u001b[0;34m\"banana\"\u001b[0m\u001b[0;34m,\u001b[0m\u001b[0;34m\"grape\"\u001b[0m\u001b[0;34m,\u001b[0m\u001b[0;34m\"pineapple\"\u001b[0m\u001b[0;34m]\u001b[0m\u001b[0;34m)\u001b[0m\u001b[0;34m\u001b[0m\u001b[0;34m\u001b[0m\u001b[0m\n\u001b[0m\u001b[1;32m      3\u001b[0m \u001b[0;32mimport\u001b[0m \u001b[0mnumpy\u001b[0m \u001b[0;32mas\u001b[0m \u001b[0mnp\u001b[0m\u001b[0;34m\u001b[0m\u001b[0;34m\u001b[0m\u001b[0m\n\u001b[1;32m      4\u001b[0m \u001b[0;32mdef\u001b[0m \u001b[0mreplace_substring\u001b[0m\u001b[0;34m(\u001b[0m\u001b[0marr\u001b[0m\u001b[0;34m,\u001b[0m \u001b[0msubstring\u001b[0m\u001b[0;34m,\u001b[0m \u001b[0mnew_substring\u001b[0m\u001b[0;34m)\u001b[0m\u001b[0;34m:\u001b[0m\u001b[0;34m\u001b[0m\u001b[0;34m\u001b[0m\u001b[0m\n\u001b[1;32m      5\u001b[0m     \u001b[0;32mreturn\u001b[0m \u001b[0mnp\u001b[0m\u001b[0;34m.\u001b[0m\u001b[0mchar\u001b[0m\u001b[0;34m.\u001b[0m\u001b[0mreplace\u001b[0m\u001b[0;34m(\u001b[0m\u001b[0marr\u001b[0m\u001b[0;34m,\u001b[0m \u001b[0msubstring\u001b[0m\u001b[0;34m,\u001b[0m \u001b[0mnew_substring\u001b[0m\u001b[0;34m)\u001b[0m\u001b[0;34m\u001b[0m\u001b[0;34m\u001b[0m\u001b[0m\n",
            "\u001b[0;31mTypeError\u001b[0m: 'tuple' object is not callable"
          ]
        }
      ]
    },
    {
      "cell_type": "code",
      "source": [
        "# Q59) Write a function that concatenates strings in a Numpy array element-size.\n",
        "# arr1 = np.array(['Hello','World'])\n",
        "# arr2 = np.array(['open','AI'])\n",
        "import numpy as np\n",
        "def concatenate_strings(arr1, arr2):\n",
        "    return arr1 + arr2\n",
        "arr1 = np.array(['Hello', 'World'])\n",
        "arr2 = np.array(['open', 'AI'])\n",
        "concatenated_arr = concatenate_strings(arr1, arr2)\n",
        "print(\"Array 1:\")\n",
        "print(arr1)\n",
        "print(\"\\nArray 2:\")\n",
        "print(arr2)\n",
        "print(\"\\nConcatenated array:\")\n",
        "print(concatenated_arr)"
      ],
      "metadata": {
        "colab": {
          "base_uri": "https://localhost:8080/",
          "height": 211
        },
        "id": "x-miaTRros5o",
        "outputId": "6959a81c-5c78-4b6a-e4d8-01effa8d9f45"
      },
      "execution_count": null,
      "outputs": [
        {
          "output_type": "error",
          "ename": "TypeError",
          "evalue": "'tuple' object is not callable",
          "traceback": [
            "\u001b[0;31m---------------------------------------------------------------------------\u001b[0m",
            "\u001b[0;31mTypeError\u001b[0m                                 Traceback (most recent call last)",
            "\u001b[0;32m<ipython-input-70-8f59ce05d7e0>\u001b[0m in \u001b[0;36m<cell line: 7>\u001b[0;34m()\u001b[0m\n\u001b[1;32m      5\u001b[0m \u001b[0;32mdef\u001b[0m \u001b[0mconcatenate_strings\u001b[0m\u001b[0;34m(\u001b[0m\u001b[0marr1\u001b[0m\u001b[0;34m,\u001b[0m \u001b[0marr2\u001b[0m\u001b[0;34m)\u001b[0m\u001b[0;34m:\u001b[0m\u001b[0;34m\u001b[0m\u001b[0;34m\u001b[0m\u001b[0m\n\u001b[1;32m      6\u001b[0m     \u001b[0;32mreturn\u001b[0m \u001b[0marr1\u001b[0m \u001b[0;34m+\u001b[0m \u001b[0marr2\u001b[0m\u001b[0;34m\u001b[0m\u001b[0;34m\u001b[0m\u001b[0m\n\u001b[0;32m----> 7\u001b[0;31m \u001b[0marr1\u001b[0m \u001b[0;34m=\u001b[0m \u001b[0mnp\u001b[0m\u001b[0;34m.\u001b[0m\u001b[0marray\u001b[0m\u001b[0;34m(\u001b[0m\u001b[0;34m[\u001b[0m\u001b[0;34m'Hello'\u001b[0m\u001b[0;34m,\u001b[0m \u001b[0;34m'World'\u001b[0m\u001b[0;34m]\u001b[0m\u001b[0;34m)\u001b[0m\u001b[0;34m\u001b[0m\u001b[0;34m\u001b[0m\u001b[0m\n\u001b[0m\u001b[1;32m      8\u001b[0m \u001b[0marr2\u001b[0m \u001b[0;34m=\u001b[0m \u001b[0mnp\u001b[0m\u001b[0;34m.\u001b[0m\u001b[0marray\u001b[0m\u001b[0;34m(\u001b[0m\u001b[0;34m[\u001b[0m\u001b[0;34m'open'\u001b[0m\u001b[0;34m,\u001b[0m \u001b[0;34m'AI'\u001b[0m\u001b[0;34m]\u001b[0m\u001b[0;34m)\u001b[0m\u001b[0;34m\u001b[0m\u001b[0;34m\u001b[0m\u001b[0m\n\u001b[1;32m      9\u001b[0m \u001b[0mconcatenated_arr\u001b[0m \u001b[0;34m=\u001b[0m \u001b[0mconcatenate_strings\u001b[0m\u001b[0;34m(\u001b[0m\u001b[0marr1\u001b[0m\u001b[0;34m,\u001b[0m \u001b[0marr2\u001b[0m\u001b[0;34m)\u001b[0m\u001b[0;34m\u001b[0m\u001b[0;34m\u001b[0m\u001b[0m\n",
            "\u001b[0;31mTypeError\u001b[0m: 'tuple' object is not callable"
          ]
        }
      ]
    },
    {
      "cell_type": "code",
      "source": [
        "# Q60) Write a function that finds the length of the longest string in a Numpy array.\n",
        "# arr = np.array([\"apple\", \"banana\", \"grape\", \"pineapple\"])\n",
        "import numpy as np\n",
        "def longest_string_length(arr):\n",
        "    string_lengths = np.array([len(string) for string in arr])\n",
        "    max_length = np.max(string_lengths)\n",
        "    return max_length\n",
        "arr = np.array([\"apple\", \"banana\", \"grape\", \"pineapple\"])\n",
        "max_length = longest_string_length(arr)\n",
        "print(\"Array:\")\n",
        "print(arr)\n",
        "print(\"\\nLength of the longest string:\", max_length)"
      ],
      "metadata": {
        "colab": {
          "base_uri": "https://localhost:8080/",
          "height": 211
        },
        "id": "0wogpSefwvJ3",
        "outputId": "13e40554-2fb0-47c0-8ee3-e2a45f39af80"
      },
      "execution_count": null,
      "outputs": [
        {
          "output_type": "error",
          "ename": "TypeError",
          "evalue": "'tuple' object is not callable",
          "traceback": [
            "\u001b[0;31m---------------------------------------------------------------------------\u001b[0m",
            "\u001b[0;31mTypeError\u001b[0m                                 Traceback (most recent call last)",
            "\u001b[0;32m<ipython-input-71-7e21e04da954>\u001b[0m in \u001b[0;36m<cell line: 8>\u001b[0;34m()\u001b[0m\n\u001b[1;32m      6\u001b[0m     \u001b[0mmax_length\u001b[0m \u001b[0;34m=\u001b[0m \u001b[0mnp\u001b[0m\u001b[0;34m.\u001b[0m\u001b[0mmax\u001b[0m\u001b[0;34m(\u001b[0m\u001b[0mstring_lengths\u001b[0m\u001b[0;34m)\u001b[0m\u001b[0;34m\u001b[0m\u001b[0;34m\u001b[0m\u001b[0m\n\u001b[1;32m      7\u001b[0m     \u001b[0;32mreturn\u001b[0m \u001b[0mmax_length\u001b[0m\u001b[0;34m\u001b[0m\u001b[0;34m\u001b[0m\u001b[0m\n\u001b[0;32m----> 8\u001b[0;31m \u001b[0marr\u001b[0m \u001b[0;34m=\u001b[0m \u001b[0mnp\u001b[0m\u001b[0;34m.\u001b[0m\u001b[0marray\u001b[0m\u001b[0;34m(\u001b[0m\u001b[0;34m[\u001b[0m\u001b[0;34m\"apple\"\u001b[0m\u001b[0;34m,\u001b[0m \u001b[0;34m\"banana\"\u001b[0m\u001b[0;34m,\u001b[0m \u001b[0;34m\"grape\"\u001b[0m\u001b[0;34m,\u001b[0m \u001b[0;34m\"pineapple\"\u001b[0m\u001b[0;34m]\u001b[0m\u001b[0;34m)\u001b[0m\u001b[0;34m\u001b[0m\u001b[0;34m\u001b[0m\u001b[0m\n\u001b[0m\u001b[1;32m      9\u001b[0m \u001b[0mmax_length\u001b[0m \u001b[0;34m=\u001b[0m \u001b[0mlongest_string_length\u001b[0m\u001b[0;34m(\u001b[0m\u001b[0marr\u001b[0m\u001b[0;34m)\u001b[0m\u001b[0;34m\u001b[0m\u001b[0;34m\u001b[0m\u001b[0m\n\u001b[1;32m     10\u001b[0m \u001b[0mprint\u001b[0m\u001b[0;34m(\u001b[0m\u001b[0;34m\"Array:\"\u001b[0m\u001b[0;34m)\u001b[0m\u001b[0;34m\u001b[0m\u001b[0;34m\u001b[0m\u001b[0m\n",
            "\u001b[0;31mTypeError\u001b[0m: 'tuple' object is not callable"
          ]
        }
      ]
    },
    {
      "cell_type": "code",
      "source": [
        "# Q61) Create a dataset of 100 random integers between 1 and 1000 .Commpute the mean,median,variance,and standard deviation of the dataset using Numpy's Function.\n",
        "import numpy as np\n",
        "dataset = np.random.randint(1, 1001, size=100)\n",
        "mean = np.mean(dataset)\n",
        "median = np.median(dataset)\n",
        "variance = np.var(dataset)\n",
        "std_deviation = np.std(dataset)\n",
        "print(\"Dataset:\", dataset)\n",
        "print(\"\\nMean:\", mean)\n",
        "print(\"Median:\", median)\n",
        "print(\"Variance:\", variance)\n",
        "print(\"Standard Deviation:\", std_deviation)"
      ],
      "metadata": {
        "colab": {
          "base_uri": "https://localhost:8080/",
          "height": 280
        },
        "id": "rP3NT0upxk4i",
        "outputId": "a697cbf7-c671-4cb7-b710-ee6b667319e8"
      },
      "execution_count": null,
      "outputs": [
        {
          "output_type": "error",
          "ename": "TypeError",
          "evalue": "'tuple' object is not callable",
          "traceback": [
            "\u001b[0;31m---------------------------------------------------------------------------\u001b[0m",
            "\u001b[0;31mTypeError\u001b[0m                                 Traceback (most recent call last)",
            "\u001b[0;32m<ipython-input-72-0214550b3d15>\u001b[0m in \u001b[0;36m<cell line: 3>\u001b[0;34m()\u001b[0m\n\u001b[1;32m      1\u001b[0m \u001b[0;31m# Q61) Create a dataset of 100 random integers between 1 and 1000 .Commpute the mean,median,variance,and standard deviation of the dataset using Numpy's Function.\u001b[0m\u001b[0;34m\u001b[0m\u001b[0;34m\u001b[0m\u001b[0m\n\u001b[1;32m      2\u001b[0m \u001b[0;32mimport\u001b[0m \u001b[0mnumpy\u001b[0m \u001b[0;32mas\u001b[0m \u001b[0mnp\u001b[0m\u001b[0;34m\u001b[0m\u001b[0;34m\u001b[0m\u001b[0m\n\u001b[0;32m----> 3\u001b[0;31m \u001b[0mdataset\u001b[0m \u001b[0;34m=\u001b[0m \u001b[0mnp\u001b[0m\u001b[0;34m.\u001b[0m\u001b[0mrandom\u001b[0m\u001b[0;34m.\u001b[0m\u001b[0mrandint\u001b[0m\u001b[0;34m(\u001b[0m\u001b[0;36m1\u001b[0m\u001b[0;34m,\u001b[0m \u001b[0;36m1001\u001b[0m\u001b[0;34m,\u001b[0m \u001b[0msize\u001b[0m\u001b[0;34m=\u001b[0m\u001b[0;36m100\u001b[0m\u001b[0;34m)\u001b[0m\u001b[0;34m\u001b[0m\u001b[0;34m\u001b[0m\u001b[0m\n\u001b[0m\u001b[1;32m      4\u001b[0m \u001b[0mmean\u001b[0m \u001b[0;34m=\u001b[0m \u001b[0mnp\u001b[0m\u001b[0;34m.\u001b[0m\u001b[0mmean\u001b[0m\u001b[0;34m(\u001b[0m\u001b[0mdataset\u001b[0m\u001b[0;34m)\u001b[0m\u001b[0;34m\u001b[0m\u001b[0;34m\u001b[0m\u001b[0m\n\u001b[1;32m      5\u001b[0m \u001b[0mmedian\u001b[0m \u001b[0;34m=\u001b[0m \u001b[0mnp\u001b[0m\u001b[0;34m.\u001b[0m\u001b[0mmedian\u001b[0m\u001b[0;34m(\u001b[0m\u001b[0mdataset\u001b[0m\u001b[0;34m)\u001b[0m\u001b[0;34m\u001b[0m\u001b[0;34m\u001b[0m\u001b[0m\n",
            "\u001b[0;32mmtrand.pyx\u001b[0m in \u001b[0;36mnumpy.random.mtrand.RandomState.randint\u001b[0;34m()\u001b[0m\n",
            "\u001b[0;32m_bounded_integers.pyx\u001b[0m in \u001b[0;36mnumpy.random._bounded_integers._rand_int64\u001b[0;34m()\u001b[0m\n",
            "\u001b[0;31mTypeError\u001b[0m: 'tuple' object is not callable"
          ]
        }
      ]
    },
    {
      "cell_type": "code",
      "source": [
        "# Q62) Generate an array of 50 random numbers between 1 and 100. Find the 25th and 75th percentile of the dataset.\n",
        "import numpy as np\n",
        "data = np.random.randint(1, 101, size=50)\n",
        "percentile_25 = np.percentile(data, 25)\n",
        "percentile_75 = np.percentile(data, 75)\n",
        "print(\"Data:\", data)\n",
        "print(\"\\n25th Percentile:\", percentile_25)\n",
        "print(\"75th Percentile:\", percentile_75)"
      ],
      "metadata": {
        "colab": {
          "base_uri": "https://localhost:8080/",
          "height": 280
        },
        "id": "wOB8jYvuRIQR",
        "outputId": "d3ffa140-cbab-41a4-a64a-d89b874e2257"
      },
      "execution_count": null,
      "outputs": [
        {
          "output_type": "error",
          "ename": "TypeError",
          "evalue": "'tuple' object is not callable",
          "traceback": [
            "\u001b[0;31m---------------------------------------------------------------------------\u001b[0m",
            "\u001b[0;31mTypeError\u001b[0m                                 Traceback (most recent call last)",
            "\u001b[0;32m<ipython-input-73-bd81c33eb187>\u001b[0m in \u001b[0;36m<cell line: 3>\u001b[0;34m()\u001b[0m\n\u001b[1;32m      1\u001b[0m \u001b[0;31m# Q62) Generate an array of 50 random numbers between 1 and 100. Find the 25th and 75th percentile of the dataset.\u001b[0m\u001b[0;34m\u001b[0m\u001b[0;34m\u001b[0m\u001b[0m\n\u001b[1;32m      2\u001b[0m \u001b[0;32mimport\u001b[0m \u001b[0mnumpy\u001b[0m \u001b[0;32mas\u001b[0m \u001b[0mnp\u001b[0m\u001b[0;34m\u001b[0m\u001b[0;34m\u001b[0m\u001b[0m\n\u001b[0;32m----> 3\u001b[0;31m \u001b[0mdata\u001b[0m \u001b[0;34m=\u001b[0m \u001b[0mnp\u001b[0m\u001b[0;34m.\u001b[0m\u001b[0mrandom\u001b[0m\u001b[0;34m.\u001b[0m\u001b[0mrandint\u001b[0m\u001b[0;34m(\u001b[0m\u001b[0;36m1\u001b[0m\u001b[0;34m,\u001b[0m \u001b[0;36m101\u001b[0m\u001b[0;34m,\u001b[0m \u001b[0msize\u001b[0m\u001b[0;34m=\u001b[0m\u001b[0;36m50\u001b[0m\u001b[0;34m)\u001b[0m\u001b[0;34m\u001b[0m\u001b[0;34m\u001b[0m\u001b[0m\n\u001b[0m\u001b[1;32m      4\u001b[0m \u001b[0mpercentile_25\u001b[0m \u001b[0;34m=\u001b[0m \u001b[0mnp\u001b[0m\u001b[0;34m.\u001b[0m\u001b[0mpercentile\u001b[0m\u001b[0;34m(\u001b[0m\u001b[0mdata\u001b[0m\u001b[0;34m,\u001b[0m \u001b[0;36m25\u001b[0m\u001b[0;34m)\u001b[0m\u001b[0;34m\u001b[0m\u001b[0;34m\u001b[0m\u001b[0m\n\u001b[1;32m      5\u001b[0m \u001b[0mpercentile_75\u001b[0m \u001b[0;34m=\u001b[0m \u001b[0mnp\u001b[0m\u001b[0;34m.\u001b[0m\u001b[0mpercentile\u001b[0m\u001b[0;34m(\u001b[0m\u001b[0mdata\u001b[0m\u001b[0;34m,\u001b[0m \u001b[0;36m75\u001b[0m\u001b[0;34m)\u001b[0m\u001b[0;34m\u001b[0m\u001b[0;34m\u001b[0m\u001b[0m\n",
            "\u001b[0;32mmtrand.pyx\u001b[0m in \u001b[0;36mnumpy.random.mtrand.RandomState.randint\u001b[0;34m()\u001b[0m\n",
            "\u001b[0;32m_bounded_integers.pyx\u001b[0m in \u001b[0;36mnumpy.random._bounded_integers._rand_int64\u001b[0;34m()\u001b[0m\n",
            "\u001b[0;31mTypeError\u001b[0m: 'tuple' object is not callable"
          ]
        }
      ]
    },
    {
      "cell_type": "code",
      "source": [
        "# Q63) Create two arrays representing two sets of variable .Compute the correlation coefficient between these arrays using Numpy's corrcoef function.\n",
        "import numpy as np\n",
        "set1 = np.array([1, 2, 3, 4, 5])\n",
        "set2 = np.array([5, 4, 3, 2, 1])\n",
        "correlation_coefficient = np.corrcoef(set1, set2)[0, 1]\n",
        "print(\"Set 1:\", set1)\n",
        "print(\"Set 2:\", set2)\n",
        "print(\"\\nCorrelation Coefficient:\", correlation_coefficient)"
      ],
      "metadata": {
        "colab": {
          "base_uri": "https://localhost:8080/",
          "height": 211
        },
        "id": "ata4pk2wT_TW",
        "outputId": "18d135c5-d9c0-46cf-9104-1f560a1e9952"
      },
      "execution_count": null,
      "outputs": [
        {
          "output_type": "error",
          "ename": "TypeError",
          "evalue": "'tuple' object is not callable",
          "traceback": [
            "\u001b[0;31m---------------------------------------------------------------------------\u001b[0m",
            "\u001b[0;31mTypeError\u001b[0m                                 Traceback (most recent call last)",
            "\u001b[0;32m<ipython-input-74-5d7b19889c0a>\u001b[0m in \u001b[0;36m<cell line: 3>\u001b[0;34m()\u001b[0m\n\u001b[1;32m      1\u001b[0m \u001b[0;31m# Q63) Create two arrays representing two sets of variable .Compute the correlation coefficient between these arrays using Numpy's corrcoef function.\u001b[0m\u001b[0;34m\u001b[0m\u001b[0;34m\u001b[0m\u001b[0m\n\u001b[1;32m      2\u001b[0m \u001b[0;32mimport\u001b[0m \u001b[0mnumpy\u001b[0m \u001b[0;32mas\u001b[0m \u001b[0mnp\u001b[0m\u001b[0;34m\u001b[0m\u001b[0;34m\u001b[0m\u001b[0m\n\u001b[0;32m----> 3\u001b[0;31m \u001b[0mset1\u001b[0m \u001b[0;34m=\u001b[0m \u001b[0mnp\u001b[0m\u001b[0;34m.\u001b[0m\u001b[0marray\u001b[0m\u001b[0;34m(\u001b[0m\u001b[0;34m[\u001b[0m\u001b[0;36m1\u001b[0m\u001b[0;34m,\u001b[0m \u001b[0;36m2\u001b[0m\u001b[0;34m,\u001b[0m \u001b[0;36m3\u001b[0m\u001b[0;34m,\u001b[0m \u001b[0;36m4\u001b[0m\u001b[0;34m,\u001b[0m \u001b[0;36m5\u001b[0m\u001b[0;34m]\u001b[0m\u001b[0;34m)\u001b[0m\u001b[0;34m\u001b[0m\u001b[0;34m\u001b[0m\u001b[0m\n\u001b[0m\u001b[1;32m      4\u001b[0m \u001b[0mset2\u001b[0m \u001b[0;34m=\u001b[0m \u001b[0mnp\u001b[0m\u001b[0;34m.\u001b[0m\u001b[0marray\u001b[0m\u001b[0;34m(\u001b[0m\u001b[0;34m[\u001b[0m\u001b[0;36m5\u001b[0m\u001b[0;34m,\u001b[0m \u001b[0;36m4\u001b[0m\u001b[0;34m,\u001b[0m \u001b[0;36m3\u001b[0m\u001b[0;34m,\u001b[0m \u001b[0;36m2\u001b[0m\u001b[0;34m,\u001b[0m \u001b[0;36m1\u001b[0m\u001b[0;34m]\u001b[0m\u001b[0;34m)\u001b[0m\u001b[0;34m\u001b[0m\u001b[0;34m\u001b[0m\u001b[0m\n\u001b[1;32m      5\u001b[0m \u001b[0mcorrelation_coefficient\u001b[0m \u001b[0;34m=\u001b[0m \u001b[0mnp\u001b[0m\u001b[0;34m.\u001b[0m\u001b[0mcorrcoef\u001b[0m\u001b[0;34m(\u001b[0m\u001b[0mset1\u001b[0m\u001b[0;34m,\u001b[0m \u001b[0mset2\u001b[0m\u001b[0;34m)\u001b[0m\u001b[0;34m[\u001b[0m\u001b[0;36m0\u001b[0m\u001b[0;34m,\u001b[0m \u001b[0;36m1\u001b[0m\u001b[0;34m]\u001b[0m\u001b[0;34m\u001b[0m\u001b[0;34m\u001b[0m\u001b[0m\n",
            "\u001b[0;31mTypeError\u001b[0m: 'tuple' object is not callable"
          ]
        }
      ]
    },
    {
      "cell_type": "code",
      "source": [
        "# Q64) Create two matrices and perform matrix multiplication using Numpy's dot function.\n",
        "import numpy as np\n",
        "matrix1 = np.array([[1, 2, 3],\n",
        "                    [4, 5, 6],\n",
        "                    [7, 8, 9]])\n",
        "matrix2 = np.array([[9, 8, 7],\n",
        "                    [6, 5, 4],\n",
        "                    [3, 2, 1]])\n",
        "result = np.dot(matrix1, matrix2)\n",
        "print(\"Matrix 1:\")\n",
        "print(matrix1)\n",
        "print(\"\\nMatrix 2:\")\n",
        "print(matrix2)\n",
        "print(\"\\nResult of Matrix Multiplication:\")\n",
        "print(result)"
      ],
      "metadata": {
        "colab": {
          "base_uri": "https://localhost:8080/",
          "height": 211
        },
        "id": "0bxvCy0_Ui5S",
        "outputId": "d8bac21f-4105-4e59-da5e-544aeda3e396"
      },
      "execution_count": null,
      "outputs": [
        {
          "output_type": "error",
          "ename": "TypeError",
          "evalue": "'tuple' object is not callable",
          "traceback": [
            "\u001b[0;31m---------------------------------------------------------------------------\u001b[0m",
            "\u001b[0;31mTypeError\u001b[0m                                 Traceback (most recent call last)",
            "\u001b[0;32m<ipython-input-75-9d0249449b08>\u001b[0m in \u001b[0;36m<cell line: 3>\u001b[0;34m()\u001b[0m\n\u001b[1;32m      1\u001b[0m \u001b[0;31m# Q64) Create two matrices and perform matrix multiplication using Numpy's dot function.\u001b[0m\u001b[0;34m\u001b[0m\u001b[0;34m\u001b[0m\u001b[0m\n\u001b[1;32m      2\u001b[0m \u001b[0;32mimport\u001b[0m \u001b[0mnumpy\u001b[0m \u001b[0;32mas\u001b[0m \u001b[0mnp\u001b[0m\u001b[0;34m\u001b[0m\u001b[0;34m\u001b[0m\u001b[0m\n\u001b[0;32m----> 3\u001b[0;31m matrix1 = np.array([[1, 2, 3],\n\u001b[0m\u001b[1;32m      4\u001b[0m                     \u001b[0;34m[\u001b[0m\u001b[0;36m4\u001b[0m\u001b[0;34m,\u001b[0m \u001b[0;36m5\u001b[0m\u001b[0;34m,\u001b[0m \u001b[0;36m6\u001b[0m\u001b[0;34m]\u001b[0m\u001b[0;34m,\u001b[0m\u001b[0;34m\u001b[0m\u001b[0;34m\u001b[0m\u001b[0m\n\u001b[1;32m      5\u001b[0m                     [7, 8, 9]])\n",
            "\u001b[0;31mTypeError\u001b[0m: 'tuple' object is not callable"
          ]
        }
      ]
    },
    {
      "cell_type": "code",
      "source": [
        "# Q65) Create an array of 50 integers between 10 and 1000 .Calculate the 10th, 50th(median), and 90th percentiles along with the first and third quartiles.\n",
        "import numpy as np\n",
        "data = np.random.randint(10, 1001, size=50)\n",
        "percentiles = np.percentile(data, [10, 25, 50, 75, 90])\n",
        "first_quartile = percentiles[1]\n",
        "median = percentiles[2]\n",
        "third_quartile = percentiles[3]\n",
        "print(\"Data:\", data)\n",
        "print(\"\\n10th Percentile:\", percentiles[0])\n",
        "print(\"25th Percentile (First Quartile):\", first_quartile)\n",
        "print(\"50th Percentile (Median):\", median)\n",
        "print(\"75th Percentile (Third Quartile):\", third_quartile)\n",
        "print(\"90th Percentile:\", percentiles[4])"
      ],
      "metadata": {
        "colab": {
          "base_uri": "https://localhost:8080/",
          "height": 280
        },
        "id": "bf-57kMTVsTe",
        "outputId": "57397151-680c-426c-e940-ef60ade12cc8"
      },
      "execution_count": null,
      "outputs": [
        {
          "output_type": "error",
          "ename": "TypeError",
          "evalue": "'tuple' object is not callable",
          "traceback": [
            "\u001b[0;31m---------------------------------------------------------------------------\u001b[0m",
            "\u001b[0;31mTypeError\u001b[0m                                 Traceback (most recent call last)",
            "\u001b[0;32m<ipython-input-76-eafab5b8b5ca>\u001b[0m in \u001b[0;36m<cell line: 3>\u001b[0;34m()\u001b[0m\n\u001b[1;32m      1\u001b[0m \u001b[0;31m# Q65) Create an array of 50 integers between 10 and 1000 .Calculate the 10th, 50th(median), and 90th percentiles along with the first and third quartiles.\u001b[0m\u001b[0;34m\u001b[0m\u001b[0;34m\u001b[0m\u001b[0m\n\u001b[1;32m      2\u001b[0m \u001b[0;32mimport\u001b[0m \u001b[0mnumpy\u001b[0m \u001b[0;32mas\u001b[0m \u001b[0mnp\u001b[0m\u001b[0;34m\u001b[0m\u001b[0;34m\u001b[0m\u001b[0m\n\u001b[0;32m----> 3\u001b[0;31m \u001b[0mdata\u001b[0m \u001b[0;34m=\u001b[0m \u001b[0mnp\u001b[0m\u001b[0;34m.\u001b[0m\u001b[0mrandom\u001b[0m\u001b[0;34m.\u001b[0m\u001b[0mrandint\u001b[0m\u001b[0;34m(\u001b[0m\u001b[0;36m10\u001b[0m\u001b[0;34m,\u001b[0m \u001b[0;36m1001\u001b[0m\u001b[0;34m,\u001b[0m \u001b[0msize\u001b[0m\u001b[0;34m=\u001b[0m\u001b[0;36m50\u001b[0m\u001b[0;34m)\u001b[0m\u001b[0;34m\u001b[0m\u001b[0;34m\u001b[0m\u001b[0m\n\u001b[0m\u001b[1;32m      4\u001b[0m \u001b[0mpercentiles\u001b[0m \u001b[0;34m=\u001b[0m \u001b[0mnp\u001b[0m\u001b[0;34m.\u001b[0m\u001b[0mpercentile\u001b[0m\u001b[0;34m(\u001b[0m\u001b[0mdata\u001b[0m\u001b[0;34m,\u001b[0m \u001b[0;34m[\u001b[0m\u001b[0;36m10\u001b[0m\u001b[0;34m,\u001b[0m \u001b[0;36m25\u001b[0m\u001b[0;34m,\u001b[0m \u001b[0;36m50\u001b[0m\u001b[0;34m,\u001b[0m \u001b[0;36m75\u001b[0m\u001b[0;34m,\u001b[0m \u001b[0;36m90\u001b[0m\u001b[0;34m]\u001b[0m\u001b[0;34m)\u001b[0m\u001b[0;34m\u001b[0m\u001b[0;34m\u001b[0m\u001b[0m\n\u001b[1;32m      5\u001b[0m \u001b[0mfirst_quartile\u001b[0m \u001b[0;34m=\u001b[0m \u001b[0mpercentiles\u001b[0m\u001b[0;34m[\u001b[0m\u001b[0;36m1\u001b[0m\u001b[0;34m]\u001b[0m\u001b[0;34m\u001b[0m\u001b[0;34m\u001b[0m\u001b[0m\n",
            "\u001b[0;32mmtrand.pyx\u001b[0m in \u001b[0;36mnumpy.random.mtrand.RandomState.randint\u001b[0;34m()\u001b[0m\n",
            "\u001b[0;32m_bounded_integers.pyx\u001b[0m in \u001b[0;36mnumpy.random._bounded_integers._rand_int64\u001b[0;34m()\u001b[0m\n",
            "\u001b[0;31mTypeError\u001b[0m: 'tuple' object is not callable"
          ]
        }
      ]
    },
    {
      "cell_type": "code",
      "source": [
        "# Q66) Create a Numpy array of integers and find the index of a specific element.\n",
        "import numpy as np\n",
        "arr = np.array([1, 2, 3, 4, 5])\n",
        "element = 3\n",
        "indices = np.where(arr == element)\n",
        "print(\"Array:\", arr)\n",
        "print(\"Element to find:\", element)\n",
        "print(\"Index of element:\", indices[0])"
      ],
      "metadata": {
        "colab": {
          "base_uri": "https://localhost:8080/",
          "height": 211
        },
        "id": "RyuTYjxGa0ri",
        "outputId": "271f248c-02a8-4d75-a3b3-2cf7ecec3a7d"
      },
      "execution_count": null,
      "outputs": [
        {
          "output_type": "error",
          "ename": "TypeError",
          "evalue": "'tuple' object is not callable",
          "traceback": [
            "\u001b[0;31m---------------------------------------------------------------------------\u001b[0m",
            "\u001b[0;31mTypeError\u001b[0m                                 Traceback (most recent call last)",
            "\u001b[0;32m<ipython-input-77-87c88839db4a>\u001b[0m in \u001b[0;36m<cell line: 3>\u001b[0;34m()\u001b[0m\n\u001b[1;32m      1\u001b[0m \u001b[0;31m# Q66) Create a Numpy array of integers and find the index of a specific element.\u001b[0m\u001b[0;34m\u001b[0m\u001b[0;34m\u001b[0m\u001b[0m\n\u001b[1;32m      2\u001b[0m \u001b[0;32mimport\u001b[0m \u001b[0mnumpy\u001b[0m \u001b[0;32mas\u001b[0m \u001b[0mnp\u001b[0m\u001b[0;34m\u001b[0m\u001b[0;34m\u001b[0m\u001b[0m\n\u001b[0;32m----> 3\u001b[0;31m \u001b[0marr\u001b[0m \u001b[0;34m=\u001b[0m \u001b[0mnp\u001b[0m\u001b[0;34m.\u001b[0m\u001b[0marray\u001b[0m\u001b[0;34m(\u001b[0m\u001b[0;34m[\u001b[0m\u001b[0;36m1\u001b[0m\u001b[0;34m,\u001b[0m \u001b[0;36m2\u001b[0m\u001b[0;34m,\u001b[0m \u001b[0;36m3\u001b[0m\u001b[0;34m,\u001b[0m \u001b[0;36m4\u001b[0m\u001b[0;34m,\u001b[0m \u001b[0;36m5\u001b[0m\u001b[0;34m]\u001b[0m\u001b[0;34m)\u001b[0m\u001b[0;34m\u001b[0m\u001b[0;34m\u001b[0m\u001b[0m\n\u001b[0m\u001b[1;32m      4\u001b[0m \u001b[0melement\u001b[0m \u001b[0;34m=\u001b[0m \u001b[0;36m3\u001b[0m\u001b[0;34m\u001b[0m\u001b[0;34m\u001b[0m\u001b[0m\n\u001b[1;32m      5\u001b[0m \u001b[0mindices\u001b[0m \u001b[0;34m=\u001b[0m \u001b[0mnp\u001b[0m\u001b[0;34m.\u001b[0m\u001b[0mwhere\u001b[0m\u001b[0;34m(\u001b[0m\u001b[0marr\u001b[0m \u001b[0;34m==\u001b[0m \u001b[0melement\u001b[0m\u001b[0;34m)\u001b[0m\u001b[0;34m\u001b[0m\u001b[0;34m\u001b[0m\u001b[0m\n",
            "\u001b[0;31mTypeError\u001b[0m: 'tuple' object is not callable"
          ]
        }
      ]
    },
    {
      "cell_type": "code",
      "source": [
        "# Q67) Generate a random Numpy array and sort it in ascending order.\n",
        "import numpy as np\n",
        "random_array = np.random.randint(1, 100, size=10)\n",
        "sorted_array = np.sort(random_array)\n",
        "print(\"Random Array:\", random_array)\n",
        "print(\"Sorted Array (Ascending Order):\", sorted_array)"
      ],
      "metadata": {
        "colab": {
          "base_uri": "https://localhost:8080/",
          "height": 280
        },
        "id": "OmOZX8s1bs8-",
        "outputId": "e844f0a5-98bf-4450-d609-b71369ea03eb"
      },
      "execution_count": null,
      "outputs": [
        {
          "output_type": "error",
          "ename": "TypeError",
          "evalue": "'tuple' object is not callable",
          "traceback": [
            "\u001b[0;31m---------------------------------------------------------------------------\u001b[0m",
            "\u001b[0;31mTypeError\u001b[0m                                 Traceback (most recent call last)",
            "\u001b[0;32m<ipython-input-78-7fe292f113ac>\u001b[0m in \u001b[0;36m<cell line: 3>\u001b[0;34m()\u001b[0m\n\u001b[1;32m      1\u001b[0m \u001b[0;31m# Q67) Generate a random Numpy array and sort it in ascending order.\u001b[0m\u001b[0;34m\u001b[0m\u001b[0;34m\u001b[0m\u001b[0m\n\u001b[1;32m      2\u001b[0m \u001b[0;32mimport\u001b[0m \u001b[0mnumpy\u001b[0m \u001b[0;32mas\u001b[0m \u001b[0mnp\u001b[0m\u001b[0;34m\u001b[0m\u001b[0;34m\u001b[0m\u001b[0m\n\u001b[0;32m----> 3\u001b[0;31m \u001b[0mrandom_array\u001b[0m \u001b[0;34m=\u001b[0m \u001b[0mnp\u001b[0m\u001b[0;34m.\u001b[0m\u001b[0mrandom\u001b[0m\u001b[0;34m.\u001b[0m\u001b[0mrandint\u001b[0m\u001b[0;34m(\u001b[0m\u001b[0;36m1\u001b[0m\u001b[0;34m,\u001b[0m \u001b[0;36m100\u001b[0m\u001b[0;34m,\u001b[0m \u001b[0msize\u001b[0m\u001b[0;34m=\u001b[0m\u001b[0;36m10\u001b[0m\u001b[0;34m)\u001b[0m\u001b[0;34m\u001b[0m\u001b[0;34m\u001b[0m\u001b[0m\n\u001b[0m\u001b[1;32m      4\u001b[0m \u001b[0msorted_array\u001b[0m \u001b[0;34m=\u001b[0m \u001b[0mnp\u001b[0m\u001b[0;34m.\u001b[0m\u001b[0msort\u001b[0m\u001b[0;34m(\u001b[0m\u001b[0mrandom_array\u001b[0m\u001b[0;34m)\u001b[0m\u001b[0;34m\u001b[0m\u001b[0;34m\u001b[0m\u001b[0m\n\u001b[1;32m      5\u001b[0m \u001b[0mprint\u001b[0m\u001b[0;34m(\u001b[0m\u001b[0;34m\"Random Array:\"\u001b[0m\u001b[0;34m,\u001b[0m \u001b[0mrandom_array\u001b[0m\u001b[0;34m)\u001b[0m\u001b[0;34m\u001b[0m\u001b[0;34m\u001b[0m\u001b[0m\n",
            "\u001b[0;32mmtrand.pyx\u001b[0m in \u001b[0;36mnumpy.random.mtrand.RandomState.randint\u001b[0;34m()\u001b[0m\n",
            "\u001b[0;32m_bounded_integers.pyx\u001b[0m in \u001b[0;36mnumpy.random._bounded_integers._rand_int64\u001b[0;34m()\u001b[0m\n",
            "\u001b[0;31mTypeError\u001b[0m: 'tuple' object is not callable"
          ]
        }
      ]
    },
    {
      "cell_type": "code",
      "source": [
        "# Q68) Filter elements >20 in the given Numpy array.\n",
        "#arr = np.array([12,25,6,42,8,30])\n",
        "import numpy as np\n",
        "arr = np.array([12, 25, 6, 42, 8, 30])\n",
        "filtered_arr = arr[arr > 20]\n",
        "print(\"Original Array:\", arr)\n",
        "print(\"Filtered Array (elements > 20):\", filtered_arr)"
      ],
      "metadata": {
        "colab": {
          "base_uri": "https://localhost:8080/"
        },
        "id": "fzWoLf99cKKX",
        "outputId": "a7a86972-fc66-4e1b-e88f-194b4112b651"
      },
      "execution_count": null,
      "outputs": [
        {
          "output_type": "stream",
          "name": "stdout",
          "text": [
            "Original Array: [12 25  6 42  8 30]\n",
            "Filtered Array (elements > 20): [25 42 30]\n"
          ]
        }
      ]
    },
    {
      "cell_type": "code",
      "source": [
        "# Q69) Filter elements which are divisible by 3 from a given numpy array.\n",
        "# arr = np.array([1,5,8,12,15])\n",
        "import numpy as np\n",
        "arr = np.array([1,5,8,12,15])\n",
        "filtered_arr = arr[arr % 3 == 0]\n",
        "print(\"Original Array:\", arr)\n",
        "print(\"Filtered Array (elements divisible by 3):\", filtered_arr)"
      ],
      "metadata": {
        "colab": {
          "base_uri": "https://localhost:8080/",
          "height": 211
        },
        "id": "MjY7ly0mdYKn",
        "outputId": "98c2ac32-4634-4a9f-dd6c-39eec3aaf53f"
      },
      "execution_count": null,
      "outputs": [
        {
          "output_type": "error",
          "ename": "TypeError",
          "evalue": "'tuple' object is not callable",
          "traceback": [
            "\u001b[0;31m---------------------------------------------------------------------------\u001b[0m",
            "\u001b[0;31mTypeError\u001b[0m                                 Traceback (most recent call last)",
            "\u001b[0;32m<ipython-input-81-e5566a967c9f>\u001b[0m in \u001b[0;36m<cell line: 4>\u001b[0;34m()\u001b[0m\n\u001b[1;32m      2\u001b[0m \u001b[0;31m# arr = np.array([1,5,8,12,15])\u001b[0m\u001b[0;34m\u001b[0m\u001b[0;34m\u001b[0m\u001b[0m\n\u001b[1;32m      3\u001b[0m \u001b[0;32mimport\u001b[0m \u001b[0mnumpy\u001b[0m \u001b[0;32mas\u001b[0m \u001b[0mnp\u001b[0m\u001b[0;34m\u001b[0m\u001b[0;34m\u001b[0m\u001b[0m\n\u001b[0;32m----> 4\u001b[0;31m \u001b[0marr\u001b[0m \u001b[0;34m=\u001b[0m \u001b[0mnp\u001b[0m\u001b[0;34m.\u001b[0m\u001b[0marray\u001b[0m\u001b[0;34m(\u001b[0m\u001b[0;34m[\u001b[0m\u001b[0;36m1\u001b[0m\u001b[0;34m,\u001b[0m\u001b[0;36m5\u001b[0m\u001b[0;34m,\u001b[0m\u001b[0;36m8\u001b[0m\u001b[0;34m,\u001b[0m\u001b[0;36m12\u001b[0m\u001b[0;34m,\u001b[0m\u001b[0;36m15\u001b[0m\u001b[0;34m]\u001b[0m\u001b[0;34m)\u001b[0m\u001b[0;34m\u001b[0m\u001b[0;34m\u001b[0m\u001b[0m\n\u001b[0m\u001b[1;32m      5\u001b[0m \u001b[0mfiltered_arr\u001b[0m \u001b[0;34m=\u001b[0m \u001b[0marr\u001b[0m\u001b[0;34m[\u001b[0m\u001b[0marr\u001b[0m \u001b[0;34m%\u001b[0m \u001b[0;36m3\u001b[0m \u001b[0;34m==\u001b[0m \u001b[0;36m0\u001b[0m\u001b[0;34m]\u001b[0m\u001b[0;34m\u001b[0m\u001b[0;34m\u001b[0m\u001b[0m\n\u001b[1;32m      6\u001b[0m \u001b[0mprint\u001b[0m\u001b[0;34m(\u001b[0m\u001b[0;34m\"Original Array:\"\u001b[0m\u001b[0;34m,\u001b[0m \u001b[0marr\u001b[0m\u001b[0;34m)\u001b[0m\u001b[0;34m\u001b[0m\u001b[0;34m\u001b[0m\u001b[0m\n",
            "\u001b[0;31mTypeError\u001b[0m: 'tuple' object is not callable"
          ]
        }
      ]
    },
    {
      "cell_type": "code",
      "source": [
        "# Q70) Filter elements which are >= 20 and <=40 from a given Numpy Array.\n",
        "# arr = np.array([10,20,30,40,50])\n",
        "import numpy as np\n",
        "arr = np.array([10, 20, 30, 40, 50])\n",
        "filtered_arr = arr[(arr >= 20) & (arr <= 40)]\n",
        "print(\"Original Array:\", arr)\n",
        "print(\"Filtered Array (elements between 20 and 40 inclusive):\", filtered_arr)"
      ],
      "metadata": {
        "id": "6INiZUbheiV9"
      },
      "execution_count": null,
      "outputs": []
    },
    {
      "cell_type": "code",
      "source": [
        "# Q71) For the given Numpy array , check its byte order using the\"dtype\" attribute byteorder.\n",
        "# arr = np.array([1,2,3])\n",
        "import numpy as np\n",
        "arr = np.array([1, 2, 3])\n",
        "byte_order = arr.dtype.byteorder\n",
        "print(\"Byte order:\", byte_order)"
      ],
      "metadata": {
        "id": "s_UXGeFznfvt"
      },
      "execution_count": null,
      "outputs": []
    },
    {
      "cell_type": "code",
      "source": [
        "# Q72) For the given Numpy array, perform byte swapping in place using \"byteswap().\"\n",
        "# arr = np.array([1,2,3], dtype = np.int32)\n",
        "import numpy as np\n",
        "arr = np.array([1, 2, 3], dtype=np.int32)\n",
        "arr.byteswap(True)\n",
        "print(\"Swapped Array:\", arr)"
      ],
      "metadata": {
        "id": "Hv9c_5kCnoXV"
      },
      "execution_count": null,
      "outputs": []
    },
    {
      "cell_type": "code",
      "source": [
        "# Q73) For the given Numpy array , swap its byte order without modifying the original array using \"newbyteorder().\"\n",
        "# arr = np.array([1,2,3],dtype = np.int32)\n",
        "import numpy as np\n",
        "arr = np.array([1, 2, 3], dtype=np.int32)\n",
        "arr.byteswap(True)\n",
        "print(\"Swapped Array:\", arr)"
      ],
      "metadata": {
        "id": "8m1TK8y5rn4P"
      },
      "execution_count": null,
      "outputs": []
    },
    {
      "cell_type": "code",
      "source": [
        "# Q74) For the given Numpy array , swap its byte order conditionally based on system endianness using \"newbyteorder().\"\n",
        "# arr = np.array([1,2,3],dtype = np.int32)\n",
        "import numpy as np\n",
        "arr = np.array([1, 2, 3], dtype=np.int32)\n",
        "arr = arr.newbyteorder()\n",
        "print(\"Swapped Array:\", arr)"
      ],
      "metadata": {
        "id": "00548nVjs6OM"
      },
      "execution_count": null,
      "outputs": []
    },
    {
      "cell_type": "code",
      "source": [
        "# Q75) For the given Numpy array,check if byte swapping is necessary for the current system using\"dtype\" attribute \"byteorder().\"\n",
        "# arr = np.array([1,2,3],dtype = np.int32)\n",
        "import numpy as np\n",
        "arr = np.array([1, 2, 3], dtype=np.int32)\n",
        "byte_order = arr.dtype.byteorder\n",
        "if byte_order == '=':\n",
        "    print(\"No byte swapping necessary (native byte order)\")\n",
        "else:\n",
        "    print(\"Byte swapping is necessary for current system\")\n",
        "print(\"Byte order:\", byte_order)"
      ],
      "metadata": {
        "id": "-C3-74WcuBXN"
      },
      "execution_count": null,
      "outputs": []
    },
    {
      "cell_type": "code",
      "source": [
        "# Q76) Create a Numpy array \"arr1\" with values from 1 and 10. Create a copy of \"arr1\" named \"copy_arr\" and modify an element in \"copy_arr\". Check if modifying \"copy_arr\"affects \"arr1\".\n",
        "import numpy as np\n",
        "arr1 = np.arange(1, 11)\n",
        "copy_arr = arr1.copy()\n",
        "copy_arr[0] = 100\n",
        "print(\"arr1:\", arr1)\n",
        "print(\"copy_arr:\", copy_arr)"
      ],
      "metadata": {
        "id": "QZrHQJrivJ0f"
      },
      "execution_count": null,
      "outputs": []
    },
    {
      "cell_type": "code",
      "source": [
        "# Q77) Create a 2D Numpy  array \"matrix\"  of shape(3,3) with random integers. Extract a slice\"view_slice\" from the matrix. Modify an element in \"view_slice\" and observe if it changes the original \"matrix\".\n",
        "import numpy as np\n",
        "matrix = np.random.randint(1, 10, size=(3, 3))\n",
        "view_slice = matrix[:2, :2]\n",
        "view_slice[0, 0] = 100\n",
        "print(\"Original matrix:\")\n",
        "print(matrix)\n",
        "print(\"\\nSlice view_slice:\")\n",
        "print(view_slice)"
      ],
      "metadata": {
        "id": "XV31LyaQwaSB"
      },
      "execution_count": null,
      "outputs": []
    },
    {
      "cell_type": "code",
      "source": [
        " # Q78) Create a Numpy array \"array_a\" of shape (4,3) with sequential integers from 1 to 12. Extract a slice \"view_b\" from \"array_a\" and broadcast the addition of 5 to view_b.Check if it alters the original \"array_a\"\n",
        "import numpy as np\n",
        "array_a = np.arange(1, 13).reshape(4, 3)\n",
        "view_b = array_a[:2, :2]\n",
        "view_b += 5\n",
        "print(\"Original array_a:\")\n",
        "print(array_a)\n",
        "print(\"\\nSlice view_b:\")\n",
        "print(view_b)"
      ],
      "metadata": {
        "id": "LKZOEVdC0_Xk"
      },
      "execution_count": null,
      "outputs": []
    },
    {
      "cell_type": "code",
      "source": [
        "# Q79) create a Numpy array \"orig_array\" of shape (2,4) with values from 1 to 8. Create a reshaped view \"reshaped_view\" of shape (4,2) from orig_array.Modify an element in \"reshaped_view\" and checks if it reflects changes in the original \"orig_array\"\n",
        "import numpy as np8\n",
        "orig_array = np.arange(1, 9).reshape(2, 4)\n",
        "reshaped_view = orig_array.reshape(4, 2)\n",
        "reshaped_view[0, 0] = 100\n",
        "print(\"Original orig_array:\")\n",
        "print(orig_array)\n",
        "print(\"\\nReshaped view reshaped_view:\")\n",
        "print(reshaped_view)"
      ],
      "metadata": {
        "id": "qBJ4ekt82b6C"
      },
      "execution_count": null,
      "outputs": []
    },
    {
      "cell_type": "code",
      "source": [
        "# Q80) Create a Numpy array \"data\" of shape (3,4) with random integers. Extract a copy\"data_copy\"of elements greater than 5. Modify an elements in \"data_copy\" and verify if it affects the original \"data\"\n",
        "import numpy as np\n",
        "data = np.random.randint(1, 10, size=(3, 4))\n",
        "data_copy = data[data > 5].copy()\n",
        "data_copy[0, 0] = 100\n",
        "print(\"Original data:\")\n",
        "print(data)\n",
        "print(\"\\nModified data_copy:\")\n",
        "print(data_copy)"
      ],
      "metadata": {
        "id": "1DvH-KIY3cgk"
      },
      "execution_count": null,
      "outputs": []
    },
    {
      "cell_type": "code",
      "source": [
        "# Q81) create two matrices A and B of identical shape containing integers and perform addition and subtraction operations between them.\n",
        "import numpy as np\n",
        "shape = (3, 3)\n",
        "A = np.random.randint(1, 10, size=shape)\n",
        "B = np.random.randint(1, 10, size=shape)\n",
        "addition_result = A + B\n",
        "subtraction_result = A - B\n",
        "print(\"Matrix A:\")\n",
        "print(A)\n",
        "print(\"\\nMatrix B:\")\n",
        "print(B)\n",
        "print(\"\\nAddition Result (A + B):\")\n",
        "print(addition_result)\n",
        "print(\"\\nSubtraction Result (A - B):\")\n",
        "print(subtraction_result)"
      ],
      "metadata": {
        "id": "VIYUVTxw4WhL"
      },
      "execution_count": null,
      "outputs": []
    },
    {
      "cell_type": "code",
      "source": [
        "# Q82)Generate two matrices \"C\" (3x2) and \"B\"(2,4) and perform matrix multiplication.\n",
        "import numpy as np\n",
        "C = np.random.randint(1, 10, size=(3, 2))\n",
        "B = np.random.randint(1, 10, size=(2, 4))\n",
        "result = np.dot(C, B)\n",
        "print(\"Matrix C:\")\n",
        "print(C)\n",
        "print(\"\\nMatrix B:\")\n",
        "print(B)\n",
        "print(\"\\nMatrix Multiplication Result (C * B):\")\n",
        "print(result)"
      ],
      "metadata": {
        "id": "TDOgeGar5EaO"
      },
      "execution_count": null,
      "outputs": []
    },
    {
      "cell_type": "code",
      "source": [
        "# Q83) Create a matrix \"E\" and find its transpose.\n",
        "import numpy as np\n",
        "E = np.array([[1, 2, 3],\n",
        "              [4, 5, 6]])\n",
        "E_transpose = np.transpose(E)\n",
        "print(\"Matrix E:\")\n",
        "print(E)\n",
        "print(\"\\nTranspose of Matrix E:\")\n",
        "print(E_transpose)"
      ],
      "metadata": {
        "id": "PI8hbdy35iGe"
      },
      "execution_count": null,
      "outputs": []
    },
    {
      "cell_type": "code",
      "source": [
        "# Q84) Generate a square matrix \"F\" and compute its determinant.\n",
        "import numpy as np\n",
        "F = np.array([[1, 2, 3],\n",
        "              [4, 5, 6],\n",
        "              [7, 8, 9]])\n",
        "determinant_F = np.linalg.det(F)\n",
        "print(\"Matrix F:\")\n",
        "print(F)\n",
        "print(\"\\nDeterminant of Matrix F:\", determinant_F)"
      ],
      "metadata": {
        "id": "4Q5QnHWq5yz9"
      },
      "execution_count": null,
      "outputs": []
    },
    {
      "cell_type": "code",
      "source": [
        "# Q85) Create a square matrix \"G\" and find its inverse.\n",
        "import numpy as np\n",
        "G = np.array([[1, 2],\n",
        "              [3, 4]])\n",
        "inverse_G = np.linalg.inv(G)\n",
        "print(\"Matrix G:\")\n",
        "print(G)\n",
        "print(\"\\nInverse of Matrix G:\")\n",
        "print(inverse_G)"
      ],
      "metadata": {
        "id": "5smxG5Cj6JVk"
      },
      "execution_count": null,
      "outputs": []
    }
  ]
}