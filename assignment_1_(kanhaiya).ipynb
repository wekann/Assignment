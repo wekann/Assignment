{
  "nbformat": 4,
  "nbformat_minor": 0,
  "metadata": {
    "colab": {
      "provenance": []
    },
    "kernelspec": {
      "name": "python3",
      "display_name": "Python 3"
    },
    "language_info": {
      "name": "python"
    }
  },
  "cells": [
    {
      "cell_type": "code",
      "execution_count": null,
      "metadata": {
        "id": "FMu4GKanD_tn"
      },
      "outputs": [],
      "source": [
        "## Q1. Write a code to reverse a string"
      ]
    },
    {
      "cell_type": "code",
      "source": [
        "def reverse_string(input_string):\n",
        "    return input_string[::-1]\n",
        "\n",
        "original_string = \"Hello, World!\"\n",
        "reversed_string = reverse_string(original_string)\n",
        "print(\"Original String:\", original_string)\n",
        "print(\"Reversed String:\", reversed_string)\n"
      ],
      "metadata": {
        "colab": {
          "base_uri": "https://localhost:8080/"
        },
        "id": "D9MHv69vF8e4",
        "outputId": "7118366e-0d36-4f9f-b1e2-a299a774f73b"
      },
      "execution_count": null,
      "outputs": [
        {
          "output_type": "stream",
          "name": "stdout",
          "text": [
            "Original String: Hello, World!\n",
            "Reversed String: !dlroW ,olleH\n"
          ]
        }
      ]
    },
    {
      "cell_type": "code",
      "source": [
        "## Q2. write a code to count the number of vowels in a string."
      ],
      "metadata": {
        "id": "giBh-8H1GpQf"
      },
      "execution_count": null,
      "outputs": []
    },
    {
      "cell_type": "code",
      "source": [
        "def vowel_count(str):\n",
        "    count = 0\n",
        "    vowel = set(\"aeiouAEIOU\")\n",
        "    for alphabet in str:\n",
        "        if alphabet in vowel:\n",
        "            count = count + 1\n",
        "\n",
        "    print(\"No. of vowels :\", count)\n",
        "str = \"PythonProgramming\"\n",
        "vowel_count(str)\n"
      ],
      "metadata": {
        "id": "Qj4yf88sHqFh",
        "colab": {
          "base_uri": "https://localhost:8080/"
        },
        "outputId": "4da3a048-7d09-4448-b588-013fa18a55c3"
      },
      "execution_count": null,
      "outputs": [
        {
          "output_type": "stream",
          "name": "stdout",
          "text": [
            "No. of vowels : 4\n"
          ]
        }
      ]
    },
    {
      "cell_type": "code",
      "source": [
        "## Q3. Write a code to check if a given string is a palindrome or not."
      ],
      "metadata": {
        "id": "dFqs9Ez7IRva"
      },
      "execution_count": null,
      "outputs": []
    },
    {
      "cell_type": "code",
      "source": [
        "def is_palindrome(input_string):\n",
        "    input_string = input_string.replace(\" \", \"\").lower()\n",
        "    return input_string == input_string[::-1]\n",
        "input_string = \"A man, a plan, a canal, Panama\"\n",
        "result = is_palindrome(input_string)\n",
        "if result:\n",
        "    print(\"The string is a palindrome.\")\n",
        "else:\n",
        "    print(\"The string is not a palindrome.\")\n"
      ],
      "metadata": {
        "colab": {
          "base_uri": "https://localhost:8080/"
        },
        "id": "nMxHHne9I0Gc",
        "outputId": "c57d9087-76e2-4907-9976-faf45cc24978"
      },
      "execution_count": null,
      "outputs": [
        {
          "output_type": "stream",
          "name": "stdout",
          "text": [
            "The string is not a palindrome.\n"
          ]
        }
      ]
    },
    {
      "cell_type": "code",
      "source": [
        "## Q4. write a code to check if two strings are anagrams of each other."
      ],
      "metadata": {
        "id": "Khnz8OxII-O0"
      },
      "execution_count": null,
      "outputs": []
    },
    {
      "cell_type": "code",
      "source": [
        "def are_anagrams(str1, str2):\n",
        "    str1 = str1.replace(\" \", \"\").lower()\n",
        "    str2 = str2.replace(\" \", \"\").lower()\n",
        "    return sorted(str1) == sorted(str2)\n",
        "string1 = \"listen\"\n",
        "string2 = \"silent\"\n",
        "if are_anagrams(string1, string2):\n",
        "    print(\"The strings are anagrams.\")\n",
        "else:\n",
        "    print(\"The strings are not anagrams.\")\n"
      ],
      "metadata": {
        "id": "Bx1oEYrsJVgK",
        "colab": {
          "base_uri": "https://localhost:8080/"
        },
        "outputId": "1944d024-fc3a-45e8-b4f5-20588ad901de"
      },
      "execution_count": null,
      "outputs": [
        {
          "output_type": "stream",
          "name": "stdout",
          "text": [
            "The strings are anagrams.\n"
          ]
        }
      ]
    },
    {
      "cell_type": "code",
      "source": [
        "## Q5. Write a code to find all occurrences of given substring within another string."
      ],
      "metadata": {
        "id": "iq3COI_aKWIv"
      },
      "execution_count": null,
      "outputs": []
    },
    {
      "cell_type": "code",
      "source": [
        "def find_all_occurrences(main_string, sub_string):\n",
        "    occurrences = []\n",
        "    start_index = 0\n",
        "\n",
        "    while True:\n",
        "        index = main_string.find(sub_string, start_index)\n",
        "        if index == -1:\n",
        "            break\n",
        "        occurrences.append(index)\n",
        "        start_index = index + 1\n",
        "\n",
        "    return occurrences\n",
        "main_string = \"hello, hello, world, hello\"\n",
        "sub_string = \"hello\"\n",
        "print(\"Occurrences of '{}' in '{}':\".format(sub_string, main_string))\n",
        "print(find_all_occurrences(main_string, sub_string))\n"
      ],
      "metadata": {
        "id": "fiEAkaPfK-eP",
        "colab": {
          "base_uri": "https://localhost:8080/"
        },
        "outputId": "f6c8b507-7f85-41a8-ec3c-52ffd9564bd4"
      },
      "execution_count": null,
      "outputs": [
        {
          "output_type": "stream",
          "name": "stdout",
          "text": [
            "Occurrences of 'hello' in 'hello, hello, world, hello':\n",
            "[0, 7, 21]\n"
          ]
        }
      ]
    },
    {
      "cell_type": "code",
      "source": [
        "##  Q6. Write a code to perform basic string compression using the counts of repeated characters."
      ],
      "metadata": {
        "id": "uf2h64CmLOLQ"
      },
      "execution_count": null,
      "outputs": []
    },
    {
      "cell_type": "code",
      "source": [
        "from itertools import groupby\n",
        "def encode_str(input_str):\n",
        "    return [(len(list(n)), m) for m,n in groupby(input_str)]\n",
        "\n",
        "str1 = \"AAASSSSKKIOOOORRRREEETTTTAAAABBBBBBDDDDD\"\n",
        "print(\"Original string:\")\n",
        "print(str1)\n",
        "print(\"Result:\")\n",
        "print(encode_str(str1))\n",
        "\n",
        "str1 = \"jjjjiiiiooooosssnssiiiiwwwweeeaaaabbbddddkkkklll\"\n",
        "print(\"\\nOriginal string:\")\n",
        "print(str1)\n",
        "print(\"Result:\")\n",
        "print(encode_str(str1))\n"
      ],
      "metadata": {
        "colab": {
          "base_uri": "https://localhost:8080/"
        },
        "id": "VsMn-tyPPn8o",
        "outputId": "822c8775-5fac-406d-c7de-072d0547cd04"
      },
      "execution_count": null,
      "outputs": [
        {
          "output_type": "stream",
          "name": "stdout",
          "text": [
            "Original string:\n",
            "AAASSSSKKIOOOORRRREEETTTTAAAABBBBBBDDDDD\n",
            "Result:\n",
            "[(3, 'A'), (4, 'S'), (2, 'K'), (1, 'I'), (4, 'O'), (4, 'R'), (3, 'E'), (4, 'T'), (4, 'A'), (6, 'B'), (5, 'D')]\n",
            "\n",
            "Original string:\n",
            "jjjjiiiiooooosssnssiiiiwwwweeeaaaabbbddddkkkklll\n",
            "Result:\n",
            "[(4, 'j'), (4, 'i'), (5, 'o'), (3, 's'), (1, 'n'), (2, 's'), (4, 'i'), (4, 'w'), (3, 'e'), (4, 'a'), (3, 'b'), (4, 'd'), (4, 'k'), (3, 'l')]\n"
          ]
        }
      ]
    },
    {
      "cell_type": "code",
      "source": [
        "## Q7. write a program to determine if string has all unique characters"
      ],
      "metadata": {
        "id": "3ztBVNBvP3fc"
      },
      "execution_count": null,
      "outputs": []
    },
    {
      "cell_type": "code",
      "source": [
        "def has_unique_characters(input_string):\n",
        "    seen_characters = set()\n",
        "\n",
        "    for char in input_string:\n",
        "        if char in seen_characters:\n",
        "            return False\n",
        "        seen_characters.add(char)\n",
        "\n",
        "    return True\n",
        "input_string = \"abcdefg\"\n",
        "if has_unique_characters(input_string):\n",
        "    print(\"The string has all unique characters.\")\n",
        "else:\n",
        "    print(\"The string does not have all unique characters.\")\n"
      ],
      "metadata": {
        "colab": {
          "base_uri": "https://localhost:8080/"
        },
        "id": "BV186rR1QFfg",
        "outputId": "d134b09a-4dac-46fc-e362-ab2e12bc68bc"
      },
      "execution_count": null,
      "outputs": [
        {
          "output_type": "stream",
          "name": "stdout",
          "text": [
            "The string has all unique characters.\n"
          ]
        }
      ]
    },
    {
      "cell_type": "code",
      "source": [
        "## Q8. write a code to convert a given string to uppercase or lowercase."
      ],
      "metadata": {
        "id": "r8sgQsM5Qhyt"
      },
      "execution_count": null,
      "outputs": []
    },
    {
      "cell_type": "code",
      "source": [
        "def convert_to_uppercase(input_string):\n",
        "    return input_string.upper()\n",
        "\n",
        "def convert_to_lowercase(input_string):\n",
        "    return input_string.lower()\n",
        "input_string = \"Hello, World!\"\n",
        "uppercased_string = convert_to_uppercase(input_string)\n",
        "lowercased_string = convert_to_lowercase(input_string)\n",
        "\n",
        "print(\"Original String:\", input_string)\n",
        "print(\"Uppercased String:\", uppercased_string)\n",
        "print(\"Lowercased String:\", lowercased_string)\n"
      ],
      "metadata": {
        "colab": {
          "base_uri": "https://localhost:8080/"
        },
        "id": "9JvnVLCwQ2qU",
        "outputId": "54f03d14-b8b5-44b2-e93e-4c4745f3e41d"
      },
      "execution_count": null,
      "outputs": [
        {
          "output_type": "stream",
          "name": "stdout",
          "text": [
            "Original String: Hello, World!\n",
            "Uppercased String: HELLO, WORLD!\n",
            "Lowercased String: hello, world!\n"
          ]
        }
      ]
    },
    {
      "cell_type": "code",
      "source": [
        "## Q9. Write a code to count the number of words in a string"
      ],
      "metadata": {
        "id": "QN5hwctiQ_1v"
      },
      "execution_count": null,
      "outputs": []
    },
    {
      "cell_type": "code",
      "source": [
        "def count_words(input_string):\n",
        "    words = input_string.split()\n",
        "    return len(words)\n",
        "input_string = \"Hello, how are you?\"\n",
        "num_words = count_words(input_string)\n",
        "print(\"Number of words in the string:\", num_words)\n"
      ],
      "metadata": {
        "colab": {
          "base_uri": "https://localhost:8080/"
        },
        "id": "4uHzFwUsRM4h",
        "outputId": "2f288693-61f4-4297-f89d-8194a28cd239"
      },
      "execution_count": null,
      "outputs": [
        {
          "output_type": "stream",
          "name": "stdout",
          "text": [
            "Number of words in the string: 4\n"
          ]
        }
      ]
    },
    {
      "cell_type": "code",
      "source": [
        "## Q10. Write a code to concatenate two string without usng the +operator."
      ],
      "metadata": {
        "id": "6Sk4j1bERdye"
      },
      "execution_count": null,
      "outputs": []
    },
    {
      "cell_type": "code",
      "source": [
        "def concatenate_strings(string1, string2):\n",
        "    return \"%s%s\" % (string1, string2)\n",
        "string1 = \"Hello, \"\n",
        "string2 = \"world!\"\n",
        "concatenated_string = concatenate_strings(string1, string2)\n",
        "print(\"Concatenated string:\", concatenated_string)\n"
      ],
      "metadata": {
        "colab": {
          "base_uri": "https://localhost:8080/"
        },
        "id": "K77K0UWwR35Q",
        "outputId": "ec134f8e-e2a0-4441-bcd4-48e501d965d1"
      },
      "execution_count": null,
      "outputs": [
        {
          "output_type": "stream",
          "name": "stdout",
          "text": [
            "Concatenated string: Hello, world!\n"
          ]
        }
      ]
    },
    {
      "cell_type": "code",
      "source": [
        "## Q11. write a code to remove all occurrence of specific element from a list"
      ],
      "metadata": {
        "id": "NWQRkIxZSMAC"
      },
      "execution_count": null,
      "outputs": []
    },
    {
      "cell_type": "code",
      "source": [
        "def remove_element(lst, element):\n",
        "    while element in lst:\n",
        "        lst.remove(element)\n",
        "    return lst\n",
        "original_list = [1, 2, 3, 4, 2, 5, 2]\n",
        "element_to_remove = 2\n",
        "new_list = remove_element(original_list, element_to_remove)\n",
        "print(\"Original List:\", original_list)\n",
        "print(\"Element to Remove:\", element_to_remove)\n",
        "print(\"List after removing element:\", new_list)\n"
      ],
      "metadata": {
        "colab": {
          "base_uri": "https://localhost:8080/"
        },
        "id": "tDVVMk_RSSOg",
        "outputId": "99260f63-d4b3-4a70-fb96-75403baada0e"
      },
      "execution_count": null,
      "outputs": [
        {
          "output_type": "stream",
          "name": "stdout",
          "text": [
            "Original List: [1, 3, 4, 5]\n",
            "Element to Remove: 2\n",
            "List after removing element: [1, 3, 4, 5]\n"
          ]
        }
      ]
    },
    {
      "cell_type": "code",
      "source": [
        "## Q12. implement a code to find the second largest number in a given list of integers."
      ],
      "metadata": {
        "id": "jxfe16LLTEF7"
      },
      "execution_count": null,
      "outputs": []
    },
    {
      "cell_type": "code",
      "source": [
        "def find_second_largest(numbers):\n",
        "    sorted_numbers = sorted(numbers)\n",
        "    return sorted_numbers[-2]\n",
        "numbers = [10, 20, 15, 30, 25]\n",
        "second_largest = find_second_largest(numbers)\n",
        "print(\"Second largest number:\", second_largest)\n"
      ],
      "metadata": {
        "colab": {
          "base_uri": "https://localhost:8080/"
        },
        "id": "HioZeC0ETTrS",
        "outputId": "9a8d5ab9-a107-4a06-f2f1-da950f9e8505"
      },
      "execution_count": null,
      "outputs": [
        {
          "output_type": "stream",
          "name": "stdout",
          "text": [
            "Second largest number: 25\n"
          ]
        }
      ]
    },
    {
      "cell_type": "code",
      "source": [
        "## Q13. create a code to count the occurrence of each element in a list and return a dictionary keys and their count as values."
      ],
      "metadata": {
        "id": "6tyEpxxmTiL-"
      },
      "execution_count": null,
      "outputs": []
    },
    {
      "cell_type": "code",
      "source": [
        "def count_occurrences(lst):\n",
        "    occurrences = {}\n",
        "\n",
        "    for item in lst:\n",
        "        if item in occurrences:\n",
        "            occurrences[item] += 1\n",
        "        else:\n",
        "            occurrences[item] = 1\n",
        "\n",
        "    return occurrences\n",
        "my_list = [1, 2, 3, 4, 2, 3, 1, 2, 5]\n",
        "occurrences_dict = count_occurrences(my_list)\n",
        "print(\"Occurrences of each element:\")\n",
        "print(occurrences_dict)\n"
      ],
      "metadata": {
        "colab": {
          "base_uri": "https://localhost:8080/"
        },
        "id": "U0CogsTIUTkT",
        "outputId": "ff710c0d-61e7-47d8-98fb-1518f41873ad"
      },
      "execution_count": null,
      "outputs": [
        {
          "output_type": "stream",
          "name": "stdout",
          "text": [
            "Occurrences of each element:\n",
            "{1: 2, 2: 3, 3: 2, 4: 1, 5: 1}\n"
          ]
        }
      ]
    },
    {
      "cell_type": "code",
      "source": [
        "## Q14.write a code to reverse a list in place without using any built in reverse function."
      ],
      "metadata": {
        "id": "CykMKhfjUZFB"
      },
      "execution_count": null,
      "outputs": []
    },
    {
      "cell_type": "code",
      "source": [
        "def reverse_list_in_place(lst):\n",
        "    start_index = 0\n",
        "    end_index = len(lst) - 1\n",
        "\n",
        "    while start_index < end_index:\n",
        "        lst[start_index], lst[end_index] = lst[end_index], lst[start_index]\n",
        "        start_index += 1\n",
        "        end_index -= 1\n",
        "my_list = [1, 2, 3, 4, 5]\n",
        "print(\"Original List:\", my_list)\n",
        "reverse_list_in_place(my_list)\n",
        "print(\"Reversed List:\", my_list)\n"
      ],
      "metadata": {
        "colab": {
          "base_uri": "https://localhost:8080/"
        },
        "id": "FpOICB6MU6V8",
        "outputId": "77cb0c45-dce5-4465-ff21-b35ab0df54ab"
      },
      "execution_count": null,
      "outputs": [
        {
          "output_type": "stream",
          "name": "stdout",
          "text": [
            "Original List: [1, 2, 3, 4, 5]\n",
            "Reversed List: [5, 4, 3, 2, 1]\n"
          ]
        }
      ]
    },
    {
      "cell_type": "code",
      "source": [
        "## Q15. Implement a code to find and remove duplicates from a list while preserving the original order of elements."
      ],
      "metadata": {
        "id": "9g2GV3jlVBFj"
      },
      "execution_count": null,
      "outputs": []
    },
    {
      "cell_type": "code",
      "source": [
        "def remove_duplicates_preserve_order(lst):\n",
        "    seen = set()\n",
        "    unique_elements = []\n",
        "\n",
        "    for item in lst:\n",
        "        if item not in seen:\n",
        "            seen.add(item)\n",
        "            unique_elements.append(item)\n",
        "\n",
        "    return unique_elements\n",
        "original_list = [1, 2, 3, 1, 4, 2, 5, 6, 4]\n",
        "unique_elements = remove_duplicates_preserve_order(original_list)\n",
        "print(\"Original List:\", original_list)\n",
        "print(\"List with duplicates removed while preserving order:\", unique_elements)\n"
      ],
      "metadata": {
        "colab": {
          "base_uri": "https://localhost:8080/"
        },
        "id": "HjOl8KNTVcwV",
        "outputId": "cefd1728-02e6-4339-9fab-a3c88cd713dc"
      },
      "execution_count": null,
      "outputs": [
        {
          "output_type": "stream",
          "name": "stdout",
          "text": [
            "Original List: [1, 2, 3, 1, 4, 2, 5, 6, 4]\n",
            "List with duplicates removed while preserving order: [1, 2, 3, 4, 5, 6]\n"
          ]
        }
      ]
    },
    {
      "cell_type": "code",
      "source": [
        "## Q16. create a code to check if a given list is sorted (either A or D) or Not."
      ],
      "metadata": {
        "id": "Wne1u660VlQF"
      },
      "execution_count": null,
      "outputs": []
    },
    {
      "cell_type": "code",
      "source": [
        "def is_sorted(lst):\n",
        "    if all(lst[i] <= lst[i+1] for i in range(len(lst)-1)):\n",
        "        return \"Ascending\"\n",
        "    elif all(lst[i] >= lst[i+1] for i in range(len(lst)-1)):\n",
        "        return \"Descending\"\n",
        "    else:\n",
        "        return \"Not Sorted\"\n",
        "ascending_list = [1, 2, 3, 4, 5]\n",
        "descending_list = [5, 4, 3, 2, 1]\n",
        "unsorted_list = [3, 2, 5, 1, 4]\n",
        "\n",
        "print(\"Ascending List:\", is_sorted(ascending_list))\n",
        "print(\"Descending List:\", is_sorted(descending_list))\n",
        "print(\"Unsorted List:\", is_sorted(unsorted_list))\n"
      ],
      "metadata": {
        "colab": {
          "base_uri": "https://localhost:8080/"
        },
        "id": "u3GQFPqiVlMs",
        "outputId": "5c60960a-52d1-4ee7-cf5b-584d0d83896a"
      },
      "execution_count": null,
      "outputs": [
        {
          "output_type": "stream",
          "name": "stdout",
          "text": [
            "Ascending List: Ascending\n",
            "Descending List: Descending\n",
            "Unsorted List: Not Sorted\n"
          ]
        }
      ]
    },
    {
      "cell_type": "code",
      "source": [
        "## Q17. write a code to merge two sorted lists into a single sorted lists."
      ],
      "metadata": {
        "id": "abcNcrhCVlKB"
      },
      "execution_count": null,
      "outputs": []
    },
    {
      "cell_type": "code",
      "source": [
        "def merge_sorted_lists(list1, list2):\n",
        "    merged_list = []\n",
        "    i = 0\n",
        "    j = 0\n",
        "\n",
        "    while i < len(list1) and j < len(list2):\n",
        "        if list1[i] <= list2[j]:\n",
        "            merged_list.append(list1[i])\n",
        "            i += 1\n",
        "        else:\n",
        "            merged_list.append(list2[j])\n",
        "            j += 1\n",
        "    while i < len(list1):\n",
        "        merged_list.append(list1[i])\n",
        "        i += 1\n",
        "    while j < len(list2):\n",
        "        merged_list.append(list2[j])\n",
        "        j += 1\n",
        "\n",
        "    return merged_list\n",
        "list1 = [1, 3, 5, 7, 9]\n",
        "list2 = [2, 4, 6, 8, 10]\n",
        "merged_list = merge_sorted_lists(list1, list2)\n",
        "print(\"Merged Sorted List:\", merged_list)\n"
      ],
      "metadata": {
        "colab": {
          "base_uri": "https://localhost:8080/"
        },
        "id": "XY863UyDVlHO",
        "outputId": "f7d4171d-498b-4747-d73c-a6487267b1ba"
      },
      "execution_count": null,
      "outputs": [
        {
          "output_type": "stream",
          "name": "stdout",
          "text": [
            "Merged Sorted List: [1, 2, 3, 4, 5, 6, 7, 8, 9, 10]\n"
          ]
        }
      ]
    },
    {
      "cell_type": "code",
      "source": [
        "##Q18 Implement a code to find the intersection of two given lists."
      ],
      "metadata": {
        "id": "ZoIjVf3fVlEa"
      },
      "execution_count": null,
      "outputs": []
    },
    {
      "cell_type": "code",
      "source": [
        "def intersection(list1, list2):\n",
        "    set1 = set(list1)\n",
        "    set2 = set(list2)\n",
        "    intersect = set1 & set2\n",
        "    intersect_list = list(intersect)\n",
        "\n",
        "    return intersect_list\n",
        "list1 = [1, 2, 3, 4, 5]\n",
        "list2 = [4, 5, 6, 7, 8]\n",
        "print(intersection(list1, list2))\n"
      ],
      "metadata": {
        "id": "ztJBM1o4Vk-q",
        "colab": {
          "base_uri": "https://localhost:8080/"
        },
        "outputId": "d577fde3-6832-4306-93dc-0495137672dc"
      },
      "execution_count": null,
      "outputs": [
        {
          "output_type": "stream",
          "name": "stdout",
          "text": [
            "[4, 5]\n"
          ]
        }
      ]
    },
    {
      "cell_type": "code",
      "source": [
        "##Q19 create a code to find the union of two lists without duplicates."
      ],
      "metadata": {
        "id": "E4GzkQNRVkwL"
      },
      "execution_count": null,
      "outputs": []
    },
    {
      "cell_type": "code",
      "source": [
        "def union(list1, list2):\n",
        "    set1 = set(list1)\n",
        "    set2 = set(list2)\n",
        "    union_set = set1 | set2\n",
        "    union_list = list(union_set)\n",
        "\n",
        "    return union_list\n",
        "list1 = [1, 2, 3, 4, 5]\n",
        "list2 = [4, 5, 6, 7, 8]\n",
        "print(union(list1, list2))\n"
      ],
      "metadata": {
        "colab": {
          "base_uri": "https://localhost:8080/"
        },
        "id": "RY--ab0q8a_5",
        "outputId": "5062f0f1-9bbf-4cca-d892-12404135a3f5"
      },
      "execution_count": null,
      "outputs": [
        {
          "output_type": "stream",
          "name": "stdout",
          "text": [
            "[1, 2, 3, 4, 5, 6, 7, 8]\n"
          ]
        }
      ]
    },
    {
      "cell_type": "code",
      "source": [
        "##Q20 write a code to shuffle a given list randomly without using any built in shuffle function."
      ],
      "metadata": {
        "id": "Rvrc3ZQi8a5K"
      },
      "execution_count": null,
      "outputs": []
    },
    {
      "cell_type": "code",
      "source": [
        "import random\n",
        "\n",
        "def shuffle_list(lst):\n",
        "    for i in range(len(lst) - 1, 0, -1):\n",
        "        j = random.randint(0, i)\n",
        "        lst[i], lst[j] = lst[j], lst[i]\n",
        "\n",
        "    return lst\n",
        "my_list = [1, 2, 3, 4, 5]\n",
        "shuffled_list = shuffle_list(my_list)\n",
        "print(shuffled_list)\n"
      ],
      "metadata": {
        "colab": {
          "base_uri": "https://localhost:8080/"
        },
        "id": "HEcEmr_D8a2Z",
        "outputId": "20c6d8a7-daa1-4f36-d606-dbcd8f3ce1f2"
      },
      "execution_count": null,
      "outputs": [
        {
          "output_type": "stream",
          "name": "stdout",
          "text": [
            "[5, 1, 2, 3, 4]\n"
          ]
        }
      ]
    },
    {
      "cell_type": "code",
      "source": [
        "##Q21. write a code that takes two tuples as input and return a new tuple containing element that are common to both input tuples."
      ],
      "metadata": {
        "id": "jUCUQfdO8ax8"
      },
      "execution_count": null,
      "outputs": []
    },
    {
      "cell_type": "code",
      "source": [
        "def common_elements(tuple1, tuple2):\n",
        "    set1 = set(tuple1)\n",
        "    set2 = set(tuple2)\n",
        "    common_set = set1.intersection(set2)\n",
        "    common_tuple = tuple(common_set)\n",
        "\n",
        "    return common_tuple\n",
        "tuple1 = (1, 2, 3, 4, 5)\n",
        "tuple2 = (4, 5, 6, 7, 8)\n",
        "result_tuple = common_elements(tuple1, tuple2)\n",
        "print(result_tuple)\n"
      ],
      "metadata": {
        "colab": {
          "base_uri": "https://localhost:8080/"
        },
        "id": "kf-fEos08aty",
        "outputId": "91687bc3-86e4-4350-a582-3b6a160166ac"
      },
      "execution_count": null,
      "outputs": [
        {
          "output_type": "stream",
          "name": "stdout",
          "text": [
            "(4, 5)\n"
          ]
        }
      ]
    },
    {
      "cell_type": "code",
      "source": [
        "##Q22 create a code that prompt the user to enter two sets of integers separated by common. then , print the intersection of these two sets."
      ],
      "metadata": {
        "id": "9JqoRhc1-Tyz"
      },
      "execution_count": null,
      "outputs": []
    },
    {
      "cell_type": "code",
      "source": [
        "def get_set_from_input():\n",
        "    input_str = input(\"Enter a set of integers separated by commas: \")\n",
        "    integer_list = [int(x) for x in input_str.split(',')]\n",
        "    return set(integer_list)\n",
        "\n",
        "def main():\n",
        "    print(\"Enter the first set of integers:\")\n",
        "    set1 = get_set_from_input()\n",
        "\n",
        "    print(\"\\nEnter the second set of integers:\")\n",
        "    set2 = get_set_from_input()\n",
        "    intersection_set = set1.intersection(set2)\n",
        "\n",
        "    print(\"\\nThe intersection of the two sets is:\", intersection_set)\n",
        "\n",
        "if __name__ == \"__main__\":\n",
        "    main()\n"
      ],
      "metadata": {
        "colab": {
          "base_uri": "https://localhost:8080/"
        },
        "id": "9hs1dZqA-xi4",
        "outputId": "a659a807-cb74-46f9-94e4-2281b3c049f2"
      },
      "execution_count": null,
      "outputs": [
        {
          "output_type": "stream",
          "name": "stdout",
          "text": [
            "Enter the first set of integers:\n",
            "Enter a set of integers separated by commas: 1,2\n",
            "\n",
            "Enter the second set of integers:\n",
            "Enter a set of integers separated by commas: 5,6\n",
            "\n",
            "The intersection of the two sets is: set()\n"
          ]
        }
      ]
    },
    {
      "cell_type": "code",
      "source": [
        "##Q23 Write a code to concatenate two tuples. the function should take two tuples as input and return a new tuple containing element from both input tuples."
      ],
      "metadata": {
        "id": "FkYB5tRL-0vf"
      },
      "execution_count": null,
      "outputs": []
    },
    {
      "cell_type": "code",
      "source": [
        "def concatenate_tuples(tuple1, tuple2):\n",
        "    concatenated_list = list(tuple1) + list(tuple2)\n",
        "    concatenated_tuple = tuple(concatenated_list)\n",
        "\n",
        "    return concatenated_tuple\n",
        "tuple1 = (1, 2, 3)\n",
        "tuple2 = (4, 5, 6)\n",
        "result_tuple = concatenate_tuples(tuple1, tuple2)\n",
        "print(result_tuple)\n"
      ],
      "metadata": {
        "colab": {
          "base_uri": "https://localhost:8080/"
        },
        "id": "WbGSwvvpALa3",
        "outputId": "5e8b9c25-9a9a-4b02-f1ae-d324ea868fad"
      },
      "execution_count": null,
      "outputs": [
        {
          "output_type": "stream",
          "name": "stdout",
          "text": [
            "(1, 2, 3, 4, 5, 6)\n"
          ]
        }
      ]
    },
    {
      "cell_type": "code",
      "source": [
        "##Q24 Develop a code that prompts the user to input two sets of string. Then, print the element that are present in the first set but not in the second set."
      ],
      "metadata": {
        "id": "a3NN1iyhAaag"
      },
      "execution_count": null,
      "outputs": []
    },
    {
      "cell_type": "code",
      "source": [
        "def get_set_from_input():\n",
        "    input_str = input(\"Enter a set of strings separated by commas: \")\n",
        "    string_list = input_str.split(',')\n",
        "    return set(string_list)\n",
        "\n",
        "def main():\n",
        "    print(\"Enter the first set of strings:\")\n",
        "    set1 = get_set_from_input()\n",
        "\n",
        "    print(\"\\nEnter the second set of strings:\")\n",
        "    set2 = get_set_from_input()\n",
        "    difference_set = set1 - set2\n",
        "\n",
        "    print(\"\\nElements present in the first set but not in the second set:\", difference_set)\n",
        "\n",
        "if __name__ == \"__main__\":\n",
        "    main()\n"
      ],
      "metadata": {
        "colab": {
          "base_uri": "https://localhost:8080/"
        },
        "id": "kR-8vDb1B9nc",
        "outputId": "f21f498e-208f-4fe8-99f5-9ddd675839f6"
      },
      "execution_count": null,
      "outputs": [
        {
          "output_type": "stream",
          "name": "stdout",
          "text": [
            "Enter the first set of strings:\n",
            "Enter a set of strings separated by commas: hdcbb6516\n",
            "\n",
            "Enter the second set of strings:\n",
            "Enter a set of strings separated by commas: jabceubiu61681\n",
            "\n",
            "Elements present in the first set but not in the second set: {'hdcbb6516'}\n"
          ]
        }
      ]
    },
    {
      "cell_type": "code",
      "source": [
        "##Q25. create a code that takes a tuple and two integers as input. The function should return a new tuple containing elements from the original tuple within the specified range of indices."
      ],
      "metadata": {
        "id": "BvJMKyIPCRjs"
      },
      "execution_count": null,
      "outputs": []
    },
    {
      "cell_type": "code",
      "source": [
        "def slice_tuple(original_tuple, start_index, end_index):\n",
        "    sliced_tuple = original_tuple[start_index:end_index + 1]\n",
        "    return tuple(sliced_tuple)\n",
        "original_tuple = (1, 2, 3, 4, 5, 6, 7, 8, 9)\n",
        "start_index = 2\n",
        "end_index = 5\n",
        "result_tuple = slice_tuple(original_tuple, start_index, end_index)\n",
        "print(result_tuple)\n"
      ],
      "metadata": {
        "colab": {
          "base_uri": "https://localhost:8080/"
        },
        "id": "pH-aAUzxCRbr",
        "outputId": "7d76c834-e5c8-40c7-c0a9-0b019cef4cb7"
      },
      "execution_count": null,
      "outputs": [
        {
          "output_type": "stream",
          "name": "stdout",
          "text": [
            "(3, 4, 5, 6)\n"
          ]
        }
      ]
    },
    {
      "cell_type": "code",
      "source": [
        "## Q26. Write a code that prompts the user to input two sets of characters. Then, print the union of these two sets."
      ],
      "metadata": {
        "id": "YxoI8Zf6CRX-"
      },
      "execution_count": null,
      "outputs": []
    },
    {
      "cell_type": "code",
      "source": [
        "def get_set_from_input():\n",
        "    input_str = input(\"Enter a set of characters: \")\n",
        "    char_set = set(input_str)\n",
        "    return char_set\n",
        "\n",
        "def main():\n",
        "    print(\"Enter the first set of characters:\")\n",
        "    set1 = get_set_from_input()\n",
        "\n",
        "    print(\"\\nEnter the second set of characters:\")\n",
        "    set2 = get_set_from_input()\n",
        "    union_set = set1.union(set2)\n",
        "\n",
        "    print(\"\\nThe union of the two sets is:\", union_set)\n",
        "\n",
        "if __name__ == \"__main__\":\n",
        "    main()\n"
      ],
      "metadata": {
        "colab": {
          "base_uri": "https://localhost:8080/"
        },
        "id": "bITdtZtECRVa",
        "outputId": "1024b29f-136d-4675-aa9b-5f281ff659a8"
      },
      "execution_count": null,
      "outputs": [
        {
          "output_type": "stream",
          "name": "stdout",
          "text": [
            "Enter the first set of characters:\n",
            "Enter a set of characters: simran\n",
            "\n",
            "Enter the second set of characters:\n",
            "Enter a set of characters: kanhiyya\n",
            "\n",
            "The union of the two sets is: {'k', 'm', 'r', 'h', 's', 'n', 'i', 'y', 'a'}\n"
          ]
        }
      ]
    },
    {
      "cell_type": "code",
      "source": [
        "##Q27 Develop a code that takes a tuple of integers as input. The function should return maximum and minimum values from the tuple using tuple unpacking."
      ],
      "metadata": {
        "id": "5Fq9A_nMCRBN"
      },
      "execution_count": null,
      "outputs": []
    },
    {
      "cell_type": "code",
      "source": [
        "def find_max_min(input_tuple):\n",
        "    max_val = max(input_tuple)\n",
        "    min_val = min(input_tuple)\n",
        "    return max_val, min_val\n",
        "input_tuple = (3, 1, 7, 2, 8, 4, 5)\n",
        "max_val, min_val = find_max_min(input_tuple)\n",
        "print(\"Maximum value:\", max_val)\n",
        "print(\"Minimum value:\", min_val)\n"
      ],
      "metadata": {
        "colab": {
          "base_uri": "https://localhost:8080/"
        },
        "id": "eZyeawf8EJvR",
        "outputId": "fe19b108-3638-4eda-9c5c-3d813820f305"
      },
      "execution_count": null,
      "outputs": [
        {
          "output_type": "stream",
          "name": "stdout",
          "text": [
            "Maximum value: 8\n",
            "Minimum value: 1\n"
          ]
        }
      ]
    },
    {
      "cell_type": "code",
      "source": [
        "##Q28 create a code that define two sets of integers. Then, Print the union, intersection and difference of these two sets."
      ],
      "metadata": {
        "id": "jBB9DIgQEJsi"
      },
      "execution_count": null,
      "outputs": []
    },
    {
      "cell_type": "code",
      "source": [
        "def main():\n",
        "    set1 = {1, 2, 3, 4, 5}\n",
        "    set2 = {4, 5, 6, 7, 8}\n",
        "    print(\"Set 1:\", set1)\n",
        "    print(\"Set 2:\", set2)\n",
        "    print(\"\\nUnion of Set 1 and Set 2:\", set1.union(set2))\n",
        "    print(\"Intersection of Set 1 and Set 2:\", set1.intersection(set2))\n",
        "    print(\"Difference of Set 1 - Set 2:\", set1.difference(set2))\n",
        "    print(\"Difference of Set 2 - Set 1:\", set2.difference(set1))\n",
        "\n",
        "if __name__ == \"__main__\":\n",
        "    main()\n"
      ],
      "metadata": {
        "colab": {
          "base_uri": "https://localhost:8080/"
        },
        "id": "h6XSq8OgEJpZ",
        "outputId": "5932cbc5-4a70-45d2-8bd9-9c941203fa19"
      },
      "execution_count": null,
      "outputs": [
        {
          "output_type": "stream",
          "name": "stdout",
          "text": [
            "Set 1: {1, 2, 3, 4, 5}\n",
            "Set 2: {4, 5, 6, 7, 8}\n",
            "\n",
            "Union of Set 1 and Set 2: {1, 2, 3, 4, 5, 6, 7, 8}\n",
            "Intersection of Set 1 and Set 2: {4, 5}\n",
            "Difference of Set 1 - Set 2: {1, 2, 3}\n",
            "Difference of Set 2 - Set 1: {8, 6, 7}\n"
          ]
        }
      ]
    },
    {
      "cell_type": "code",
      "source": [
        "##Q29 Write a code that takes a tuple and an element as input.The function should return the count of occurance of given element in the tuple."
      ],
      "metadata": {
        "id": "q3oA36q4EJmg"
      },
      "execution_count": null,
      "outputs": []
    },
    {
      "cell_type": "code",
      "source": [
        "def count_occurrences(input_tuple, element):\n",
        "    return input_tuple.count(element)\n",
        "input_tuple = (1, 2, 3, 4, 4, 5,4,4)\n",
        "element = 4\n",
        "occurrences = count_occurrences(input_tuple, element)\n",
        "print(\"Number of occurrences of\", element, \"in the tuple:\", occurrences)\n",
        "\n"
      ],
      "metadata": {
        "colab": {
          "base_uri": "https://localhost:8080/"
        },
        "id": "2oU5YA8EEJka",
        "outputId": "b90b2a38-3626-4a70-e5b2-a464e359cc41"
      },
      "execution_count": null,
      "outputs": [
        {
          "output_type": "stream",
          "name": "stdout",
          "text": [
            "Number of occurrences of 4 in the tuple: 4\n"
          ]
        }
      ]
    },
    {
      "cell_type": "code",
      "source": [
        "##30 Develop a code that prompts the user to input two sets of strings. Then, print the symmetric difference of these two sets."
      ],
      "metadata": {
        "id": "aRpyUFbSEJhS"
      },
      "execution_count": null,
      "outputs": []
    },
    {
      "cell_type": "code",
      "source": [
        "def get_set_from_input():\n",
        "    input_str = input(\"Enter a set of strings separated by commas: \")\n",
        "    string_list = input_str.split(',')\n",
        "    return set(string_list)\n",
        "\n",
        "def main():\n",
        "    print(\"Enter the first set of strings:\")\n",
        "    set1 = get_set_from_input()\n",
        "\n",
        "    print(\"\\nEnter the second set of strings:\")\n",
        "    set2 = get_set_from_input()\n",
        "    sym_diff_set = set1.symmetric_difference(set2)\n",
        "\n",
        "    print(\"\\nThe symmetric difference of the two sets is:\", sym_diff_set)\n",
        "\n",
        "if __name__ == \"__main__\":\n",
        "    main()\n"
      ],
      "metadata": {
        "colab": {
          "base_uri": "https://localhost:8080/"
        },
        "id": "WZ9RZykUF9YV",
        "outputId": "1a415bce-2ea5-4192-9aeb-611549377228"
      },
      "execution_count": null,
      "outputs": [
        {
          "output_type": "stream",
          "name": "stdout",
          "text": [
            "Enter the first set of strings:\n",
            "Enter a set of strings separated by commas: a,s,d,f,g\n",
            "\n",
            "Enter the second set of strings:\n",
            "Enter a set of strings separated by commas: s,f,g,h,t,o\n",
            "\n",
            "The symmetric difference of the two sets is: {'o', 'd', 't', 'h', 'a'}\n"
          ]
        }
      ]
    },
    {
      "cell_type": "code",
      "source": [
        "##Q31 write a code that makes a list of words as input and returns a dictionary where the keys are the unique words and the values are the frequencies of those words in the input list."
      ],
      "metadata": {
        "id": "oSZ6Z5m_GI6U"
      },
      "execution_count": null,
      "outputs": []
    },
    {
      "cell_type": "code",
      "source": [
        "def word_frequency(input_list):\n",
        "    word_freq_dict = {}\n",
        "    for word in input_list:\n",
        "        if word in word_freq_dict:\n",
        "            word_freq_dict[word] += 1\n",
        "        else:\n",
        "            word_freq_dict[word] = 1\n",
        "    return word_freq_dict\n",
        "input_list = [\"apple\", \"banana\", \"apple\", \"orange\", \"banana\", \"banana\"]\n",
        "result_dict = word_frequency(input_list)\n",
        "print(\"Word frequency dictionary:\", result_dict)\n"
      ],
      "metadata": {
        "colab": {
          "base_uri": "https://localhost:8080/"
        },
        "id": "UN_2NsjGGI29",
        "outputId": "bbeffcf4-7730-41cc-a0b8-516565aa1905"
      },
      "execution_count": null,
      "outputs": [
        {
          "output_type": "stream",
          "name": "stdout",
          "text": [
            "Word frequency dictionary: {'apple': 2, 'banana': 3, 'orange': 1}\n"
          ]
        }
      ]
    },
    {
      "cell_type": "code",
      "source": [
        "##Q32 Write a code that takes two dictionaries as input and merges them into a single dictionary. if there are common keys, the values should be added together."
      ],
      "metadata": {
        "id": "0d62it8IGI08"
      },
      "execution_count": null,
      "outputs": []
    },
    {
      "cell_type": "code",
      "source": [
        "def merge_dicts(dict1, dict2):\n",
        "    merged_dict = dict1.copy()\n",
        "    for key, value in dict2.items():\n",
        "        if key in merged_dict\n",
        "            merged_dict[key] += value\n",
        "        else:\n",
        "            merged_dict[key] = value\n",
        "\n",
        "    return merged_dict\n",
        "dict1 = {\"apple\": 2, \"banana\": 3, \"orange\": 1}\n",
        "dict2 = {\"banana\": 1, \"kiwi\": 4, \"orange\": 2}\n",
        "result_dict = merge_dicts(dict1, dict2)\n",
        "print(\"Merged dictionary:\", result_dict)\n"
      ],
      "metadata": {
        "colab": {
          "base_uri": "https://localhost:8080/"
        },
        "id": "hb0idRR5GIyu",
        "outputId": "41d751d3-bbaa-4200-f29b-43a46b214d3f"
      },
      "execution_count": null,
      "outputs": [
        {
          "output_type": "stream",
          "name": "stdout",
          "text": [
            "Merged dictionary: {'apple': 2, 'banana': 4, 'orange': 3, 'kiwi': 4}\n"
          ]
        }
      ]
    },
    {
      "cell_type": "code",
      "source": [
        "##Q33. write a code to access a value in nested dictionary. The function should take dictionary and a list of keys as input, and return the corresponding value. if any of the keys do not exist in the dictionary the function should return none."
      ],
      "metadata": {
        "id": "Jkgob6NQIlnn"
      },
      "execution_count": null,
      "outputs": []
    },
    {
      "cell_type": "code",
      "source": [
        "def access_nested_dict(input_dict, keys):\n",
        "    current_dict = input_dict\n",
        "    for key in keys:\n",
        "        if key in current_dict:\n",
        "            current_dict = current_dict[key]\n",
        "        else:\n",
        "            return None\n",
        "    return current_dict\n",
        "nested_dict = {\n",
        "    'a': {\n",
        "        'b': {\n",
        "            'c': 1,\n",
        "            'd': 2\n",
        "        },\n",
        "        'e': {\n",
        "            'f': 3\n",
        "        }\n",
        "    }\n",
        "}\n",
        "keys = ['a', 'b', 'd']\n",
        "value = access_nested_dict(nested_dict, keys)\n",
        "print(\"Value:\", value)\n"
      ],
      "metadata": {
        "colab": {
          "base_uri": "https://localhost:8080/"
        },
        "id": "hIXC8cLAIljP",
        "outputId": "aecd1b7a-e360-46f6-bdab-50c878c0e615"
      },
      "execution_count": null,
      "outputs": [
        {
          "output_type": "stream",
          "name": "stdout",
          "text": [
            "Value: 2\n"
          ]
        }
      ]
    },
    {
      "cell_type": "code",
      "source": [
        "##Q34 Write a code that takes a dictionary as input and returns a sorted version of it based on the values. you can choose whether to sort in ascending or descending order."
      ],
      "metadata": {
        "id": "44jn61fdIlW8"
      },
      "execution_count": null,
      "outputs": []
    },
    {
      "cell_type": "code",
      "source": [
        "def sort_dict_by_values(input_dict, reverse=False):\n",
        "    sorted_dict = dict(sorted(input_dict.items(), key=lambda item: item[1], reverse=reverse))\n",
        "    return sorted_dict\n",
        "input_dict = {\"apple\": 5, \"banana\": 3, \"orange\": 7, \"kiwi\": 2}\n",
        "sorted_dict_asc = sort_dict_by_values(input_dict)\n",
        "sorted_dict_desc = sort_dict_by_values(input_dict, reverse=True)\n",
        "\n",
        "print(\"Sorted dictionary (ascending order):\", sorted_dict_asc)\n",
        "print(\"Sorted dictionary (descending order):\", sorted_dict_desc)\n"
      ],
      "metadata": {
        "colab": {
          "base_uri": "https://localhost:8080/"
        },
        "id": "9LFciy1-IlRz",
        "outputId": "0e51bd4c-aa83-4e33-9054-0e7e4a803c2e"
      },
      "execution_count": null,
      "outputs": [
        {
          "output_type": "stream",
          "name": "stdout",
          "text": [
            "Sorted dictionary (ascending order): {'kiwi': 2, 'banana': 3, 'apple': 5, 'orange': 7}\n",
            "Sorted dictionary (descending order): {'orange': 7, 'apple': 5, 'banana': 3, 'kiwi': 2}\n"
          ]
        }
      ]
    },
    {
      "cell_type": "code",
      "source": [
        "##Q35 Write a code that inverts a dictionary, swapping keys and value. Ensure that the inverted dictionary correctly handles cases where multiple keys as a list in the inverted dictionary.\n"
      ],
      "metadata": {
        "id": "aYYLFP19KRkd"
      },
      "execution_count": null,
      "outputs": []
    },
    {
      "cell_type": "code",
      "source": [
        "from collections import defaultdict\n",
        "\n",
        "def invert_dictionary(input_dict):\n",
        "    inverted_dict = defaultdict(list)\n",
        "    for key, value in input_dict.items():\n",
        "        inverted_dict[value].append(key)\n",
        "    return dict(inverted_dict)\n",
        "input_dict = {\"a\": 1, \"b\": 2, \"c\": 1, \"d\": 3}\n",
        "inverted_dict = invert_dictionary(input_dict)\n",
        "print(\"Inverted dictionary:\", inverted_dict)\n"
      ],
      "metadata": {
        "colab": {
          "base_uri": "https://localhost:8080/"
        },
        "id": "QRrWoqKLKRhG",
        "outputId": "2477bfba-9440-43f5-da39-83eec0d0d5d6"
      },
      "execution_count": null,
      "outputs": [
        {
          "output_type": "stream",
          "name": "stdout",
          "text": [
            "Inverted dictionary: {1: ['a', 'c'], 2: ['b'], 3: ['d']}\n"
          ]
        }
      ]
    }
  ]
}